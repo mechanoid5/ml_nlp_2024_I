{
 "cells": [
  {
   "cell_type": "markdown",
   "id": "6edaadd8",
   "metadata": {},
   "source": [
    "**Грамматический анализатор**\n",
    "\n",
    "Евгений Борисов <esborisov@sevsu.ru>\n",
    "\n",
    "синтаксические парсеры зависимостей"
   ]
  },
  {
   "cell_type": "markdown",
   "id": "cf85d5db",
   "metadata": {},
   "source": [
    "---"
   ]
  },
  {
   "cell_type": "markdown",
   "id": "2bedb813",
   "metadata": {},
   "source": [
    "Александр Кукушкин   \n",
    "Проект Natasha. Набор качественных открытых инструментов для обработки естественного русского языка (NLP).      \n",
    "https://habr.com/ru/post/516098/\n",
    "\n",
    "\n",
    "https://nbviewer.org/github/natasha/natasha/blob/master/docs.ipynb\n",
    "\n",
    "\n",
    "https://github.com/natasha/natasha/"
   ]
  },
  {
   "cell_type": "markdown",
   "id": "da32913a",
   "metadata": {},
   "source": [
    "---"
   ]
  },
  {
   "cell_type": "code",
   "execution_count": 2,
   "id": "3398ff38",
   "metadata": {},
   "outputs": [],
   "source": [
    "from natasha import Doc\n",
    "\n",
    "text = ( \n",
    "'Он воротился из-за границы и блеснул в виде лектора'\n",
    "' на кафедре университета уже в самом конце сороковых годов.'\n",
    ")\n",
    "\n",
    "doc = Doc(text) # пакуем текст в контейнер"
   ]
  },
  {
   "cell_type": "code",
   "execution_count": 3,
   "id": "d1504534",
   "metadata": {},
   "outputs": [],
   "source": [
    "from natasha import Segmenter\n",
    "doc.segment(Segmenter()) # выполняем сегментацию на предложения"
   ]
  },
  {
   "cell_type": "code",
   "execution_count": 7,
   "id": "d7f95200",
   "metadata": {},
   "outputs": [
    {
     "name": "stdout",
     "output_type": "stream",
     "text": [
      "                  Он PRON|Case=Nom|Gender=Masc|Number=Sing|Person=3\n",
      "           воротился VERB|Aspect=Perf|Gender=Masc|Mood=Ind|Number=Sing|Tense=Past|VerbForm=Fin|Voice=Act\n",
      "               из-за ADP\n",
      "             границы NOUN|Animacy=Inan|Case=Gen|Gender=Fem|Number=Sing\n",
      "                   и CCONJ\n",
      "             блеснул VERB|Aspect=Perf|Gender=Masc|Mood=Ind|Number=Sing|Tense=Past|VerbForm=Fin|Voice=Mid\n",
      "                   в ADP\n",
      "                виде NOUN|Animacy=Inan|Case=Loc|Gender=Masc|Number=Sing\n",
      "             лектора NOUN|Animacy=Anim|Case=Gen|Gender=Masc|Number=Sing\n",
      "                  на ADP\n",
      "             кафедре NOUN|Animacy=Inan|Case=Loc|Gender=Fem|Number=Sing\n",
      "        университета NOUN|Animacy=Inan|Case=Gen|Gender=Masc|Number=Sing\n",
      "                 уже ADV|Degree=Pos\n",
      "                   в ADP\n",
      "               самом ADJ|Case=Loc|Degree=Pos|Gender=Masc|Number=Sing\n",
      "               конце NOUN|Animacy=Inan|Case=Loc|Gender=Masc|Number=Sing\n",
      "           сороковых ADJ|Case=Gen|Degree=Pos|Number=Plur\n",
      "               годов NOUN|Animacy=Inan|Case=Gen|Gender=Masc|Number=Plur\n",
      "                   . PUNCT\n"
     ]
    }
   ],
   "source": [
    "from natasha import NewsEmbedding\n",
    "from natasha import NewsMorphTagger\n",
    "\n",
    "# выполняем морфологический разбор\n",
    "doc.tag_morph( NewsMorphTagger(NewsEmbedding()))\n",
    "doc.sents[0].morph.print()"
   ]
  },
  {
   "cell_type": "code",
   "execution_count": 5,
   "id": "31d1195f",
   "metadata": {},
   "outputs": [
    {
     "name": "stdout",
     "output_type": "stream",
     "text": [
      "        ┌► Он           nsubj\n",
      "┌───┌─┌─└─ воротился    \n",
      "│   │ │ ┌► из-за        case\n",
      "│   │ └►└─ границы      obl\n",
      "│   │   ┌► и            cc\n",
      "│ ┌─└──►└─ блеснул      conj\n",
      "│ │ │ ┌►┌─ в            case\n",
      "│ │ │ │ └► виде         fixed\n",
      "│ │ └►└─── лектора      obl\n",
      "│ │ │   ┌► на           case\n",
      "│ │ └►┌─└─ кафедре      nmod\n",
      "│ │   └──► университета nmod\n",
      "│ │ ┌────► уже          advmod\n",
      "│ │ │ ┌──► в            case\n",
      "│ │ │ │ ┌► самом        amod\n",
      "│ └►└─└─└─ конце        obl\n",
      "│   │   ┌► сороковых    amod\n",
      "│   └──►└─ годов        nmod\n",
      "└────────► .            punct\n"
     ]
    }
   ],
   "source": [
    "from natasha import NewsEmbedding\n",
    "from natasha import NewsSyntaxParser\n",
    "\n",
    "# выполняем синтаксический разбор\n",
    "doc.parse_syntax(NewsSyntaxParser(NewsEmbedding()))\n",
    "doc.sents[0].syntax.print()"
   ]
  },
  {
   "cell_type": "code",
   "execution_count": null,
   "id": "40d636f3",
   "metadata": {},
   "outputs": [],
   "source": []
  }
 ],
 "metadata": {
  "kernelspec": {
   "display_name": "Python 3 (ipykernel)",
   "language": "python",
   "name": "python3"
  },
  "language_info": {
   "codemirror_mode": {
    "name": "ipython",
    "version": 3
   },
   "file_extension": ".py",
   "mimetype": "text/x-python",
   "name": "python",
   "nbconvert_exporter": "python",
   "pygments_lexer": "ipython3",
   "version": "3.11.7"
  },
  "toc": {
   "base_numbering": 1,
   "nav_menu": {},
   "number_sections": true,
   "sideBar": true,
   "skip_h1_title": false,
   "title_cell": "Table of Contents",
   "title_sidebar": "Contents",
   "toc_cell": false,
   "toc_position": {},
   "toc_section_display": true,
   "toc_window_display": false
  }
 },
 "nbformat": 4,
 "nbformat_minor": 5
}
