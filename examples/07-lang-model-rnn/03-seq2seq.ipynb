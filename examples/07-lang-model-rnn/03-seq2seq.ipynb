{
 "cells": [
  {
   "cell_type": "markdown",
   "id": "a35a1800",
   "metadata": {},
   "source": [
    "__Нейросетевая языковая модель на основе схемы Seq2Seq__\n",
    "\n",
    "Евгений Борисов esborisov@sevsu.ru"
   ]
  },
  {
   "cell_type": "markdown",
   "id": "5c8ef7c6",
   "metadata": {},
   "source": [
    "https://drive.google.com/file/d/166Msc4oTDy2wFWd5_VnuZES3dduvpMD1/view?usp=share_link"
   ]
  },
  {
   "cell_type": "code",
   "execution_count": 1,
   "id": "7af62010",
   "metadata": {},
   "outputs": [],
   "source": [
    "import numpy as np\n",
    "from numpy import random as rng\n",
    "import matplotlib.pyplot as plt\n",
    "import pandas as pd\n",
    "from tqdm.auto import tqdm\n",
    "\n",
    "tqdm.pandas()\n",
    "np.set_printoptions(precision=2)"
   ]
  },
  {
   "cell_type": "markdown",
   "id": "609b48bd",
   "metadata": {},
   "source": [
    "# загружаем данные"
   ]
  },
  {
   "cell_type": "code",
   "execution_count": 2,
   "id": "a7b30e69",
   "metadata": {},
   "outputs": [],
   "source": [
    "# %%time \n",
    "\n",
    "# import zipfile\n",
    "# import requests\n",
    "# from io import StringIO,BytesIO\n",
    "\n",
    "# file_id = '166Msc4oTDy2wFWd5_VnuZES3dduvpMD1'\n",
    "# url = f'https://drive.google.com/uc?id={file_id}'\n",
    "\n",
    "# with requests.get(url,stream=True) as r:\n",
    "#     with zipfile.ZipFile(BytesIO(r.content)) as z:\n",
    "#         with z.open('Rus-Eng-small.tsv') as f:\n",
    "#             df = pd.read_csv( \n",
    "#                 StringIO( str(f.read(),encoding='utf-8' )[1:] ), \n",
    "#                 sep='\\t',\n",
    "#                 header=None,\n",
    "#                 names=['N_Rus','Rus','N_Eng','Eng'] \n",
    "#             )\n"
   ]
  },
  {
   "cell_type": "code",
   "execution_count": 3,
   "id": "0d0c70ee",
   "metadata": {},
   "outputs": [],
   "source": [
    "# !ls tmp/data"
   ]
  },
  {
   "cell_type": "code",
   "execution_count": 4,
   "id": "cbd8a5b1",
   "metadata": {},
   "outputs": [
    {
     "data": {
      "text/plain": [
       "200000"
      ]
     },
     "metadata": {},
     "output_type": "display_data"
    },
    {
     "name": "stdout",
     "output_type": "stream",
     "text": [
      "<class 'pandas.core.frame.DataFrame'>\n",
      "RangeIndex: 200000 entries, 0 to 199999\n",
      "Data columns (total 4 columns):\n",
      " #   Column  Non-Null Count   Dtype \n",
      "---  ------  --------------   ----- \n",
      " 0   N_Rus   200000 non-null  int64 \n",
      " 1   Rus     200000 non-null  object\n",
      " 2   N_Eng   200000 non-null  int64 \n",
      " 3   Eng     200000 non-null  object\n",
      "dtypes: int64(2), object(2)\n",
      "memory usage: 6.1+ MB\n"
     ]
    },
    {
     "data": {
      "text/plain": [
       "None"
      ]
     },
     "metadata": {},
     "output_type": "display_data"
    },
    {
     "data": {
      "text/html": [
       "<div>\n",
       "<style scoped>\n",
       "    .dataframe tbody tr th:only-of-type {\n",
       "        vertical-align: middle;\n",
       "    }\n",
       "\n",
       "    .dataframe tbody tr th {\n",
       "        vertical-align: top;\n",
       "    }\n",
       "\n",
       "    .dataframe thead th {\n",
       "        text-align: right;\n",
       "    }\n",
       "</style>\n",
       "<table border=\"1\" class=\"dataframe\">\n",
       "  <thead>\n",
       "    <tr style=\"text-align: right;\">\n",
       "      <th></th>\n",
       "      <th>N_Rus</th>\n",
       "      <th>Rus</th>\n",
       "      <th>N_Eng</th>\n",
       "      <th>Eng</th>\n",
       "    </tr>\n",
       "  </thead>\n",
       "  <tbody>\n",
       "    <tr>\n",
       "      <th>118720</th>\n",
       "      <td>3326921</td>\n",
       "      <td>Ты принял взятку или нет?</td>\n",
       "      <td>326581</td>\n",
       "      <td>Did you or did you not accept the bribe?</td>\n",
       "    </tr>\n",
       "    <tr>\n",
       "      <th>67149</th>\n",
       "      <td>2580252</td>\n",
       "      <td>Я повстречала Тома на вечеринке.</td>\n",
       "      <td>2387132</td>\n",
       "      <td>I met Tom at a party.</td>\n",
       "    </tr>\n",
       "    <tr>\n",
       "      <th>105014</th>\n",
       "      <td>3073036</td>\n",
       "      <td>Она не прочитала книгу.</td>\n",
       "      <td>311418</td>\n",
       "      <td>She did not read the book.</td>\n",
       "    </tr>\n",
       "    <tr>\n",
       "      <th>197061</th>\n",
       "      <td>4347525</td>\n",
       "      <td>Не забудь написать индекс.</td>\n",
       "      <td>4198352</td>\n",
       "      <td>Don't forget to write the zip code.</td>\n",
       "    </tr>\n",
       "    <tr>\n",
       "      <th>99567</th>\n",
       "      <td>3010668</td>\n",
       "      <td>Вы уезжаете этим летом?</td>\n",
       "      <td>60186</td>\n",
       "      <td>Are you going away this summer?</td>\n",
       "    </tr>\n",
       "    <tr>\n",
       "      <th>49579</th>\n",
       "      <td>2264189</td>\n",
       "      <td>Не ведите себя как ребёнок.</td>\n",
       "      <td>2264188</td>\n",
       "      <td>Don't act like a child.</td>\n",
       "    </tr>\n",
       "    <tr>\n",
       "      <th>106962</th>\n",
       "      <td>3096457</td>\n",
       "      <td>Готов поспорить, что Вы отличный учитель.</td>\n",
       "      <td>2294112</td>\n",
       "      <td>I bet you're a great teacher.</td>\n",
       "    </tr>\n",
       "    <tr>\n",
       "      <th>148517</th>\n",
       "      <td>3707033</td>\n",
       "      <td>Том — ответственный за барбекю.</td>\n",
       "      <td>1690877</td>\n",
       "      <td>Tom is in charge of the barbecue.</td>\n",
       "    </tr>\n",
       "    <tr>\n",
       "      <th>151058</th>\n",
       "      <td>3757553</td>\n",
       "      <td>Ты должен был позволить мне тебе помочь.</td>\n",
       "      <td>3372948</td>\n",
       "      <td>You should've let me help you.</td>\n",
       "    </tr>\n",
       "    <tr>\n",
       "      <th>114017</th>\n",
       "      <td>3260866</td>\n",
       "      <td>Сын моей сестры - это наш племянник.</td>\n",
       "      <td>1744385</td>\n",
       "      <td>My sister's son is our nephew.</td>\n",
       "    </tr>\n",
       "  </tbody>\n",
       "</table>\n",
       "</div>"
      ],
      "text/plain": [
       "          N_Rus                                        Rus    N_Eng  \\\n",
       "118720  3326921                  Ты принял взятку или нет?   326581   \n",
       "67149   2580252           Я повстречала Тома на вечеринке.  2387132   \n",
       "105014  3073036                    Она не прочитала книгу.   311418   \n",
       "197061  4347525                 Не забудь написать индекс.  4198352   \n",
       "99567   3010668                    Вы уезжаете этим летом?    60186   \n",
       "49579   2264189                Не ведите себя как ребёнок.  2264188   \n",
       "106962  3096457  Готов поспорить, что Вы отличный учитель.  2294112   \n",
       "148517  3707033            Том — ответственный за барбекю.  1690877   \n",
       "151058  3757553   Ты должен был позволить мне тебе помочь.  3372948   \n",
       "114017  3260866       Сын моей сестры - это наш племянник.  1744385   \n",
       "\n",
       "                                             Eng  \n",
       "118720  Did you or did you not accept the bribe?  \n",
       "67149                      I met Tom at a party.  \n",
       "105014                She did not read the book.  \n",
       "197061       Don't forget to write the zip code.  \n",
       "99567            Are you going away this summer?  \n",
       "49579                    Don't act like a child.  \n",
       "106962             I bet you're a great teacher.  \n",
       "148517         Tom is in charge of the barbecue.  \n",
       "151058            You should've let me help you.  \n",
       "114017            My sister's son is our nephew.  "
      ]
     },
     "metadata": {},
     "output_type": "display_data"
    }
   ],
   "source": [
    "# df = pd.read_pickle('data/data.pkl.gz')\n",
    "df = pd.read_pickle('tmp/data/rus-eng-small.pkl.gz')\n",
    "display(len(df))\n",
    "display(df.info())\n",
    "display(df.sample(10))"
   ]
  },
  {
   "cell_type": "code",
   "execution_count": 5,
   "id": "09d8644b",
   "metadata": {},
   "outputs": [
    {
     "data": {
      "text/plain": [
       "200000"
      ]
     },
     "metadata": {},
     "output_type": "display_data"
    },
    {
     "data": {
      "text/plain": [
       "147087"
      ]
     },
     "metadata": {},
     "output_type": "display_data"
    }
   ],
   "source": [
    "display( len(df) )\n",
    "df = df.drop_duplicates('N_Rus').drop_duplicates('N_Eng').reset_index(drop=True)\n",
    "display( len(df) )"
   ]
  },
  {
   "cell_type": "markdown",
   "id": "105074f4",
   "metadata": {},
   "source": [
    "# выбираем пары для обучения модели"
   ]
  },
  {
   "cell_type": "markdown",
   "id": "909f4747",
   "metadata": {},
   "source": [
    "## анализ словаря"
   ]
  },
  {
   "cell_type": "code",
   "execution_count": 6,
   "id": "02973c20",
   "metadata": {},
   "outputs": [],
   "source": [
    "# !pip install razdel"
   ]
  },
  {
   "cell_type": "code",
   "execution_count": 7,
   "id": "f484c7c7",
   "metadata": {},
   "outputs": [],
   "source": [
    "from razdel import tokenize\n",
    "from nltk.tokenize import word_tokenize as nltk_tokenize_word"
   ]
  },
  {
   "cell_type": "code",
   "execution_count": 8,
   "id": "809819b4",
   "metadata": {},
   "outputs": [],
   "source": [
    "# CountVectorizer(\n",
    "#     *, \n",
    "#     input='content', \n",
    "#     encoding='utf-8', \n",
    "#     decode_error='strict', \n",
    "#     strip_accents=None, \n",
    "#     lowercase=True, \n",
    "#     preprocessor=None, \n",
    "#     tokenizer=None, \n",
    "#     stop_words=None, \n",
    "#     token_pattern='(?u)\\b\\w\\w+\\b', \n",
    "#     ngram_range=(1, 1), \n",
    "#     analyzer='word', \n",
    "#     max_df=1.0, \n",
    "#     min_df=1, \n",
    "#     max_features=None, \n",
    "#     vocabulary=None, \n",
    "#     binary=False, \n",
    "#     dtype=<class 'numpy.int64'>\n",
    "# )"
   ]
  },
  {
   "cell_type": "code",
   "execution_count": 9,
   "id": "909a6efc",
   "metadata": {},
   "outputs": [],
   "source": [
    "from sklearn.feature_extraction.text import CountVectorizer\n",
    "from razdel import tokenize"
   ]
  },
  {
   "cell_type": "code",
   "execution_count": 10,
   "id": "892d893c",
   "metadata": {},
   "outputs": [
    {
     "data": {
      "application/vnd.jupyter.widget-view+json": {
       "model_id": "687b8cc44a4942f683fe79e7a5c607ed",
       "version_major": 2,
       "version_minor": 0
      },
      "text/plain": [
       "  0%|          | 0/147087 [00:00<?, ?it/s]"
      ]
     },
     "metadata": {},
     "output_type": "display_data"
    }
   ],
   "source": [
    "import re\n",
    "\n",
    "df['Rus'] = df['Rus'].progress_apply(lambda s: re.sub(r'[«»]','\"',s))"
   ]
  },
  {
   "cell_type": "code",
   "execution_count": 11,
   "id": "3c3e4544",
   "metadata": {},
   "outputs": [
    {
     "data": {
      "text/plain": [
       "29472"
      ]
     },
     "metadata": {},
     "output_type": "display_data"
    },
    {
     "data": {
      "text/html": [
       "<div>\n",
       "<style scoped>\n",
       "    .dataframe tbody tr th:only-of-type {\n",
       "        vertical-align: middle;\n",
       "    }\n",
       "\n",
       "    .dataframe tbody tr th {\n",
       "        vertical-align: top;\n",
       "    }\n",
       "\n",
       "    .dataframe thead th {\n",
       "        text-align: right;\n",
       "    }\n",
       "</style>\n",
       "<table border=\"1\" class=\"dataframe\">\n",
       "  <thead>\n",
       "    <tr style=\"text-align: right;\">\n",
       "      <th></th>\n",
       "      <th>word</th>\n",
       "      <th>tf</th>\n",
       "    </tr>\n",
       "    <tr>\n",
       "      <th>index</th>\n",
       "      <th></th>\n",
       "      <th></th>\n",
       "    </tr>\n",
       "  </thead>\n",
       "  <tbody>\n",
       "    <tr>\n",
       "      <th>0</th>\n",
       "      <td>!</td>\n",
       "      <td>3818</td>\n",
       "    </tr>\n",
       "    <tr>\n",
       "      <th>1</th>\n",
       "      <td>!!!</td>\n",
       "      <td>5</td>\n",
       "    </tr>\n",
       "    <tr>\n",
       "      <th>2</th>\n",
       "      <td>!..</td>\n",
       "      <td>3</td>\n",
       "    </tr>\n",
       "    <tr>\n",
       "      <th>3</th>\n",
       "      <td>\"</td>\n",
       "      <td>4745</td>\n",
       "    </tr>\n",
       "    <tr>\n",
       "      <th>4</th>\n",
       "      <td>$</td>\n",
       "      <td>3</td>\n",
       "    </tr>\n",
       "    <tr>\n",
       "      <th>...</th>\n",
       "      <td>...</td>\n",
       "      <td>...</td>\n",
       "    </tr>\n",
       "    <tr>\n",
       "      <th>29467</th>\n",
       "      <td>“</td>\n",
       "      <td>9</td>\n",
       "    </tr>\n",
       "    <tr>\n",
       "      <th>29468</th>\n",
       "      <td>”</td>\n",
       "      <td>5</td>\n",
       "    </tr>\n",
       "    <tr>\n",
       "      <th>29469</th>\n",
       "      <td>„</td>\n",
       "      <td>4</td>\n",
       "    </tr>\n",
       "    <tr>\n",
       "      <th>29470</th>\n",
       "      <td>…</td>\n",
       "      <td>10</td>\n",
       "    </tr>\n",
       "    <tr>\n",
       "      <th>29471</th>\n",
       "      <td>№</td>\n",
       "      <td>5</td>\n",
       "    </tr>\n",
       "  </tbody>\n",
       "</table>\n",
       "<p>29472 rows × 2 columns</p>\n",
       "</div>"
      ],
      "text/plain": [
       "      word    tf\n",
       "index           \n",
       "0        !  3818\n",
       "1      !!!     5\n",
       "2      !..     3\n",
       "3        \"  4745\n",
       "4        $     3\n",
       "...    ...   ...\n",
       "29467    “     9\n",
       "29468    ”     5\n",
       "29469    „     4\n",
       "29470    …    10\n",
       "29471    №     5\n",
       "\n",
       "[29472 rows x 2 columns]"
      ]
     },
     "metadata": {},
     "output_type": "display_data"
    },
    {
     "data": {
      "text/html": [
       "<div>\n",
       "<style scoped>\n",
       "    .dataframe tbody tr th:only-of-type {\n",
       "        vertical-align: middle;\n",
       "    }\n",
       "\n",
       "    .dataframe tbody tr th {\n",
       "        vertical-align: top;\n",
       "    }\n",
       "\n",
       "    .dataframe thead th {\n",
       "        text-align: right;\n",
       "    }\n",
       "</style>\n",
       "<table border=\"1\" class=\"dataframe\">\n",
       "  <thead>\n",
       "    <tr style=\"text-align: right;\">\n",
       "      <th></th>\n",
       "      <th>count</th>\n",
       "      <th>mean</th>\n",
       "      <th>std</th>\n",
       "      <th>min</th>\n",
       "      <th>1%</th>\n",
       "      <th>25%</th>\n",
       "      <th>50%</th>\n",
       "      <th>75%</th>\n",
       "      <th>95%</th>\n",
       "      <th>99%</th>\n",
       "      <th>max</th>\n",
       "    </tr>\n",
       "  </thead>\n",
       "  <tbody>\n",
       "    <tr>\n",
       "      <th>tf</th>\n",
       "      <td>29472.0</td>\n",
       "      <td>34.5985</td>\n",
       "      <td>864.259552</td>\n",
       "      <td>2.0</td>\n",
       "      <td>2.0</td>\n",
       "      <td>2.0</td>\n",
       "      <td>4.0</td>\n",
       "      <td>9.0</td>\n",
       "      <td>61.0</td>\n",
       "      <td>324.58</td>\n",
       "      <td>126855.0</td>\n",
       "    </tr>\n",
       "  </tbody>\n",
       "</table>\n",
       "</div>"
      ],
      "text/plain": [
       "      count     mean         std  min   1%  25%  50%  75%   95%     99%  \\\n",
       "tf  29472.0  34.5985  864.259552  2.0  2.0  2.0  4.0  9.0  61.0  324.58   \n",
       "\n",
       "         max  \n",
       "tf  126855.0  "
      ]
     },
     "metadata": {},
     "output_type": "display_data"
    }
   ],
   "source": [
    "def tokenizer_ru(s): return [ t.text for t in tokenize(s) ] \n",
    "\n",
    "cv_ru = CountVectorizer(\n",
    "        lowercase=False,\n",
    "        token_pattern=None,\n",
    "        tokenizer=tokenizer_ru, \n",
    "        min_df=2,\n",
    "    ).fit(df['Rus'])\n",
    "\n",
    "vocab_ru = cv_ru.vocabulary_\n",
    "display( len(vocab_ru) )\n",
    "\n",
    "vocab_ru_ = (\n",
    "    pd.DataFrame(\n",
    "        [ [v,k] for k,v in  vocab_ru.items() ],columns=['index','word']\n",
    "    )\n",
    "        .sort_values(by='index')\n",
    "        .set_index('index')\n",
    "    )\n",
    "vocab_ru_['tf'] = cv_ru.transform(df['Rus']).sum(axis=0).T\n",
    "\n",
    "display( vocab_ru_ )\n",
    "\n",
    "# vocab_ru_.sort_values(by='tf').to_csv('tmp/vocab_ru.csv',index=False,sep='\\t')\n",
    "\n",
    "display( vocab_ru_[['tf']].describe([.01, .25, .75, .95, .99 ]).T )"
   ]
  },
  {
   "cell_type": "code",
   "execution_count": 12,
   "id": "c13462cb",
   "metadata": {},
   "outputs": [],
   "source": [
    "# vocab_ru_.query('tf<2').sort_values(by='tf')"
   ]
  },
  {
   "cell_type": "code",
   "execution_count": 13,
   "id": "ac6f6a98",
   "metadata": {},
   "outputs": [],
   "source": [
    "# vocab_ru_.query('tf>188').sort_values(by='tf')"
   ]
  },
  {
   "cell_type": "code",
   "execution_count": 14,
   "id": "59b9c492",
   "metadata": {},
   "outputs": [],
   "source": [
    "del vocab_ru_"
   ]
  },
  {
   "cell_type": "markdown",
   "id": "ba328757",
   "metadata": {},
   "source": [
    "---"
   ]
  },
  {
   "cell_type": "code",
   "execution_count": 15,
   "id": "90d03b16",
   "metadata": {},
   "outputs": [
    {
     "data": {
      "text/plain": [
       "13494"
      ]
     },
     "metadata": {},
     "output_type": "display_data"
    },
    {
     "data": {
      "text/html": [
       "<div>\n",
       "<style scoped>\n",
       "    .dataframe tbody tr th:only-of-type {\n",
       "        vertical-align: middle;\n",
       "    }\n",
       "\n",
       "    .dataframe tbody tr th {\n",
       "        vertical-align: top;\n",
       "    }\n",
       "\n",
       "    .dataframe thead th {\n",
       "        text-align: right;\n",
       "    }\n",
       "</style>\n",
       "<table border=\"1\" class=\"dataframe\">\n",
       "  <thead>\n",
       "    <tr style=\"text-align: right;\">\n",
       "      <th></th>\n",
       "      <th>word</th>\n",
       "      <th>tf</th>\n",
       "    </tr>\n",
       "    <tr>\n",
       "      <th>index</th>\n",
       "      <th></th>\n",
       "      <th></th>\n",
       "    </tr>\n",
       "  </thead>\n",
       "  <tbody>\n",
       "    <tr>\n",
       "      <th>0</th>\n",
       "      <td>!</td>\n",
       "      <td>3397</td>\n",
       "    </tr>\n",
       "    <tr>\n",
       "      <th>1</th>\n",
       "      <td>$</td>\n",
       "      <td>37</td>\n",
       "    </tr>\n",
       "    <tr>\n",
       "      <th>2</th>\n",
       "      <td>%</td>\n",
       "      <td>56</td>\n",
       "    </tr>\n",
       "    <tr>\n",
       "      <th>3</th>\n",
       "      <td>&amp;</td>\n",
       "      <td>3</td>\n",
       "    </tr>\n",
       "    <tr>\n",
       "      <th>4</th>\n",
       "      <td>'</td>\n",
       "      <td>207</td>\n",
       "    </tr>\n",
       "    <tr>\n",
       "      <th>...</th>\n",
       "      <td>...</td>\n",
       "      <td>...</td>\n",
       "    </tr>\n",
       "    <tr>\n",
       "      <th>13489</th>\n",
       "      <td>—</td>\n",
       "      <td>45</td>\n",
       "    </tr>\n",
       "    <tr>\n",
       "      <th>13490</th>\n",
       "      <td>‘</td>\n",
       "      <td>23</td>\n",
       "    </tr>\n",
       "    <tr>\n",
       "      <th>13491</th>\n",
       "      <td>’</td>\n",
       "      <td>103</td>\n",
       "    </tr>\n",
       "    <tr>\n",
       "      <th>13492</th>\n",
       "      <td>“</td>\n",
       "      <td>27</td>\n",
       "    </tr>\n",
       "    <tr>\n",
       "      <th>13493</th>\n",
       "      <td>”</td>\n",
       "      <td>27</td>\n",
       "    </tr>\n",
       "  </tbody>\n",
       "</table>\n",
       "<p>13494 rows × 2 columns</p>\n",
       "</div>"
      ],
      "text/plain": [
       "      word    tf\n",
       "index           \n",
       "0        !  3397\n",
       "1        $    37\n",
       "2        %    56\n",
       "3        &     3\n",
       "4        '   207\n",
       "...    ...   ...\n",
       "13489    —    45\n",
       "13490    ‘    23\n",
       "13491    ’   103\n",
       "13492    “    27\n",
       "13493    ”    27\n",
       "\n",
       "[13494 rows x 2 columns]"
      ]
     },
     "metadata": {},
     "output_type": "display_data"
    },
    {
     "data": {
      "text/html": [
       "<div>\n",
       "<style scoped>\n",
       "    .dataframe tbody tr th:only-of-type {\n",
       "        vertical-align: middle;\n",
       "    }\n",
       "\n",
       "    .dataframe tbody tr th {\n",
       "        vertical-align: top;\n",
       "    }\n",
       "\n",
       "    .dataframe thead th {\n",
       "        text-align: right;\n",
       "    }\n",
       "</style>\n",
       "<table border=\"1\" class=\"dataframe\">\n",
       "  <thead>\n",
       "    <tr style=\"text-align: right;\">\n",
       "      <th></th>\n",
       "      <th>count</th>\n",
       "      <th>mean</th>\n",
       "      <th>std</th>\n",
       "      <th>min</th>\n",
       "      <th>1%</th>\n",
       "      <th>25%</th>\n",
       "      <th>50%</th>\n",
       "      <th>75%</th>\n",
       "      <th>95%</th>\n",
       "      <th>99%</th>\n",
       "      <th>max</th>\n",
       "    </tr>\n",
       "  </thead>\n",
       "  <tbody>\n",
       "    <tr>\n",
       "      <th>tf</th>\n",
       "      <td>13494.0</td>\n",
       "      <td>88.466726</td>\n",
       "      <td>1370.468131</td>\n",
       "      <td>2.0</td>\n",
       "      <td>2.0</td>\n",
       "      <td>3.0</td>\n",
       "      <td>5.0</td>\n",
       "      <td>17.0</td>\n",
       "      <td>168.0</td>\n",
       "      <td>1119.35</td>\n",
       "      <td>127460.0</td>\n",
       "    </tr>\n",
       "  </tbody>\n",
       "</table>\n",
       "</div>"
      ],
      "text/plain": [
       "      count       mean          std  min   1%  25%  50%   75%    95%      99%  \\\n",
       "tf  13494.0  88.466726  1370.468131  2.0  2.0  3.0  5.0  17.0  168.0  1119.35   \n",
       "\n",
       "         max  \n",
       "tf  127460.0  "
      ]
     },
     "metadata": {},
     "output_type": "display_data"
    }
   ],
   "source": [
    "# from sklearn.feature_extraction.text import CountVectorizer\n",
    "# from nltk.tokenize import word_tokenize as nltk_tokenize_word\n",
    "\n",
    "def tokenizer_en(s): return nltk_tokenize_word(s,language='english') \n",
    "\n",
    "cv_en = CountVectorizer(\n",
    "        lowercase=False,\n",
    "        token_pattern=None,\n",
    "        tokenizer=tokenizer_en, \n",
    "        min_df=2,\n",
    "    ).fit(df['Eng'])\n",
    "\n",
    "vocab_en = cv_en.vocabulary_\n",
    "display( len(vocab_en) )\n",
    "\n",
    "vocab_en_ = (\n",
    "    pd.DataFrame(\n",
    "        [ [v,k] for k,v in  vocab_en.items() ],columns=['index','word']\n",
    "    )\n",
    "        .sort_values(by='index')\n",
    "        .set_index('index')\n",
    "    )\n",
    "\n",
    "vocab_en_['tf'] = cv_en.transform(df['Eng']).sum(axis=0).T\n",
    "\n",
    "display( vocab_en_ )\n",
    "\n",
    "# vocab_en_.sort_values(by='tf').to_csv('tmp/vocab_en.csv',index=False,sep='\\t')\n",
    "\n",
    "display( vocab_en_[['tf']].describe([.01, .25, .75, .95, .99 ]).T )"
   ]
  },
  {
   "cell_type": "code",
   "execution_count": 16,
   "id": "07394714",
   "metadata": {},
   "outputs": [],
   "source": [
    "del vocab_en_"
   ]
  },
  {
   "cell_type": "markdown",
   "id": "8f3ee654",
   "metadata": {},
   "source": [
    "## выделяем тестовый набор"
   ]
  },
  {
   "cell_type": "code",
   "execution_count": 17,
   "id": "20d1739e",
   "metadata": {},
   "outputs": [
    {
     "data": {
      "application/vnd.jupyter.widget-view+json": {
       "model_id": "2f1578d1bc6b4fc09b525950ef61b77f",
       "version_major": 2,
       "version_minor": 0
      },
      "text/plain": [
       "  0%|          | 0/147087 [00:00<?, ?it/s]"
      ]
     },
     "metadata": {},
     "output_type": "display_data"
    },
    {
     "data": {
      "application/vnd.jupyter.widget-view+json": {
       "model_id": "e06f77a2476e461daab96c4cbd7bbd02",
       "version_major": 2,
       "version_minor": 0
      },
      "text/plain": [
       "  0%|          | 0/147087 [00:00<?, ?it/s]"
      ]
     },
     "metadata": {},
     "output_type": "display_data"
    },
    {
     "data": {
      "text/html": [
       "<div>\n",
       "<style scoped>\n",
       "    .dataframe tbody tr th:only-of-type {\n",
       "        vertical-align: middle;\n",
       "    }\n",
       "\n",
       "    .dataframe tbody tr th {\n",
       "        vertical-align: top;\n",
       "    }\n",
       "\n",
       "    .dataframe thead th {\n",
       "        text-align: right;\n",
       "    }\n",
       "</style>\n",
       "<table border=\"1\" class=\"dataframe\">\n",
       "  <thead>\n",
       "    <tr style=\"text-align: right;\">\n",
       "      <th></th>\n",
       "      <th>count</th>\n",
       "      <th>mean</th>\n",
       "      <th>std</th>\n",
       "      <th>min</th>\n",
       "      <th>25%</th>\n",
       "      <th>50%</th>\n",
       "      <th>75%</th>\n",
       "      <th>max</th>\n",
       "    </tr>\n",
       "  </thead>\n",
       "  <tbody>\n",
       "    <tr>\n",
       "      <th>Rus_len_seq</th>\n",
       "      <td>147087</td>\n",
       "      <td>7</td>\n",
       "      <td>4</td>\n",
       "      <td>2</td>\n",
       "      <td>5</td>\n",
       "      <td>6</td>\n",
       "      <td>8</td>\n",
       "      <td>173</td>\n",
       "    </tr>\n",
       "    <tr>\n",
       "      <th>Eng_len_seq</th>\n",
       "      <td>147087</td>\n",
       "      <td>8</td>\n",
       "      <td>4</td>\n",
       "      <td>2</td>\n",
       "      <td>6</td>\n",
       "      <td>7</td>\n",
       "      <td>9</td>\n",
       "      <td>232</td>\n",
       "    </tr>\n",
       "  </tbody>\n",
       "</table>\n",
       "</div>"
      ],
      "text/plain": [
       "              count  mean  std  min  25%  50%  75%  max\n",
       "Rus_len_seq  147087     7    4    2    5    6    8  173\n",
       "Eng_len_seq  147087     8    4    2    6    7    9  232"
      ]
     },
     "metadata": {},
     "output_type": "display_data"
    }
   ],
   "source": [
    "# считаем количество слов\n",
    "df['Rus_len_seq'] = df['Rus'].progress_apply(lambda s: len( tokenizer_ru(s) )  )\n",
    "df['Eng_len_seq'] = df['Eng'].progress_apply(lambda s: len( tokenizer_en(s) ) )\n",
    "display( df[['Rus_len_seq','Eng_len_seq']].describe().astype(int).T )"
   ]
  },
  {
   "cell_type": "code",
   "execution_count": 18,
   "id": "9e695fc9",
   "metadata": {},
   "outputs": [
    {
     "data": {
      "text/plain": [
       "103883"
      ]
     },
     "metadata": {},
     "output_type": "display_data"
    },
    {
     "data": {
      "text/html": [
       "<div>\n",
       "<style scoped>\n",
       "    .dataframe tbody tr th:only-of-type {\n",
       "        vertical-align: middle;\n",
       "    }\n",
       "\n",
       "    .dataframe tbody tr th {\n",
       "        vertical-align: top;\n",
       "    }\n",
       "\n",
       "    .dataframe thead th {\n",
       "        text-align: right;\n",
       "    }\n",
       "</style>\n",
       "<table border=\"1\" class=\"dataframe\">\n",
       "  <thead>\n",
       "    <tr style=\"text-align: right;\">\n",
       "      <th></th>\n",
       "      <th>N_Rus</th>\n",
       "      <th>Rus</th>\n",
       "      <th>N_Eng</th>\n",
       "      <th>Eng</th>\n",
       "      <th>Rus_len_seq</th>\n",
       "      <th>Eng_len_seq</th>\n",
       "    </tr>\n",
       "  </thead>\n",
       "  <tbody>\n",
       "    <tr>\n",
       "      <th>13029</th>\n",
       "      <td>598355</td>\n",
       "      <td>В Киото много чего посмотреть.</td>\n",
       "      <td>19326</td>\n",
       "      <td>There are many sights to see in Kyoto.</td>\n",
       "      <td>6</td>\n",
       "      <td>9</td>\n",
       "    </tr>\n",
       "    <tr>\n",
       "      <th>64186</th>\n",
       "      <td>2763461</td>\n",
       "      <td>По какой дисциплине вы специализировались?</td>\n",
       "      <td>2763460</td>\n",
       "      <td>What was your major?</td>\n",
       "      <td>6</td>\n",
       "      <td>5</td>\n",
       "    </tr>\n",
       "    <tr>\n",
       "      <th>1164</th>\n",
       "      <td>394367</td>\n",
       "      <td>Не разговаривай за столом.</td>\n",
       "      <td>268753</td>\n",
       "      <td>Be quiet at the table.</td>\n",
       "      <td>5</td>\n",
       "      <td>6</td>\n",
       "    </tr>\n",
       "    <tr>\n",
       "      <th>16568</th>\n",
       "      <td>811588</td>\n",
       "      <td>Какая это буква?</td>\n",
       "      <td>519696</td>\n",
       "      <td>What is this letter?</td>\n",
       "      <td>4</td>\n",
       "      <td>5</td>\n",
       "    </tr>\n",
       "    <tr>\n",
       "      <th>87857</th>\n",
       "      <td>3281889</td>\n",
       "      <td>Ты попросту тратишь без дела своё время.</td>\n",
       "      <td>3281679</td>\n",
       "      <td>You're just wasting your time.</td>\n",
       "      <td>8</td>\n",
       "      <td>7</td>\n",
       "    </tr>\n",
       "    <tr>\n",
       "      <th>129886</th>\n",
       "      <td>4037258</td>\n",
       "      <td>Я им всё про тебя рассказал.</td>\n",
       "      <td>3905287</td>\n",
       "      <td>I've told them all about you.</td>\n",
       "      <td>7</td>\n",
       "      <td>8</td>\n",
       "    </tr>\n",
       "    <tr>\n",
       "      <th>79766</th>\n",
       "      <td>3060783</td>\n",
       "      <td>Этот магазин поставляет нам кофе.</td>\n",
       "      <td>3060782</td>\n",
       "      <td>That store supplies us with coffee.</td>\n",
       "      <td>6</td>\n",
       "      <td>7</td>\n",
       "    </tr>\n",
       "  </tbody>\n",
       "</table>\n",
       "</div>"
      ],
      "text/plain": [
       "          N_Rus                                         Rus    N_Eng  \\\n",
       "13029    598355              В Киото много чего посмотреть.    19326   \n",
       "64186   2763461  По какой дисциплине вы специализировались?  2763460   \n",
       "1164     394367                  Не разговаривай за столом.   268753   \n",
       "16568    811588                            Какая это буква?   519696   \n",
       "87857   3281889    Ты попросту тратишь без дела своё время.  3281679   \n",
       "129886  4037258                Я им всё про тебя рассказал.  3905287   \n",
       "79766   3060783           Этот магазин поставляет нам кофе.  3060782   \n",
       "\n",
       "                                           Eng  Rus_len_seq  Eng_len_seq  \n",
       "13029   There are many sights to see in Kyoto.            6            9  \n",
       "64186                     What was your major?            6            5  \n",
       "1164                    Be quiet at the table.            5            6  \n",
       "16568                     What is this letter?            4            5  \n",
       "87857           You're just wasting your time.            8            7  \n",
       "129886           I've told them all about you.            7            8  \n",
       "79766      That store supplies us with coffee.            6            7  "
      ]
     },
     "metadata": {},
     "output_type": "display_data"
    }
   ],
   "source": [
    "l_min,l_max = 3,10\n",
    "\n",
    "# выбираем последовательности приблизительно одинаковой длинны\n",
    "df_train = df.query(f'({l_min}<Rus_len_seq<{l_max})&({l_min}<Eng_len_seq<{l_max})')\n",
    "display( len(df_train) )\n",
    "display( df_train.sample(7) )"
   ]
  },
  {
   "cell_type": "code",
   "execution_count": 19,
   "id": "969375a9",
   "metadata": {},
   "outputs": [
    {
     "data": {
      "text/plain": [
       "84146"
      ]
     },
     "metadata": {},
     "output_type": "display_data"
    },
    {
     "data": {
      "text/plain": [
       "9349"
      ]
     },
     "metadata": {},
     "output_type": "display_data"
    },
    {
     "data": {
      "text/plain": [
       "10388"
      ]
     },
     "metadata": {},
     "output_type": "display_data"
    }
   ],
   "source": [
    "df_test = df_train.sample( len(df_train)//10 )\n",
    "df_train = df_train.drop(df_test.index)\n",
    "\n",
    "df_val = df_train.sample( len(df_train)//10 )\n",
    "df_train = df_train.drop(df_val.index)\n",
    "\n",
    "display( len(df_train), len(df_val), len(df_test) )"
   ]
  },
  {
   "cell_type": "markdown",
   "id": "0b7e4806",
   "metadata": {},
   "source": [
    "# собираем генератор датасета"
   ]
  },
  {
   "cell_type": "code",
   "execution_count": 20,
   "id": "50ea5515",
   "metadata": {},
   "outputs": [],
   "source": [
    "# vocab_en"
   ]
  },
  {
   "cell_type": "code",
   "execution_count": 21,
   "id": "62f29628",
   "metadata": {},
   "outputs": [],
   "source": [
    "import torch\n",
    "from torch.utils.data import Dataset\n",
    "from torch.utils.data import DataLoader"
   ]
  },
  {
   "cell_type": "code",
   "execution_count": 22,
   "id": "25c51ed5",
   "metadata": {},
   "outputs": [],
   "source": [
    "class TextPairDataset(Dataset):\n",
    "\n",
    "    def __init__(self, df,vocab,cols={'Rus':'russian','Eng':'english'}):\n",
    "        super().__init__()\n",
    "\n",
    "        assert len(cols)==2\n",
    "        assert len(df)>1\n",
    "        self._lang = cols\n",
    "        self._data = df[self._lang.keys()].reset_index(drop=True)\n",
    "        # self._vocab = vocab if vocab\n",
    "        #         else { k : self._make_vocab(df[k],language=self._lang[k]) for k in self._lang } \n",
    "        self._vocab = vocab \n",
    "        self._max_seq = { k : self._get_max_seq(df[k],language=self._lang[k]) for k in self._lang }\n",
    "    \n",
    "    @staticmethod\n",
    "    def  _tokenize(s,language):\n",
    "        return nltk_tokenize_word(s,language=language)\n",
    "\n",
    "#     @classmethod\n",
    "#     def _make_vocab(cls,d,language):\n",
    "#         words = sorted(set.union(*[ set(  cls._tokenize(s,language) ) for s in tqdm(d) ]))\n",
    "#         return { w:n+1 for n,w in enumerate(words) } | { '<PAD>':0, '<EOS>':len(words)+2, '<UNK>':len(words)+3 }\n",
    "    \n",
    "    @classmethod\n",
    "    def _get_max_seq(cls,d,language):\n",
    "        return max([ len(cls._tokenize(s,language)) for s in tqdm(d) ])\n",
    "    \n",
    "    @property\n",
    "    def vocab(self):\n",
    "        return self._vocab\n",
    "\n",
    "    @vocab.setter\n",
    "    def vocab(self,vocab):\n",
    "        self._vocab = vocab\n",
    "\n",
    "    @property\n",
    "    def data(self):\n",
    "        return self._data\n",
    "        \n",
    "    def __len__(self):\n",
    "        return len(self._data)\n",
    "    \n",
    "    @property\n",
    "    def max_seq(self):\n",
    "        return self._max_seq\n",
    "    \n",
    "    def _encode(self,s,language,vocab):\n",
    "        return [ vocab['<UNK>'] if not(w in vocab) else vocab[w] for w in self._tokenize(s,language) ] \n",
    "        \n",
    "    def _pad_seq(self,s,max_seq,eos_code):\n",
    "        return [0]*(max_seq-len(s)) + s + [eos_code]\n",
    "    \n",
    "    def __getitem__(self, idx):\n",
    "        return  [\n",
    "            torch.LongTensor(\n",
    "                    np.array(\n",
    "                        self._pad_seq(\n",
    "                            self._encode( self._data[c][idx], language=self._lang[c] , vocab=self._vocab[c] ) \n",
    "                            ,max_seq=self._max_seq[c]\n",
    "                            ,eos_code=self._vocab[c]['<EOS>']\n",
    "                        ) \n",
    "                        ,dtype=int\n",
    "                    )\n",
    "            )\n",
    "            for c in self._lang \n",
    "        ]"
   ]
  },
  {
   "cell_type": "markdown",
   "id": "756e3e39",
   "metadata": {},
   "source": [
    "----"
   ]
  },
  {
   "cell_type": "code",
   "execution_count": 23,
   "id": "5f3f0acd",
   "metadata": {},
   "outputs": [
    {
     "data": {
      "text/plain": [
       "29475"
      ]
     },
     "metadata": {},
     "output_type": "display_data"
    }
   ],
   "source": [
    "vocab_ru = { w:n+1 for n,w in enumerate(sorted(vocab_ru.keys())) }\n",
    "ru_max_idx = max(vocab_ru.values())\n",
    "vocab_ru =  vocab_ru | { '<PAD>':0, '<EOS>':ru_max_idx+1, '<UNK>':ru_max_idx+2, }\n",
    "display( len(vocab_ru) )\n",
    "\n",
    "del ru_max_idx"
   ]
  },
  {
   "cell_type": "code",
   "execution_count": 24,
   "id": "2df6c61a",
   "metadata": {},
   "outputs": [
    {
     "data": {
      "text/plain": [
       "13497"
      ]
     },
     "metadata": {},
     "output_type": "display_data"
    }
   ],
   "source": [
    "vocab_en = { w:n+1 for n,w in enumerate(sorted(vocab_en.keys())) }\n",
    "en_max_idx = max(vocab_en.values())\n",
    "vocab_en =  vocab_en | { '<PAD>':0, '<EOS>':en_max_idx+1, '<UNK>':en_max_idx+2, }\n",
    "display( len(vocab_en) )\n",
    "del en_max_idx"
   ]
  },
  {
   "cell_type": "code",
   "execution_count": 25,
   "id": "9b5e875f",
   "metadata": {},
   "outputs": [],
   "source": [
    "vocab = { 'Rus': vocab_ru, 'Eng': vocab_en, }"
   ]
  },
  {
   "cell_type": "code",
   "execution_count": 26,
   "id": "6251bb4a",
   "metadata": {},
   "outputs": [],
   "source": [
    "del vocab_ru\n",
    "del vocab_en"
   ]
  },
  {
   "cell_type": "markdown",
   "id": "f072eed7",
   "metadata": {},
   "source": [
    "---"
   ]
  },
  {
   "cell_type": "code",
   "execution_count": 27,
   "id": "254c803c",
   "metadata": {},
   "outputs": [
    {
     "data": {
      "application/vnd.jupyter.widget-view+json": {
       "model_id": "031b017a53114d19953e03a2f24df132",
       "version_major": 2,
       "version_minor": 0
      },
      "text/plain": [
       "  0%|          | 0/84146 [00:00<?, ?it/s]"
      ]
     },
     "metadata": {},
     "output_type": "display_data"
    },
    {
     "data": {
      "application/vnd.jupyter.widget-view+json": {
       "model_id": "e4d3af0a20954933be992fd2500f0d62",
       "version_major": 2,
       "version_minor": 0
      },
      "text/plain": [
       "  0%|          | 0/84146 [00:00<?, ?it/s]"
      ]
     },
     "metadata": {},
     "output_type": "display_data"
    }
   ],
   "source": [
    "ds_train = TextPairDataset( df_train, vocab=vocab )"
   ]
  },
  {
   "cell_type": "code",
   "execution_count": 28,
   "id": "0dc278e2",
   "metadata": {},
   "outputs": [
    {
     "data": {
      "application/vnd.jupyter.widget-view+json": {
       "model_id": "e942ec280c0947a1ac603e65c55a614d",
       "version_major": 2,
       "version_minor": 0
      },
      "text/plain": [
       "  0%|          | 0/9349 [00:00<?, ?it/s]"
      ]
     },
     "metadata": {},
     "output_type": "display_data"
    },
    {
     "data": {
      "application/vnd.jupyter.widget-view+json": {
       "model_id": "9b65d320274a44a4affd20e133104f73",
       "version_major": 2,
       "version_minor": 0
      },
      "text/plain": [
       "  0%|          | 0/9349 [00:00<?, ?it/s]"
      ]
     },
     "metadata": {},
     "output_type": "display_data"
    }
   ],
   "source": [
    "ds_val = TextPairDataset(df_val, vocab=ds_train.vocab)"
   ]
  },
  {
   "cell_type": "code",
   "execution_count": 29,
   "id": "f581921f",
   "metadata": {},
   "outputs": [
    {
     "data": {
      "text/plain": [
       "{'Rus': 9, 'Eng': 9}"
      ]
     },
     "metadata": {},
     "output_type": "display_data"
    },
    {
     "data": {
      "text/plain": [
       "{'Rus': 9, 'Eng': 9}"
      ]
     },
     "metadata": {},
     "output_type": "display_data"
    }
   ],
   "source": [
    "display( ds_train.max_seq, ds_val.max_seq )"
   ]
  },
  {
   "cell_type": "code",
   "execution_count": 30,
   "id": "9e6896af",
   "metadata": {},
   "outputs": [],
   "source": [
    "# for input_tensor, target_tensor in DataLoader( ds_train, batch_size=3, shuffle=True): \n",
    "#     break\n",
    "\n",
    "# display( input_tensor, target_tensor )"
   ]
  },
  {
   "cell_type": "code",
   "execution_count": 31,
   "id": "15f5ce2d",
   "metadata": {},
   "outputs": [],
   "source": [
    "# with torch.set_grad_enabled(False):\n",
    "#     o,h = model_encoder(t0)\n",
    "#     r  = model_decoder(encoder_outputs=o,encoder_hidden=h)"
   ]
  },
  {
   "cell_type": "markdown",
   "id": "a224a915",
   "metadata": {},
   "source": [
    "# строим модель"
   ]
  },
  {
   "cell_type": "code",
   "execution_count": 32,
   "id": "72f527c7",
   "metadata": {},
   "outputs": [],
   "source": [
    "import torch.nn as nn\n",
    "import torch.nn.functional as F"
   ]
  },
  {
   "cell_type": "code",
   "execution_count": 33,
   "id": "94bf5876",
   "metadata": {},
   "outputs": [],
   "source": [
    "class Encoder(nn.Module):\n",
    "    def __init__(self, vocab_len, embedding_dim, encoder_hidden_dim,): \n",
    "        super(Encoder, self).__init__()\n",
    "        self._emb = nn.Embedding(vocab_len, embedding_dim)\n",
    "        self._rnn = nn.GRU(\n",
    "                input_size=embedding_dim, \n",
    "                hidden_size=encoder_hidden_dim, \n",
    "                num_layers=2, \n",
    "                batch_first=True,\n",
    "                dropout=0.4,\n",
    "            )\n",
    "\n",
    "    def forward(self, x):\n",
    "        o = self._emb(x)\n",
    "        o, h = self._rnn(o)\n",
    "        return o,h"
   ]
  },
  {
   "cell_type": "code",
   "execution_count": 34,
   "id": "a957123f",
   "metadata": {},
   "outputs": [],
   "source": [
    "# vocab_len = len(ds.vocab['Rus'])\n",
    "# embedding_dim = 256\n",
    "# encoder_hidden_dim = 128\n",
    "\n",
    "# model_encoder = Encoder(\n",
    "#         vocab_len=vocab_len+1,\n",
    "#         embedding_dim=embedding_dim,\n",
    "#         encoder_hidden_dim=encoder_hidden_dim,\n",
    "#     )\n",
    "\n",
    "# with torch.set_grad_enabled(False):\n",
    "#     o,h = model_encoder(t0)\n",
    "    \n",
    "# display( o.shape, h.shape )"
   ]
  },
  {
   "cell_type": "code",
   "execution_count": 35,
   "id": "d2da814e",
   "metadata": {},
   "outputs": [],
   "source": [
    "# torch.empty(3, 1, dtype=torch.long).fill_(0)"
   ]
  },
  {
   "cell_type": "code",
   "execution_count": 36,
   "id": "3b0f8e96",
   "metadata": {},
   "outputs": [],
   "source": [
    "class Decoder(nn.Module):\n",
    "    \n",
    "    def __init__(self, hidden_size, output_size, max_seq_len, device='cpu'):\n",
    "        super(Decoder, self).__init__()\n",
    "        self._emb = nn.Embedding(num_embeddings=output_size, embedding_dim=hidden_size)\n",
    "        self._rnn = nn.GRU( \n",
    "                input_size=hidden_size, \n",
    "                hidden_size=hidden_size, \n",
    "                num_layers=2, \n",
    "                batch_first=True,\n",
    "                dropout=0.4,\n",
    "            )\n",
    "        self._lin = nn.Linear(in_features=hidden_size, out_features=output_size, bias=True,)\n",
    "        #self._dp = nn.Dropout(0.1)\n",
    "        self._device = device\n",
    "        self._max_seq_len = max_seq_len\n",
    "\n",
    "    def forward(self, encoder_outputs, encoder_hidden, target_tensor=None):\n",
    "        batch_size = encoder_outputs.size(0)\n",
    "        decoder_input = torch.empty(batch_size, 1, dtype=torch.long, device=self._device).fill_(0)\n",
    "        decoder_hidden = encoder_hidden\n",
    "        decoder_outputs = []\n",
    "\n",
    "        for i in range(self._max_seq_len):\n",
    "            decoder_output, decoder_hidden  = self._forward_step(decoder_input, decoder_hidden)\n",
    "            decoder_outputs.append(decoder_output)\n",
    "\n",
    "            if target_tensor is not None:\n",
    "                # Teacher forcing: Feed the target as the next input\n",
    "                decoder_input = target_tensor[:, i].unsqueeze(1) # Teacher forcing\n",
    "            else:\n",
    "                # Without teacher forcing: use its own predictions as the next input\n",
    "                _, topi = decoder_output.topk(1)\n",
    "                decoder_input = topi.squeeze(-1).detach()  # detach from history as input\n",
    "\n",
    "        decoder_outputs = torch.cat(decoder_outputs, dim=1)\n",
    "        decoder_outputs = F.log_softmax(decoder_outputs, dim=-1)\n",
    "        return decoder_outputs, decoder_hidden, None # We return `None` for consistency in the training loop\n",
    "\n",
    "    def _forward_step(self,x,hidden):\n",
    "        o = F.relu( self._emb(x) )\n",
    "        o,h = self._rnn(o, hidden)\n",
    "        # o = self._dp( self._lin(o) )\n",
    "        o = self._lin(o)\n",
    "        return o,h"
   ]
  },
  {
   "cell_type": "markdown",
   "id": "4951f8c6",
   "metadata": {},
   "source": [
    "----"
   ]
  },
  {
   "cell_type": "code",
   "execution_count": 37,
   "id": "34d371d9",
   "metadata": {},
   "outputs": [
    {
     "data": {
      "text/plain": [
       "device(type='cuda', index=0)"
      ]
     },
     "metadata": {},
     "output_type": "display_data"
    }
   ],
   "source": [
    "# # проверяем GPU\n",
    "device = torch.device('cuda:0' if torch.cuda.is_available() else 'cpu')\n",
    "# device='cpu'\n",
    "display( device )"
   ]
  },
  {
   "cell_type": "code",
   "execution_count": 38,
   "id": "8282b91c",
   "metadata": {},
   "outputs": [],
   "source": [
    "vocab_input_len  = len(ds_train.vocab['Rus'])\n",
    "vocab_output_len = len(ds_train.vocab['Eng'])\n",
    "max_output_seq_len = ds_train.max_seq['Eng']+1"
   ]
  },
  {
   "cell_type": "code",
   "execution_count": 72,
   "id": "3e1efd13",
   "metadata": {},
   "outputs": [],
   "source": [
    "# del model_encoder\n",
    "# del model_decoder\n",
    "# del input_tensor\n",
    "# del target_tensor\n",
    "# del encoder_outputs\n",
    "# del encoder_hidden\n",
    "# del decoder_outputs"
   ]
  },
  {
   "cell_type": "code",
   "execution_count": 73,
   "id": "5b9af031",
   "metadata": {},
   "outputs": [],
   "source": [
    "embedding_dim = 1024\n",
    "encoder_hidden_dim = 256\n",
    "\n",
    "model_encoder = Encoder(\n",
    "        vocab_len=vocab_input_len+1,\n",
    "        embedding_dim=embedding_dim,\n",
    "        encoder_hidden_dim=encoder_hidden_dim,\n",
    "    ).to(device)\n",
    "\n",
    "model_decoder = Decoder( \n",
    "        hidden_size=encoder_hidden_dim, \n",
    "        output_size=vocab_output_len+1, \n",
    "        max_seq_len=max_output_seq_len,\n",
    "        device=device,\n",
    "    ).to(device)"
   ]
  },
  {
   "cell_type": "code",
   "execution_count": 74,
   "id": "824e9b6b",
   "metadata": {},
   "outputs": [
    {
     "data": {
      "text/plain": [
       "29475"
      ]
     },
     "metadata": {},
     "output_type": "display_data"
    },
    {
     "data": {
      "text/plain": [
       "13497"
      ]
     },
     "metadata": {},
     "output_type": "display_data"
    }
   ],
   "source": [
    "display( vocab_input_len, vocab_output_len )"
   ]
  },
  {
   "cell_type": "code",
   "execution_count": 75,
   "id": "1282f47d",
   "metadata": {},
   "outputs": [
    {
     "data": {
      "text/plain": [
       "29474"
      ]
     },
     "metadata": {},
     "output_type": "display_data"
    },
    {
     "data": {
      "text/plain": [
       "13496"
      ]
     },
     "metadata": {},
     "output_type": "display_data"
    }
   ],
   "source": [
    "display( max(ds_train.vocab['Rus'].values()),  max(ds_train.vocab['Eng'].values()) )"
   ]
  },
  {
   "cell_type": "code",
   "execution_count": 76,
   "id": "eb459d05",
   "metadata": {},
   "outputs": [],
   "source": [
    "# x,y = ds_train[:2]\n",
    "# with torch.set_grad_enabled(False):\n",
    "#     o,h = model_encoder(x.to(device))\n",
    "#     r  = model_decoder(encoder_outputs=o,encoder_hidden=h)\n",
    "\n",
    "# r[0].shape, r[1].shape, # r[3].shape"
   ]
  },
  {
   "cell_type": "code",
   "execution_count": 77,
   "id": "0a309197",
   "metadata": {},
   "outputs": [],
   "source": [
    "# r[0].view(-1, r[0].size(-1)).shape\n",
    "# r[0].shape ,  t1.shape"
   ]
  },
  {
   "cell_type": "code",
   "execution_count": 78,
   "id": "9e814edf",
   "metadata": {},
   "outputs": [],
   "source": [
    "# display( r[0].view(-1, r[0].size(-1)).shape )\n",
    "# display( t1.view(-1).shape )"
   ]
  },
  {
   "cell_type": "code",
   "execution_count": 79,
   "id": "1cc550c5",
   "metadata": {},
   "outputs": [],
   "source": [
    "# criterion = nn.NLLLoss()\n",
    "# with torch.set_grad_enabled(False):    \n",
    "#     loss = criterion(\n",
    "#             r[0].view(-1, r[0].size(-1)),\n",
    "#             t1.view(-1)\n",
    "#         )\n",
    "# loss.item()"
   ]
  },
  {
   "cell_type": "markdown",
   "id": "64ebb20c",
   "metadata": {},
   "source": [
    "# обучаем "
   ]
  },
  {
   "cell_type": "code",
   "execution_count": 80,
   "id": "5b7333e6",
   "metadata": {},
   "outputs": [],
   "source": [
    "from torch import optim\n",
    "\n",
    "learning_rate = 1e-3\n",
    "encoder_optimizer = optim.Adam( model_encoder.parameters(), lr=learning_rate )\n",
    "decoder_optimizer = optim.Adam( model_decoder.parameters(), lr=learning_rate )\n",
    "criterion = nn.NLLLoss()"
   ]
  },
  {
   "cell_type": "code",
   "execution_count": 81,
   "id": "8c281b7b",
   "metadata": {},
   "outputs": [
    {
     "data": {
      "text/plain": [
       "84146"
      ]
     },
     "metadata": {},
     "output_type": "display_data"
    }
   ],
   "source": [
    "display( len(ds_train) )"
   ]
  },
  {
   "cell_type": "code",
   "execution_count": 82,
   "id": "9c347696",
   "metadata": {},
   "outputs": [],
   "source": [
    "# with torch.set_grad_enabled(False):\n",
    "#     for input_tensor, target_tensor in DataLoader( ds, batch_size=3, shuffle=True): \n",
    "#         encoder_outputs, encoder_hidden = model_encoder(input_tensor.to(device))\n",
    "#         decoder_outputs, _, _ = model_decoder(encoder_outputs, encoder_hidden, target_tensor.to(device))\n",
    "#         break\n",
    "\n",
    "# decoder_outputs"
   ]
  },
  {
   "cell_type": "code",
   "execution_count": 83,
   "id": "d8b5aad0",
   "metadata": {},
   "outputs": [],
   "source": [
    "# encoder_outputs\n",
    "# encoder_hidden"
   ]
  },
  {
   "cell_type": "code",
   "execution_count": 84,
   "id": "85f43608",
   "metadata": {},
   "outputs": [],
   "source": [
    "# история значений ф-ции потери\n",
    "loss_history_train = [] \n",
    "loss_history_val = []"
   ]
  },
  {
   "cell_type": "code",
   "execution_count": 87,
   "id": "f89a1096",
   "metadata": {},
   "outputs": [
    {
     "data": {
      "application/vnd.jupyter.widget-view+json": {
       "model_id": "19f6d85484cb48b784de9ff55a259b54",
       "version_major": 2,
       "version_minor": 0
      },
      "text/plain": [
       "  0%|          | 0/8 [00:00<?, ?it/s]"
      ]
     },
     "metadata": {},
     "output_type": "display_data"
    },
    {
     "name": "stdout",
     "output_type": "stream",
     "text": [
      "CPU times: user 2min 30s, sys: 849 ms, total: 2min 30s\n",
      "Wall time: 2min 30s\n"
     ]
    }
   ],
   "source": [
    "%%time\n",
    "\n",
    "# n_epoch = 64 # количество эпох обучения\n",
    "# batch_size = 512*3\n",
    "# lag_val_check = 4\n",
    "# n_iter_no_check = n_epoch*0.33\n",
    "\n",
    "n_epoch = 8 # количество эпох обучения\n",
    "batch_size = 1024*4\n",
    "\n",
    "lag_val_check = 2\n",
    "n_iter_no_check = 4\n",
    "\n",
    "assert n_iter_no_check>lag_val_check\n",
    "\n",
    "for i in tqdm(range(n_epoch)): \n",
    "    loss_batch = []\n",
    "    \n",
    "    # получаем батч учебных примеров\n",
    "    for input_tensor, target_tensor in DataLoader( ds_train, batch_size=batch_size, shuffle=True): \n",
    "        encoder_optimizer.zero_grad()\n",
    "        decoder_optimizer.zero_grad()\n",
    "\n",
    "        encoder_outputs, encoder_hidden = model_encoder(input_tensor.to(device))\n",
    "        decoder_outputs, _, _ = model_decoder(encoder_outputs, encoder_hidden, target_tensor.to(device))\n",
    "        \n",
    "        loss = criterion(\n",
    "            decoder_outputs.view(-1, decoder_outputs.size(-1)),\n",
    "            target_tensor.to(device).view(-1)\n",
    "        )\n",
    "        loss_batch.append(loss.item()) # дополняем историю изменения значений ф-ции потери на батче\n",
    "        \n",
    "        loss.backward()\n",
    "\n",
    "        encoder_optimizer.step()\n",
    "        decoder_optimizer.step()\n",
    "   \n",
    "    loss_history_train.append( np.mean(loss_batch) ) # дополняем общую историю изменения значений ф-ции потери\n",
    "    \n",
    "    \n",
    "    loss_batch = []\n",
    "    with torch.set_grad_enabled(False):   \n",
    "        # получаем батч проверочных примеров\n",
    "        for input_tensor, target_tensor in DataLoader( ds_val, batch_size=batch_size, shuffle=False): \n",
    "            encoder_outputs, encoder_hidden = model_encoder(input_tensor.to(device))\n",
    "            decoder_outputs, _, _ = model_decoder(encoder_outputs, encoder_hidden, target_tensor.to(device))\n",
    "            loss = criterion(\n",
    "                decoder_outputs.view(-1, decoder_outputs.size(-1)),\n",
    "                target_tensor.to(device).view(-1)\n",
    "            )\n",
    "            loss_batch.append(loss.item()) # дополняем историю изменения значений ф-ции потери на батче\n",
    "\n",
    "    loss_history_val.append( np.mean(loss_batch) ) # дополняем общую историю изменения значений ф-ции потери\n",
    "\n",
    "    if i>n_iter_no_check:\n",
    "        if ( loss_history_val[-lag_val_check]<loss_history_val[-1] ):\n",
    "            print( 'validation loss value up, stoped\\n' )\n",
    "            break"
   ]
  },
  {
   "cell_type": "code",
   "execution_count": 88,
   "id": "c8ac6dbb",
   "metadata": {},
   "outputs": [
    {
     "data": {
      "text/plain": [
       "<matplotlib.legend.Legend at 0x70052609f710>"
      ]
     },
     "execution_count": 88,
     "metadata": {},
     "output_type": "execute_result"
    },
    {
     "data": {
      "image/png": "[encoded data removed]",
      "text/plain": [
       "<Figure size 640x480 with 1 Axes>"
      ]
     },
     "metadata": {},
     "output_type": "display_data"
    }
   ],
   "source": [
    "# история изменения значений ф-ции потери\n",
    "plt.plot(loss_history_train,label='loss_train min=%.3f'%(min(loss_history_train)),c='r')\n",
    "plt.plot(loss_history_val,label='loss_val min=%.3f'%(min(loss_history_val)),c='c')\n",
    "plt.grid()\n",
    "plt.title('история изменения значений ф-ции потери')\n",
    "plt.legend()"
   ]
  },
  {
   "cell_type": "markdown",
   "id": "200e3a75",
   "metadata": {},
   "source": [
    "# Тестируем"
   ]
  },
  {
   "cell_type": "code",
   "execution_count": 91,
   "id": "5c7ae1a6",
   "metadata": {},
   "outputs": [],
   "source": [
    "# !pip install torchtext"
   ]
  },
  {
   "cell_type": "code",
   "execution_count": 92,
   "id": "7ecd38b4",
   "metadata": {},
   "outputs": [],
   "source": [
    "# from nltk.translate.bleu_score import sentence_bleu\n",
    "from torchtext.data.metrics import bleu_score"
   ]
  },
  {
   "cell_type": "code",
   "execution_count": 93,
   "id": "28914bfd",
   "metadata": {},
   "outputs": [],
   "source": [
    "def decode(code,voc): return ' '.join([ voc[c] for c in code if c!=0 ])"
   ]
  },
  {
   "cell_type": "code",
   "execution_count": 94,
   "id": "6f29fd59",
   "metadata": {},
   "outputs": [],
   "source": [
    "voc_ru = { v:k for k,v in ds_train.vocab['Rus'].items() }\n",
    "voc_en = { v:k for k,v in ds_train.vocab['Eng'].items() }"
   ]
  },
  {
   "cell_type": "markdown",
   "id": "4e46fe62",
   "metadata": {},
   "source": [
    "### на учебном наборе"
   ]
  },
  {
   "cell_type": "code",
   "execution_count": 95,
   "id": "cfd72b95",
   "metadata": {},
   "outputs": [
    {
     "data": {
      "text/plain": [
       "(84146, 10)"
      ]
     },
     "metadata": {},
     "output_type": "display_data"
    },
    {
     "data": {
      "text/plain": [
       "(84146, 10)"
      ]
     },
     "metadata": {},
     "output_type": "display_data"
    },
    {
     "data": {
      "text/plain": [
       "(84146, 1, 10)"
      ]
     },
     "metadata": {},
     "output_type": "display_data"
    },
    {
     "name": "stdout",
     "output_type": "stream",
     "text": [
      "CPU times: user 24.3 s, sys: 3.21 s, total: 27.5 s\n",
      "Wall time: 27.3 s\n"
     ]
    }
   ],
   "source": [
    "%%time \n",
    "\n",
    "init_seq = []\n",
    "hypothesis = []\n",
    "reference = []\n",
    "\n",
    "with torch.set_grad_enabled(False):\n",
    "    for input_tensor, target_tensor in DataLoader( ds_train, batch_size=batch_size, shuffle=False): \n",
    "        encoder_outputs, encoder_hidden = model_encoder(input_tensor.to(device))\n",
    "        decoder_outputs, _, _ = model_decoder(encoder_outputs, encoder_hidden, target_tensor.to(device))\n",
    "        \n",
    "        init_seq.append( input_tensor.cpu().numpy() )\n",
    "        \n",
    "        reference.append( target_tensor.cpu().numpy() )\n",
    "        \n",
    "        hypothesis.append( \n",
    "            np.swapaxes(np.argmax(\n",
    "                decoder_outputs.cpu().numpy()\n",
    "                ,axis=-1,keepdims=True),2,1)\n",
    "        )\n",
    "\n",
    "init_seq = np.vstack( init_seq )        \n",
    "reference = np.vstack( reference )\n",
    "hypothesis = np.vstack( hypothesis )\n",
    "\n",
    "display( init_seq.shape, reference.shape, hypothesis.shape, )"
   ]
  },
  {
   "cell_type": "code",
   "execution_count": 96,
   "id": "77991e85",
   "metadata": {},
   "outputs": [
    {
     "data": {
      "text/plain": [
       "0.14059098064899445"
      ]
     },
     "metadata": {},
     "output_type": "display_data"
    },
    {
     "name": "stdout",
     "output_type": "stream",
     "text": [
      "CPU times: user 14.8 s, sys: 11.9 ms, total: 14.9 s\n",
      "Wall time: 15 s\n"
     ]
    }
   ],
   "source": [
    "%%time \n",
    "\n",
    "display( bleu_score( reference.astype(str) , hypothesis.astype(str) ) )"
   ]
  },
  {
   "cell_type": "code",
   "execution_count": 97,
   "id": "f3319d1a",
   "metadata": {},
   "outputs": [
    {
     "data": {
      "application/vnd.jupyter.widget-view+json": {
       "model_id": "8ebad23af68c413587991235fe5dcdd1",
       "version_major": 2,
       "version_minor": 0
      },
      "text/plain": [
       "  0%|          | 0/84146 [00:00<?, ?it/s]"
      ]
     },
     "metadata": {},
     "output_type": "display_data"
    },
    {
     "data": {
      "application/vnd.jupyter.widget-view+json": {
       "model_id": "0547cfb52cc8463aa51da0d59aa61515",
       "version_major": 2,
       "version_minor": 0
      },
      "text/plain": [
       "  0%|          | 0/84146 [00:00<?, ?it/s]"
      ]
     },
     "metadata": {},
     "output_type": "display_data"
    },
    {
     "data": {
      "application/vnd.jupyter.widget-view+json": {
       "model_id": "f138b5af0d34407e9c64508b7b778a3c",
       "version_major": 2,
       "version_minor": 0
      },
      "text/plain": [
       "  0%|          | 0/84146 [00:00<?, ?it/s]"
      ]
     },
     "metadata": {},
     "output_type": "display_data"
    },
    {
     "data": {
      "text/html": [
       "<div>\n",
       "<style scoped>\n",
       "    .dataframe tbody tr th:only-of-type {\n",
       "        vertical-align: middle;\n",
       "    }\n",
       "\n",
       "    .dataframe tbody tr th {\n",
       "        vertical-align: top;\n",
       "    }\n",
       "\n",
       "    .dataframe thead th {\n",
       "        text-align: right;\n",
       "    }\n",
       "</style>\n",
       "<table border=\"1\" class=\"dataframe\">\n",
       "  <thead>\n",
       "    <tr style=\"text-align: right;\">\n",
       "      <th></th>\n",
       "      <th>Rus</th>\n",
       "      <th>Eng_target</th>\n",
       "      <th>Eng_predicted</th>\n",
       "    </tr>\n",
       "  </thead>\n",
       "  <tbody>\n",
       "    <tr>\n",
       "      <th>56004</th>\n",
       "      <td>Ты выглядишь очень хорошо . &lt;EOS&gt;</td>\n",
       "      <td>You look very nice . &lt;EOS&gt;</td>\n",
       "      <td>is to . . &lt;EOS&gt;</td>\n",
       "    </tr>\n",
       "    <tr>\n",
       "      <th>56535</th>\n",
       "      <td>Мы собираемся покрасить стену . &lt;EOS&gt;</td>\n",
       "      <td>We 're going to paint the wall . &lt;EOS&gt;</td>\n",
       "      <td>is to the to the . . &lt;EOS&gt;</td>\n",
       "    </tr>\n",
       "    <tr>\n",
       "      <th>61591</th>\n",
       "      <td>Они не говорят нам правду . &lt;EOS&gt;</td>\n",
       "      <td>They are not telling us the truth . &lt;EOS&gt;</td>\n",
       "      <td>is n't to to to . . &lt;EOS&gt;</td>\n",
       "    </tr>\n",
       "    <tr>\n",
       "      <th>32677</th>\n",
       "      <td>Флаг &lt;UNK&gt; на ветру . &lt;EOS&gt;</td>\n",
       "      <td>The flag &lt;UNK&gt; in the breeze . &lt;EOS&gt;</td>\n",
       "      <td>is n't to the . . &lt;EOS&gt;</td>\n",
       "    </tr>\n",
       "    <tr>\n",
       "      <th>42493</th>\n",
       "      <td>Как ты думаешь , что это значит ? &lt;EOS&gt;</td>\n",
       "      <td>What do you think it means ? &lt;EOS&gt;</td>\n",
       "      <td>is n't n't n't to . &lt;EOS&gt;</td>\n",
       "    </tr>\n",
       "    <tr>\n",
       "      <th>68772</th>\n",
       "      <td>Том мне как отец . &lt;EOS&gt;</td>\n",
       "      <td>Tom is like a father to me . &lt;EOS&gt;</td>\n",
       "      <td>is to the the the the . &lt;EOS&gt;</td>\n",
       "    </tr>\n",
       "    <tr>\n",
       "      <th>43667</th>\n",
       "      <td>Почему ты ушёл ? &lt;EOS&gt;</td>\n",
       "      <td>Why did you leave ? &lt;EOS&gt;</td>\n",
       "      <td>is n't you . &lt;EOS&gt;</td>\n",
       "    </tr>\n",
       "    <tr>\n",
       "      <th>44478</th>\n",
       "      <td>Том старше , чем выглядит . &lt;EOS&gt;</td>\n",
       "      <td>Tom is older than he looks . &lt;EOS&gt;</td>\n",
       "      <td>is to to the you . &lt;EOS&gt;</td>\n",
       "    </tr>\n",
       "    <tr>\n",
       "      <th>16210</th>\n",
       "      <td>Я могу бегать быстрее , чем Кен . &lt;EOS&gt;</td>\n",
       "      <td>I can run faster than Ken . &lt;EOS&gt;</td>\n",
       "      <td>I 'm n't to to me . &lt;EOS&gt;</td>\n",
       "    </tr>\n",
       "    <tr>\n",
       "      <th>12059</th>\n",
       "      <td>Я посетил деревню , в которой он родился . &lt;EOS&gt;</td>\n",
       "      <td>I visited the village where he was born . &lt;EOS&gt;</td>\n",
       "      <td>'m to to to to the me . &lt;EOS&gt;</td>\n",
       "    </tr>\n",
       "    <tr>\n",
       "      <th>78927</th>\n",
       "      <td>Тебе не обязательно на меня орать . &lt;EOS&gt;</td>\n",
       "      <td>You do n't have to yell at me . &lt;EOS&gt;</td>\n",
       "      <td>'m n't n't to to to me . &lt;EOS&gt;</td>\n",
       "    </tr>\n",
       "    <tr>\n",
       "      <th>33476</th>\n",
       "      <td>Фома встретил Машу три года назад . &lt;EOS&gt;</td>\n",
       "      <td>Tom met Mary three years ago . &lt;EOS&gt;</td>\n",
       "      <td>I is to the the . . &lt;EOS&gt;</td>\n",
       "    </tr>\n",
       "    <tr>\n",
       "      <th>36296</th>\n",
       "      <td>Вам надо пойти в &lt;UNK&gt; направлении . &lt;EOS&gt;</td>\n",
       "      <td>You should go in the opposite direction . &lt;EOS&gt;</td>\n",
       "      <td>I is n't to the the . . &lt;EOS&gt;</td>\n",
       "    </tr>\n",
       "    <tr>\n",
       "      <th>48824</th>\n",
       "      <td>Том не знает , чего ожидать . &lt;EOS&gt;</td>\n",
       "      <td>Tom does n't know what to expect . &lt;EOS&gt;</td>\n",
       "      <td>is n't n't to n't you . &lt;EOS&gt;</td>\n",
       "    </tr>\n",
       "    <tr>\n",
       "      <th>10107</th>\n",
       "      <td>Где ты был вчера ? &lt;EOS&gt;</td>\n",
       "      <td>Where were you yesterday ? &lt;EOS&gt;</td>\n",
       "      <td>is to you . &lt;EOS&gt;</td>\n",
       "    </tr>\n",
       "    <tr>\n",
       "      <th>2530</th>\n",
       "      <td>Я вернусь через десять минут . &lt;EOS&gt;</td>\n",
       "      <td>I 'll be back in ten minutes . &lt;EOS&gt;</td>\n",
       "      <td>do n't to to the . . &lt;EOS&gt;</td>\n",
       "    </tr>\n",
       "    <tr>\n",
       "      <th>42341</th>\n",
       "      <td>Без тебя будет очень одиноко . &lt;EOS&gt;</td>\n",
       "      <td>It 'll be really lonely without you . &lt;EOS&gt;</td>\n",
       "      <td>is n't to to the . . &lt;EOS&gt;</td>\n",
       "    </tr>\n",
       "  </tbody>\n",
       "</table>\n",
       "</div>"
      ],
      "text/plain": [
       "                                                    Rus  \\\n",
       "56004                 Ты выглядишь очень хорошо . <EOS>   \n",
       "56535             Мы собираемся покрасить стену . <EOS>   \n",
       "61591                 Они не говорят нам правду . <EOS>   \n",
       "32677                       Флаг <UNK> на ветру . <EOS>   \n",
       "42493           Как ты думаешь , что это значит ? <EOS>   \n",
       "68772                          Том мне как отец . <EOS>   \n",
       "43667                            Почему ты ушёл ? <EOS>   \n",
       "44478                 Том старше , чем выглядит . <EOS>   \n",
       "16210           Я могу бегать быстрее , чем Кен . <EOS>   \n",
       "12059  Я посетил деревню , в которой он родился . <EOS>   \n",
       "78927         Тебе не обязательно на меня орать . <EOS>   \n",
       "33476         Фома встретил Машу три года назад . <EOS>   \n",
       "36296        Вам надо пойти в <UNK> направлении . <EOS>   \n",
       "48824               Том не знает , чего ожидать . <EOS>   \n",
       "10107                          Где ты был вчера ? <EOS>   \n",
       "2530               Я вернусь через десять минут . <EOS>   \n",
       "42341              Без тебя будет очень одиноко . <EOS>   \n",
       "\n",
       "                                            Eng_target  \\\n",
       "56004                       You look very nice . <EOS>   \n",
       "56535           We 're going to paint the wall . <EOS>   \n",
       "61591        They are not telling us the truth . <EOS>   \n",
       "32677             The flag <UNK> in the breeze . <EOS>   \n",
       "42493               What do you think it means ? <EOS>   \n",
       "68772               Tom is like a father to me . <EOS>   \n",
       "43667                        Why did you leave ? <EOS>   \n",
       "44478               Tom is older than he looks . <EOS>   \n",
       "16210                I can run faster than Ken . <EOS>   \n",
       "12059  I visited the village where he was born . <EOS>   \n",
       "78927            You do n't have to yell at me . <EOS>   \n",
       "33476             Tom met Mary three years ago . <EOS>   \n",
       "36296  You should go in the opposite direction . <EOS>   \n",
       "48824         Tom does n't know what to expect . <EOS>   \n",
       "10107                 Where were you yesterday ? <EOS>   \n",
       "2530              I 'll be back in ten minutes . <EOS>   \n",
       "42341      It 'll be really lonely without you . <EOS>   \n",
       "\n",
       "                        Eng_predicted  \n",
       "56004                 is to . . <EOS>  \n",
       "56535      is to the to the . . <EOS>  \n",
       "61591       is n't to to to . . <EOS>  \n",
       "32677         is n't to the . . <EOS>  \n",
       "42493       is n't n't n't to . <EOS>  \n",
       "68772   is to the the the the . <EOS>  \n",
       "43667              is n't you . <EOS>  \n",
       "44478        is to to the you . <EOS>  \n",
       "16210       I 'm n't to to me . <EOS>  \n",
       "12059   'm to to to to the me . <EOS>  \n",
       "78927  'm n't n't to to to me . <EOS>  \n",
       "33476       I is to the the . . <EOS>  \n",
       "36296   I is n't to the the . . <EOS>  \n",
       "48824   is n't n't to n't you . <EOS>  \n",
       "10107               is to you . <EOS>  \n",
       "2530       do n't to to the . . <EOS>  \n",
       "42341      is n't to to the . . <EOS>  "
      ]
     },
     "metadata": {},
     "output_type": "display_data"
    }
   ],
   "source": [
    "df_train_  = pd.DataFrame({\n",
    "        'Rus': [ decode( v , voc_ru ) for v in tqdm( init_seq) ],\n",
    "        'Eng_target': [ decode( v , voc_en ) for v in tqdm(reference) ],\n",
    "        'Eng_predicted': [ decode( v , voc_en ) for v in tqdm( np.squeeze(hypothesis)) ],\n",
    "    })\n",
    "\n",
    "display( df_train_.sample(17) )"
   ]
  },
  {
   "cell_type": "code",
   "execution_count": 98,
   "id": "f83ae83d",
   "metadata": {},
   "outputs": [],
   "source": [
    "del init_seq\n",
    "del hypothesis\n",
    "del reference"
   ]
  },
  {
   "cell_type": "markdown",
   "id": "0ba4f908",
   "metadata": {},
   "source": [
    "### на тестовом наборе"
   ]
  },
  {
   "cell_type": "code",
   "execution_count": 99,
   "id": "2afc6493",
   "metadata": {},
   "outputs": [
    {
     "data": {
      "application/vnd.jupyter.widget-view+json": {
       "model_id": "7b26bb83162846e1a5d24531e8bda49a",
       "version_major": 2,
       "version_minor": 0
      },
      "text/plain": [
       "  0%|          | 0/10388 [00:00<?, ?it/s]"
      ]
     },
     "metadata": {},
     "output_type": "display_data"
    },
    {
     "data": {
      "application/vnd.jupyter.widget-view+json": {
       "model_id": "ae37fc7086a9487eba96b3b410b5856b",
       "version_major": 2,
       "version_minor": 0
      },
      "text/plain": [
       "  0%|          | 0/10388 [00:00<?, ?it/s]"
      ]
     },
     "metadata": {},
     "output_type": "display_data"
    }
   ],
   "source": [
    "ds_test = TextPairDataset(df_test, vocab=ds_train.vocab)"
   ]
  },
  {
   "cell_type": "code",
   "execution_count": 100,
   "id": "3dc5d9b0",
   "metadata": {},
   "outputs": [
    {
     "data": {
      "text/plain": [
       "(10388, 10)"
      ]
     },
     "metadata": {},
     "output_type": "display_data"
    },
    {
     "data": {
      "text/plain": [
       "(10388, 10)"
      ]
     },
     "metadata": {},
     "output_type": "display_data"
    },
    {
     "data": {
      "text/plain": [
       "(10388, 1, 10)"
      ]
     },
     "metadata": {},
     "output_type": "display_data"
    },
    {
     "name": "stdout",
     "output_type": "stream",
     "text": [
      "CPU times: user 3.14 s, sys: 387 ms, total: 3.53 s\n",
      "Wall time: 3.52 s\n"
     ]
    }
   ],
   "source": [
    "%%time \n",
    "\n",
    "init_seq = []\n",
    "hypothesis = []\n",
    "reference = []\n",
    "\n",
    "with torch.set_grad_enabled(False):\n",
    "    for input_tensor, target_tensor in DataLoader( ds_test, batch_size=batch_size, shuffle=False): \n",
    "        encoder_outputs, encoder_hidden = model_encoder(input_tensor.to(device))\n",
    "        decoder_outputs, _, _ = model_decoder(encoder_outputs, encoder_hidden, target_tensor.to(device))\n",
    "        \n",
    "        init_seq.append( input_tensor.cpu().numpy() )\n",
    "        \n",
    "        reference.append( target_tensor.cpu().numpy() )\n",
    "        \n",
    "        hypothesis.append( \n",
    "            np.swapaxes(np.argmax(\n",
    "                decoder_outputs.cpu().numpy()\n",
    "                ,axis=-1,keepdims=True),2,1)\n",
    "        )\n",
    "\n",
    "init_seq = np.vstack( init_seq )        \n",
    "reference = np.vstack( reference )\n",
    "hypothesis = np.vstack( hypothesis )\n",
    "\n",
    "display( init_seq.shape, reference.shape, hypothesis.shape, )"
   ]
  },
  {
   "cell_type": "code",
   "execution_count": 101,
   "id": "49af74c0",
   "metadata": {},
   "outputs": [
    {
     "data": {
      "text/plain": [
       "0.14123807847499847"
      ]
     },
     "metadata": {},
     "output_type": "display_data"
    },
    {
     "name": "stdout",
     "output_type": "stream",
     "text": [
      "CPU times: user 1.89 s, sys: 50 µs, total: 1.89 s\n",
      "Wall time: 1.9 s\n"
     ]
    }
   ],
   "source": [
    "%%time \n",
    "\n",
    "display( bleu_score( reference.astype(str) , hypothesis.astype(str) ) )"
   ]
  },
  {
   "cell_type": "code",
   "execution_count": 102,
   "id": "fdeddba9",
   "metadata": {},
   "outputs": [
    {
     "data": {
      "application/vnd.jupyter.widget-view+json": {
       "model_id": "8d9eb9ad4146493c988345204b3a71e0",
       "version_major": 2,
       "version_minor": 0
      },
      "text/plain": [
       "  0%|          | 0/10388 [00:00<?, ?it/s]"
      ]
     },
     "metadata": {},
     "output_type": "display_data"
    },
    {
     "data": {
      "application/vnd.jupyter.widget-view+json": {
       "model_id": "1a696bbe45d84e53a94ae038d45ef897",
       "version_major": 2,
       "version_minor": 0
      },
      "text/plain": [
       "  0%|          | 0/10388 [00:00<?, ?it/s]"
      ]
     },
     "metadata": {},
     "output_type": "display_data"
    },
    {
     "data": {
      "application/vnd.jupyter.widget-view+json": {
       "model_id": "4772d4e918ab414db9a1c0bce83d0394",
       "version_major": 2,
       "version_minor": 0
      },
      "text/plain": [
       "  0%|          | 0/10388 [00:00<?, ?it/s]"
      ]
     },
     "metadata": {},
     "output_type": "display_data"
    },
    {
     "data": {
      "text/html": [
       "<div>\n",
       "<style scoped>\n",
       "    .dataframe tbody tr th:only-of-type {\n",
       "        vertical-align: middle;\n",
       "    }\n",
       "\n",
       "    .dataframe tbody tr th {\n",
       "        vertical-align: top;\n",
       "    }\n",
       "\n",
       "    .dataframe thead th {\n",
       "        text-align: right;\n",
       "    }\n",
       "</style>\n",
       "<table border=\"1\" class=\"dataframe\">\n",
       "  <thead>\n",
       "    <tr style=\"text-align: right;\">\n",
       "      <th></th>\n",
       "      <th>Rus</th>\n",
       "      <th>Eng_target</th>\n",
       "      <th>Eng_predicted</th>\n",
       "    </tr>\n",
       "  </thead>\n",
       "  <tbody>\n",
       "    <tr>\n",
       "      <th>1318</th>\n",
       "      <td>Он воспользовался этой возможностью . &lt;EOS&gt;</td>\n",
       "      <td>He took advantage of the opportunity . &lt;EOS&gt;</td>\n",
       "      <td>is to the the . . &lt;EOS&gt;</td>\n",
       "    </tr>\n",
       "    <tr>\n",
       "      <th>5382</th>\n",
       "      <td>Это старая книга . &lt;EOS&gt;</td>\n",
       "      <td>This is an old book . &lt;EOS&gt;</td>\n",
       "      <td>is to the . . &lt;EOS&gt;</td>\n",
       "    </tr>\n",
       "    <tr>\n",
       "      <th>10051</th>\n",
       "      <td>Он взглянул на часы . &lt;EOS&gt;</td>\n",
       "      <td>He glanced at his watch . &lt;EOS&gt;</td>\n",
       "      <td>is the the . . &lt;EOS&gt;</td>\n",
       "    </tr>\n",
       "    <tr>\n",
       "      <th>10228</th>\n",
       "      <td>Том рассказал Мэри всё о своём детстве . &lt;EOS&gt;</td>\n",
       "      <td>Tom told Mary all about his childhood . &lt;EOS&gt;</td>\n",
       "      <td>is to to to the . . &lt;EOS&gt;</td>\n",
       "    </tr>\n",
       "    <tr>\n",
       "      <th>668</th>\n",
       "      <td>Том загадал желание . &lt;EOS&gt;</td>\n",
       "      <td>Tom made a wish . &lt;EOS&gt;</td>\n",
       "      <td>is to . . &lt;EOS&gt;</td>\n",
       "    </tr>\n",
       "    <tr>\n",
       "      <th>752</th>\n",
       "      <td>Я вешу пятьдесят восемь килограмм . &lt;EOS&gt;</td>\n",
       "      <td>I weigh 58 kilograms . &lt;EOS&gt;</td>\n",
       "      <td>I I you to . . &lt;EOS&gt;</td>\n",
       "    </tr>\n",
       "    <tr>\n",
       "      <th>10300</th>\n",
       "      <td>Я не хочу готовить еду . &lt;EOS&gt;</td>\n",
       "      <td>I do n't want to cook . &lt;EOS&gt;</td>\n",
       "      <td>I do n't n't to you . &lt;EOS&gt;</td>\n",
       "    </tr>\n",
       "    <tr>\n",
       "      <th>4679</th>\n",
       "      <td>Я видел тебя с ним в парке . &lt;EOS&gt;</td>\n",
       "      <td>I saw you in the park with him . &lt;EOS&gt;</td>\n",
       "      <td>'m to n't to the to . . &lt;EOS&gt;</td>\n",
       "    </tr>\n",
       "    <tr>\n",
       "      <th>9793</th>\n",
       "      <td>Ты скоро привыкнешь к шуму . &lt;EOS&gt;</td>\n",
       "      <td>You 'll soon get used to the noise . &lt;EOS&gt;</td>\n",
       "      <td>is to to the the the . . &lt;EOS&gt;</td>\n",
       "    </tr>\n",
       "    <tr>\n",
       "      <th>5345</th>\n",
       "      <td>Мы встретились лишь сегодня вечером . &lt;EOS&gt;</td>\n",
       "      <td>We just met tonight . &lt;EOS&gt;</td>\n",
       "      <td>I I is to . . &lt;EOS&gt;</td>\n",
       "    </tr>\n",
       "    <tr>\n",
       "      <th>6314</th>\n",
       "      <td>Нет ничего страшнее смерти . &lt;EOS&gt;</td>\n",
       "      <td>There is nothing scarier than death . &lt;EOS&gt;</td>\n",
       "      <td>is to the the . . &lt;EOS&gt;</td>\n",
       "    </tr>\n",
       "    <tr>\n",
       "      <th>10359</th>\n",
       "      <td>Мне придется весь день провести в постели . &lt;EOS&gt;</td>\n",
       "      <td>I have to stay in bed all day . &lt;EOS&gt;</td>\n",
       "      <td>'m to n't to to the . . &lt;EOS&gt;</td>\n",
       "    </tr>\n",
       "    <tr>\n",
       "      <th>8793</th>\n",
       "      <td>Мария посещает уроки пианино раз в неделю . &lt;EOS&gt;</td>\n",
       "      <td>Maria takes piano lessons once a week . &lt;EOS&gt;</td>\n",
       "      <td>is to to the the . . &lt;EOS&gt;</td>\n",
       "    </tr>\n",
       "    <tr>\n",
       "      <th>9932</th>\n",
       "      <td>Все его раны поверхностные . &lt;EOS&gt;</td>\n",
       "      <td>His injuries are all external . &lt;EOS&gt;</td>\n",
       "      <td>is to the . . &lt;EOS&gt;</td>\n",
       "    </tr>\n",
       "    <tr>\n",
       "      <th>3323</th>\n",
       "      <td>Рад тебя видеть ! &lt;EOS&gt;</td>\n",
       "      <td>I 'm glad to see you ! &lt;EOS&gt;</td>\n",
       "      <td>'m to n't you me . &lt;EOS&gt;</td>\n",
       "    </tr>\n",
       "    <tr>\n",
       "      <th>2621</th>\n",
       "      <td>Вы когда-нибудь слышали , как Том поёт ? &lt;EOS&gt;</td>\n",
       "      <td>Have you ever heard Tom sing ? &lt;EOS&gt;</td>\n",
       "      <td>I is n't to to me . &lt;EOS&gt;</td>\n",
       "    </tr>\n",
       "    <tr>\n",
       "      <th>10146</th>\n",
       "      <td>Том впустил меня . &lt;EOS&gt;</td>\n",
       "      <td>Tom let me in . &lt;EOS&gt;</td>\n",
       "      <td>is to . . &lt;EOS&gt;</td>\n",
       "    </tr>\n",
       "  </tbody>\n",
       "</table>\n",
       "</div>"
      ],
      "text/plain": [
       "                                                     Rus  \\\n",
       "1318         Он воспользовался этой возможностью . <EOS>   \n",
       "5382                            Это старая книга . <EOS>   \n",
       "10051                        Он взглянул на часы . <EOS>   \n",
       "10228     Том рассказал Мэри всё о своём детстве . <EOS>   \n",
       "668                          Том загадал желание . <EOS>   \n",
       "752            Я вешу пятьдесят восемь килограмм . <EOS>   \n",
       "10300                     Я не хочу готовить еду . <EOS>   \n",
       "4679                  Я видел тебя с ним в парке . <EOS>   \n",
       "9793                  Ты скоро привыкнешь к шуму . <EOS>   \n",
       "5345         Мы встретились лишь сегодня вечером . <EOS>   \n",
       "6314                  Нет ничего страшнее смерти . <EOS>   \n",
       "10359  Мне придется весь день провести в постели . <EOS>   \n",
       "8793   Мария посещает уроки пианино раз в неделю . <EOS>   \n",
       "9932                  Все его раны поверхностные . <EOS>   \n",
       "3323                             Рад тебя видеть ! <EOS>   \n",
       "2621      Вы когда-нибудь слышали , как Том поёт ? <EOS>   \n",
       "10146                           Том впустил меня . <EOS>   \n",
       "\n",
       "                                          Eng_target  \\\n",
       "1318    He took advantage of the opportunity . <EOS>   \n",
       "5382                     This is an old book . <EOS>   \n",
       "10051                He glanced at his watch . <EOS>   \n",
       "10228  Tom told Mary all about his childhood . <EOS>   \n",
       "668                          Tom made a wish . <EOS>   \n",
       "752                     I weigh 58 kilograms . <EOS>   \n",
       "10300                  I do n't want to cook . <EOS>   \n",
       "4679          I saw you in the park with him . <EOS>   \n",
       "9793      You 'll soon get used to the noise . <EOS>   \n",
       "5345                     We just met tonight . <EOS>   \n",
       "6314     There is nothing scarier than death . <EOS>   \n",
       "10359          I have to stay in bed all day . <EOS>   \n",
       "8793   Maria takes piano lessons once a week . <EOS>   \n",
       "9932           His injuries are all external . <EOS>   \n",
       "3323                    I 'm glad to see you ! <EOS>   \n",
       "2621            Have you ever heard Tom sing ? <EOS>   \n",
       "10146                          Tom let me in . <EOS>   \n",
       "\n",
       "                        Eng_predicted  \n",
       "1318          is to the the . . <EOS>  \n",
       "5382              is to the . . <EOS>  \n",
       "10051            is the the . . <EOS>  \n",
       "10228       is to to to the . . <EOS>  \n",
       "668                   is to . . <EOS>  \n",
       "752              I I you to . . <EOS>  \n",
       "10300     I do n't n't to you . <EOS>  \n",
       "4679    'm to n't to the to . . <EOS>  \n",
       "9793   is to to the the the . . <EOS>  \n",
       "5345              I I is to . . <EOS>  \n",
       "6314          is to the the . . <EOS>  \n",
       "10359   'm to n't to to the . . <EOS>  \n",
       "8793       is to to the the . . <EOS>  \n",
       "9932              is to the . . <EOS>  \n",
       "3323         'm to n't you me . <EOS>  \n",
       "2621        I is n't to to me . <EOS>  \n",
       "10146                 is to . . <EOS>  "
      ]
     },
     "metadata": {},
     "output_type": "display_data"
    }
   ],
   "source": [
    "df_test_  = pd.DataFrame({\n",
    "        'Rus': [ decode( v , voc_ru ) for v in tqdm( init_seq) ],\n",
    "        'Eng_target': [ decode( v , voc_en ) for v in tqdm(reference) ],\n",
    "        'Eng_predicted': [ decode( v , voc_en ) for v in tqdm( np.squeeze(hypothesis)) ],\n",
    "    })\n",
    "\n",
    "display( df_test_.sample(17) )"
   ]
  },
  {
   "cell_type": "code",
   "execution_count": 103,
   "id": "311e057b",
   "metadata": {},
   "outputs": [],
   "source": [
    "del init_seq\n",
    "del hypothesis\n",
    "del reference"
   ]
  },
  {
   "cell_type": "markdown",
   "id": "40872313",
   "metadata": {},
   "source": [
    "---"
   ]
  },
  {
   "cell_type": "code",
   "execution_count": null,
   "id": "fd6b45e7",
   "metadata": {},
   "outputs": [],
   "source": [
    "# from torchtext.data.metrics import bleu_score\n",
    "\n",
    "# candidate_corpus = [\n",
    "#     ['My', 'full', 'pytorch', 'test'], \n",
    "#     ['Another', 'Sentence']\n",
    "# ]\n",
    "\n",
    "# references_corpus = [\n",
    "#     [\n",
    "#         ['My', 'full', 'pytorch', 'test'], \n",
    "#         ['Completely', 'Different']\n",
    "#     ], [\n",
    "#         ['No', 'Match']\n",
    "#     ]\n",
    "# ]\n",
    "\n",
    "# bleu_score(candidate_corpus, references_corpus)"
   ]
  },
  {
   "cell_type": "code",
   "execution_count": null,
   "id": "5b98096f",
   "metadata": {},
   "outputs": [],
   "source": [
    "# from nltk.translate.bleu_score import sentence_bleu\n",
    "\n",
    "# hypothesis = ['It', 'is', 'a', 'cat', 'at', 'room']\n",
    "# reference = ['It', 'is', 'a', 'cat', 'inside', 'the', 'room']\n",
    "\n",
    "# # hypothesis = [ '0', '1', '2', '3', '4', '6']\n",
    "# # reference = [ '0', '1', '2', '3',  '5', '7', '6' ]\n",
    "\n",
    "# bleu_score([hypothesis], [[reference,]])"
   ]
  },
  {
   "cell_type": "code",
   "execution_count": null,
   "id": "817b2b7d",
   "metadata": {},
   "outputs": [],
   "source": []
  }
 ],
 "metadata": {
  "kernelspec": {
   "display_name": "Python 3 (ipykernel)",
   "language": "python",
   "name": "python3"
  },
  "language_info": {
   "codemirror_mode": {
    "name": "ipython",
    "version": 3
   },
   "file_extension": ".py",
   "mimetype": "text/x-python",
   "name": "python",
   "nbconvert_exporter": "python",
   "pygments_lexer": "ipython3",
   "version": "3.11.7"
  },
  "toc": {
   "base_numbering": 1,
   "nav_menu": {},
   "number_sections": true,
   "sideBar": true,
   "skip_h1_title": false,
   "title_cell": "Table of Contents",
   "title_sidebar": "Contents",
   "toc_cell": false,
   "toc_position": {},
   "toc_section_display": true,
   "toc_window_display": false
  }
 },
 "nbformat": 4,
 "nbformat_minor": 5
}
