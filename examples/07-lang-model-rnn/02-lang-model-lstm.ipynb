{
 "cells": [
  {
   "cell_type": "markdown",
   "id": "9095d55d",
   "metadata": {},
   "source": [
    "__Нейросетевая языковая модель на основе LSTM__ \n",
    "\n",
    "Евгений Борисов <esborisov@sevsu.ru>"
   ]
  },
  {
   "cell_type": "markdown",
   "id": "07022919",
   "metadata": {},
   "source": [
    "---"
   ]
  },
  {
   "cell_type": "markdown",
   "id": "2e6cd24f",
   "metadata": {},
   "source": [
    "# загружаем тексты"
   ]
  },
  {
   "cell_type": "code",
   "execution_count": 1,
   "id": "aa559631",
   "metadata": {},
   "outputs": [],
   "source": [
    "import gzip\n",
    "import requests\n",
    "from bs4 import BeautifulSoup"
   ]
  },
  {
   "cell_type": "code",
   "execution_count": 2,
   "id": "0f4b215a",
   "metadata": {},
   "outputs": [
    {
     "name": "stdout",
     "output_type": "stream",
     "text": [
      "символов:637765\n",
      "---------------\n",
      "\n",
      "Вы прилетели в  Нью-Йорк и  остановились  в  одном  из отелей, глядящих\n",
      "окнами на Центральный парк.  Наутро по  приезде вы вышли из  отеля, вдохнули\n",
      "полной грудью очищенный зеленью парка воздух  и,  взглянув на часы, --  пора\n",
      "было начинать хлопотливый день, --  направились к  первому из  таксомоторов,\n",
      "выстроившихся вереницей у подъезда.\n",
      "    \n"
     ]
    }
   ],
   "source": [
    "url='http://lib.ru/NEWPROZA/LOBAS/taxisty.txt'\n",
    "text = BeautifulSoup(requests.get(url).text).get_text()\n",
    "with gzip.open('taxisty.txt.gz','wt') as f: f.write(text)\n",
    "\n",
    "# with gzip.open('taxisty.txt.gz','rt') as f: text = f.read()\n",
    "\n",
    "text = text[1030:-7261].strip() # выкидываем заголовок и хвост страницы \n",
    "print(f'символов:{len(text)}\\n---------------\\n'%())\n",
    "print(text[:343])"
   ]
  },
  {
   "cell_type": "code",
   "execution_count": 3,
   "id": "18b79044",
   "metadata": {},
   "outputs": [],
   "source": [
    "# url='http://az.lib.ru/d/dostoewskij_f_m/text_0080.shtml'\n",
    "# text = BeautifulSoup(requests.get(url).text).get_text()\n",
    "# with gzip.open('dostoewskij.txt.gz','wt') as f: f.write(text)\n",
    "\n",
    "# # with gzip.open('dostoewskij.txt.gz','rt') as f: text = f.read()\n",
    "\n",
    "# text = text[2876:-664184].strip() # выкидываем заголовок и хвост страницы \n",
    "# print(f'символов:{len(text)}\\n---------------\\n'%())\n",
    "# print(text[:355])"
   ]
  },
  {
   "cell_type": "markdown",
   "id": "26585711",
   "metadata": {},
   "source": [
    "---"
   ]
  },
  {
   "cell_type": "code",
   "execution_count": 4,
   "id": "00e4ef07",
   "metadata": {},
   "outputs": [],
   "source": [
    "# !pip install torch"
   ]
  },
  {
   "cell_type": "code",
   "execution_count": 5,
   "id": "7e583532",
   "metadata": {},
   "outputs": [],
   "source": [
    "import torch\n",
    "import numpy as np\n",
    "# import torchtext\n",
    "# from torchtext.data import get_tokenizer"
   ]
  },
  {
   "cell_type": "code",
   "execution_count": 6,
   "id": "bd6331b8",
   "metadata": {},
   "outputs": [
    {
     "name": "stdout",
     "output_type": "stream",
     "text": [
      "nltk version: 3.8.1\n"
     ]
    }
   ],
   "source": [
    "from nltk import __version__ as nltk_version\n",
    "print('nltk version:',nltk_version)"
   ]
  },
  {
   "cell_type": "code",
   "execution_count": 7,
   "id": "e23ebdb8",
   "metadata": {},
   "outputs": [],
   "source": [
    "from tqdm.auto import tqdm\n",
    "\n",
    "from itertools import chain\n",
    "\n",
    "from nltk.tokenize import sent_tokenize as nltk_sentence_split\n",
    "from nltk.tokenize import word_tokenize as nltk_tokenize_word\n",
    "from nltk.util import ngrams\n",
    "\n",
    "from torch.utils.data import Dataset\n",
    "import torch.nn.functional as F"
   ]
  },
  {
   "cell_type": "code",
   "execution_count": 8,
   "id": "6b15b8e5",
   "metadata": {},
   "outputs": [],
   "source": [
    "class ContextDataset(Dataset):\n",
    "    \n",
    "    def __init__(self, text, context_len=5):\n",
    "        assert context_len>1\n",
    "        assert len(text)>1\n",
    "        \n",
    "        self._context_len = context_len\n",
    "        self._sentences = [ \n",
    "            nltk_tokenize_word(s,language='russian') # разбиваем предложения на слова\n",
    "            for s in tqdm(nltk_sentence_split(text,language='russian')) # режем текст на отдельные предложения\n",
    "        ]\n",
    "        self._tokens = ['<UNK>','<EOS>',]\n",
    "        self._vocabulary = self._build_vocabulary(self._sentences)\n",
    "        self._sentences = [ s + [ '<EOS>' ] for s in self._sentences if len(s)> self._context_len ]\n",
    "        self._data = self._encode_ngrams( self._build_ngrams(self._sentences) )\n",
    "        \n",
    "    def _build_vocabulary(self,sentences):        \n",
    "        text_tokens = self._tokens+sorted( set(chain(*sentences)) ) # собираем все токены (слова) из текста\n",
    "        vocabulary = { w:n for n,w in enumerate(text_tokens) }\n",
    "        return vocabulary\n",
    "    \n",
    "    def _build_ngrams(self, sentences):\n",
    "        return [ \n",
    "            ng for s in tqdm(sentences)  for ng in ngrams( s, self._context_len+1 ) \n",
    "        ]\n",
    "    \n",
    "    def _encode_ngrams(self,ngrams):\n",
    "        return torch.tensor([ self.encode(ng) for ng in tqdm(ngrams) ], dtype=torch.long ) \n",
    "    \n",
    "    \n",
    "    def __getitem__(self, idx):\n",
    "        return (\n",
    "            self._data[idx,:-1],\n",
    "            # self._data[idx,-1]\n",
    "            F.one_hot( self._data[idx,-1], num_classes=len(self._vocabulary)).to( torch.float32 ) \n",
    "        )\n",
    "        \n",
    "    def __len__(self): return len(self._data)\n",
    "    \n",
    "    @property\n",
    "    def vocabulary(self): return self._vocabulary\n",
    "    \n",
    "    @property\n",
    "    def sentences(self): return self._sentences\n",
    "        \n",
    "    def encode(self,s): return [ \n",
    "            self._vocabulary[w] if (w in self._vocabulary) else self._tokens['<UNK>']\n",
    "            for w in s \n",
    "        ]"
   ]
  },
  {
   "cell_type": "code",
   "execution_count": 9,
   "id": "3e841803",
   "metadata": {},
   "outputs": [
    {
     "data": {
      "application/vnd.jupyter.widget-view+json": {
       "model_id": "d27b646a5b3e462f9d1bd880bb54a928",
       "version_major": 2,
       "version_minor": 0
      },
      "text/plain": [
       "  0%|          | 0/6650 [00:00<?, ?it/s]"
      ]
     },
     "metadata": {},
     "output_type": "display_data"
    },
    {
     "data": {
      "application/vnd.jupyter.widget-view+json": {
       "model_id": "ebba0f61503c48dba134086c07e6ca4d",
       "version_major": 2,
       "version_minor": 0
      },
      "text/plain": [
       "  0%|          | 0/5382 [00:00<?, ?it/s]"
      ]
     },
     "metadata": {},
     "output_type": "display_data"
    },
    {
     "data": {
      "application/vnd.jupyter.widget-view+json": {
       "model_id": "41679791b9044c549fd15acfe2a96d1c",
       "version_major": 2,
       "version_minor": 0
      },
      "text/plain": [
       "  0%|          | 0/90648 [00:00<?, ?it/s]"
      ]
     },
     "metadata": {},
     "output_type": "display_data"
    }
   ],
   "source": [
    "ds = ContextDataset(text)"
   ]
  },
  {
   "cell_type": "code",
   "execution_count": 11,
   "id": "a6e367fe",
   "metadata": {},
   "outputs": [
    {
     "data": {
      "text/plain": [
       "90648"
      ]
     },
     "metadata": {},
     "output_type": "display_data"
    },
    {
     "data": {
      "text/plain": [
       "5382"
      ]
     },
     "metadata": {},
     "output_type": "display_data"
    },
    {
     "data": {
      "text/plain": [
       "24068"
      ]
     },
     "metadata": {},
     "output_type": "display_data"
    },
    {
     "data": {
      "text/plain": [
       "24067"
      ]
     },
     "metadata": {},
     "output_type": "display_data"
    }
   ],
   "source": [
    "display(len(ds))\n",
    "display(len(ds.sentences))\n",
    "display(len(ds.vocabulary))\n",
    "display(max(ds.vocabulary.values()))"
   ]
  },
  {
   "cell_type": "code",
   "execution_count": 12,
   "id": "8608247e",
   "metadata": {},
   "outputs": [],
   "source": [
    "# x,t = ds[:3]\n",
    "# display(x.shape)\n",
    "# display(t.shape)"
   ]
  },
  {
   "cell_type": "code",
   "execution_count": 13,
   "id": "8a577263",
   "metadata": {},
   "outputs": [],
   "source": [
    "assert len(ds.vocabulary)== max(ds.vocabulary.values())+1"
   ]
  },
  {
   "cell_type": "code",
   "execution_count": 14,
   "id": "9ac1e680",
   "metadata": {},
   "outputs": [],
   "source": [
    "# ds.vocabulary"
   ]
  },
  {
   "cell_type": "code",
   "execution_count": 15,
   "id": "1305384e",
   "metadata": {},
   "outputs": [],
   "source": [
    "# x,t = ds[:7]\n",
    "# display( x.shape,t.shape )"
   ]
  },
  {
   "cell_type": "code",
   "execution_count": 16,
   "id": "002cbdf3",
   "metadata": {},
   "outputs": [],
   "source": [
    "# display( ds.sentences[2] )"
   ]
  },
  {
   "cell_type": "markdown",
   "id": "29c52b60",
   "metadata": {},
   "source": [
    "# модель"
   ]
  },
  {
   "cell_type": "code",
   "execution_count": 17,
   "id": "00c3290f",
   "metadata": {},
   "outputs": [],
   "source": [
    "import torch.nn as nn\n",
    "import torch.nn.functional as F"
   ]
  },
  {
   "cell_type": "code",
   "execution_count": 18,
   "id": "2ef50891",
   "metadata": {},
   "outputs": [],
   "source": [
    "class Model(nn.Module):\n",
    "    \n",
    "    def __init__(self, vocab_len, embedding_len=256, hidden_dim=1024,):\n",
    "        super().__init__()\n",
    "        self._embeddings = nn.Embedding( vocab_len, embedding_len )\n",
    "        # рекуррентный слой\n",
    "        self._lstm = nn.LSTM( input_size=embedding_len, hidden_size=hidden_dim, batch_first=True ) \n",
    "        self._linear = nn.Linear( hidden_dim, vocab_len ) # выходной (линейный) слой\n",
    "        self._softmax = nn.Softmax(dim=1)\n",
    "\n",
    "    def forward(self,x):\n",
    "        o = self._embeddings(x)\n",
    "        _,(h,_) = self._lstm(o) # обрабатываем входную последовательность\n",
    "        h = h.squeeze(0) # прекомпоновка тензора, сокращаем размерность\n",
    "        o = self._linear(h) # считаем выход сети\n",
    "        o = self._softmax(o)\n",
    "        return o\n",
    "    \n",
    "    def predict(self,x):\n",
    "        return torch.argmax(self.forward(x),dim=1)"
   ]
  },
  {
   "cell_type": "markdown",
   "id": "6fc94dc2",
   "metadata": {},
   "source": [
    "# обучаем модель"
   ]
  },
  {
   "cell_type": "code",
   "execution_count": 19,
   "id": "181bdf15",
   "metadata": {},
   "outputs": [
    {
     "data": {
      "text/plain": [
       "device(type='cuda', index=0)"
      ]
     },
     "metadata": {},
     "output_type": "display_data"
    },
    {
     "data": {
      "text/plain": [
       "'Tesla P40'"
      ]
     },
     "metadata": {},
     "output_type": "display_data"
    }
   ],
   "source": [
    "# проверяем GPU\n",
    "device = torch.device('cuda:0' if torch.cuda.is_available() else 'cpu')\n",
    "display( device )\n",
    "display( torch.cuda.get_device_name() )"
   ]
  },
  {
   "cell_type": "code",
   "execution_count": 20,
   "id": "19d4a148",
   "metadata": {},
   "outputs": [],
   "source": [
    "# display( len(ds.vocabulary) )\n",
    "# display( max(ds.vocabulary.values()) )"
   ]
  },
  {
   "cell_type": "code",
   "execution_count": 21,
   "id": "6075112c",
   "metadata": {},
   "outputs": [],
   "source": [
    "# del model"
   ]
  },
  {
   "cell_type": "code",
   "execution_count": 22,
   "id": "94a7eddd",
   "metadata": {},
   "outputs": [],
   "source": [
    "model = Model(vocab_len=len(ds.vocabulary)).to(device)"
   ]
  },
  {
   "cell_type": "code",
   "execution_count": 23,
   "id": "21bb2ad3",
   "metadata": {},
   "outputs": [],
   "source": [
    "# ф-ция потери\n",
    "# criterion =  nn.MSELoss()\n",
    "criterion =  nn.BCELoss()\n",
    "# criterion =  nn.CrossEntropyLoss() \n",
    "# criterion =  nn.NLLLoss() \n",
    "optimizer = torch.optim.Adam( model.parameters(), lr=1e-3) # метод оптимизации"
   ]
  },
  {
   "cell_type": "code",
   "execution_count": 24,
   "id": "c65bca1c",
   "metadata": {},
   "outputs": [],
   "source": [
    "from torch.utils.data import DataLoader"
   ]
  },
  {
   "cell_type": "code",
   "execution_count": 25,
   "id": "c3b9ad81",
   "metadata": {},
   "outputs": [],
   "source": [
    "loss_history = [] # значения ф-ции потери"
   ]
  },
  {
   "cell_type": "code",
   "execution_count": 80,
   "id": "9fe42197",
   "metadata": {},
   "outputs": [
    {
     "data": {
      "application/vnd.jupyter.widget-view+json": {
       "model_id": "7f87c42ac1544fc2a55539311fdcbc67",
       "version_major": 2,
       "version_minor": 0
      },
      "text/plain": [
       "  0%|          | 0/2 [00:00<?, ?it/s]"
      ]
     },
     "metadata": {},
     "output_type": "display_data"
    },
    {
     "name": "stdout",
     "output_type": "stream",
     "text": [
      "CPU times: user 26.4 s, sys: 42.6 ms, total: 26.4 s\n",
      "Wall time: 26.4 s\n"
     ]
    }
   ],
   "source": [
    "%%time\n",
    "\n",
    "n_epoch = 2 # количество эпох обучения\n",
    "\n",
    "for i in tqdm(range(n_epoch)): \n",
    "    loss_batch = []\n",
    "    # получаем батч учебных примеров\n",
    "    for x,t in DataLoader( ds, batch_size=128, shuffle=True): \n",
    "        o = model.forward(x.to(device)) # считаем выход модели\n",
    "        loss = criterion( o, t.to(device) ) # вычисляем значение ф-ции потери\n",
    "        loss_batch.append( loss.item() ) # дополняем историю изменения значений ф-ции потери на батче\n",
    "        optimizer.zero_grad() # очищаем предыдущее значение градиента\n",
    "        loss.backward()  # вычисляем текущее значение градиента ф-ции потери\n",
    "        optimizer.step() # корректируем параметры модели\n",
    "    \n",
    "    loss_history.append( np.mean(loss_batch) ) # дополняем общую историю изменения значений ф-ции потери"
   ]
  },
  {
   "cell_type": "code",
   "execution_count": 81,
   "id": "ec2fb843",
   "metadata": {},
   "outputs": [
    {
     "data": {
      "text/plain": [
       "Text(0.5, 1.0, 'min loss: 0.00004')"
      ]
     },
     "execution_count": 81,
     "metadata": {},
     "output_type": "execute_result"
    },
    {
     "data": {
      "image/png": "[encoded data removed]",
      "text/plain": [
       "<Figure size 500x400 with 1 Axes>"
      ]
     },
     "metadata": {},
     "output_type": "display_data"
    }
   ],
   "source": [
    "from matplotlib import pyplot as plt\n",
    "\n",
    "fig,ax = plt.subplots(figsize=(5,4))\n",
    "ax.plot(loss_history)\n",
    "ax.grid()\n",
    "ax.set_title(f'min loss: {min(loss_history):.5f}')"
   ]
  },
  {
   "cell_type": "markdown",
   "id": "2155d639",
   "metadata": {},
   "source": [
    "# тестируем"
   ]
  },
  {
   "cell_type": "code",
   "execution_count": 85,
   "id": "ec015340",
   "metadata": {},
   "outputs": [],
   "source": [
    "class Generator:\n",
    "    \n",
    "    def __init__(self,model,vocabulary,device,context_len=5):\n",
    "        self._model = model\n",
    "        self._vocabulary = vocabulary\n",
    "        self._vocabulary_inv = { v:k for k,v in vocabulary.items() }\n",
    "        self._device = device\n",
    "        self._context_len = context_len\n",
    "      \n",
    "    def predict(self,prompt,seq_limit=10):\n",
    "        s = prompt\n",
    "        for _ in range(seq_limit):\n",
    "            w = self._vocabulary_inv[ self._predict(s) ]\n",
    "            s = s + ' ' + w\n",
    "            if w=='<EOS>':break\n",
    "        return s\n",
    "        \n",
    "    def _predict(self,prompt):\n",
    "        x = self._encode(prompt)\n",
    "        with torch.set_grad_enabled(False): \n",
    "            p = self._model.predict(x.to(device)).cpu()\n",
    "        return p.item()    \n",
    "    \n",
    "    def _encode(self,s):\n",
    "        s = nltk_tokenize_word(s,language='russian')[-self._context_len:]\n",
    "        s = [ self._vocabulary[w] for w in s if (w in self._vocabulary) ]\n",
    "        return torch.tensor([s], dtype=torch.long )"
   ]
  },
  {
   "cell_type": "code",
   "execution_count": 86,
   "id": "57ca7af3",
   "metadata": {},
   "outputs": [],
   "source": [
    "from random import sample\n",
    "from nltk.util import ngrams \n",
    "\n",
    "context_len = 5\n",
    "\n",
    "prompts = [\n",
    "    ' '.join(ng) \n",
    "    for s in sample( ds.sentences,10 ) \n",
    "    if len(s[:-3])>context_len\n",
    "    for ng in list(ngrams(s[:context_len],5))  \n",
    "]\n"
   ]
  },
  {
   "cell_type": "code",
   "execution_count": 87,
   "id": "3d1a23b4",
   "metadata": {},
   "outputs": [
    {
     "name": "stdout",
     "output_type": "stream",
     "text": [
      "Одни -- индивидуальными , а -->  другие -- '' мини '' Кингс-госпиталь '' Метрополитен '' Метрополитен \n",
      "\n",
      "-- Не спорь , я -->  лучше знаю ... Это мои колебания , но все-таки кивнет \n",
      "\n",
      "-- властным жестом приказала `` -->  регулировщица '' Метрополитен '' Метрополитен '' Метрополитен '' Метрополитен '' \n",
      "\n",
      "Сворачивая на Девятнадцатую улицу , -->  я глянул еще раз в зеркало заднего обзора , проверяя \n",
      "\n",
      "Четырех покупателей обслужил и не -->  дал ни одного пластикового мешочка ! .. <EOS> \n",
      "\n",
      "Выслушав мои ответы , незнакомка -->  сказала , что , по-видимому , на самом деле , \n",
      "\n",
      "Сидя в своем безоконном гаражном -->  закутке , откуда он знал , где мы привыкли видеть \n",
      "\n",
      "-- Да , пожалуйста ... -->  -- Куда едете ? <EOS> \n",
      "\n",
      "Правило действовало одно : можешь -->  помочь -- помоги ... С белых фаянсовых овалов , укрепленных \n",
      "\n"
     ]
    }
   ],
   "source": [
    "for prompt in prompts:\n",
    "    t = Generator(model,ds.vocabulary,device).predict(prompt)\n",
    "    print(prompt,'-->', t[len(prompt):],'\\n')"
   ]
  },
  {
   "cell_type": "markdown",
   "id": "bb059acb",
   "metadata": {},
   "source": [
    "----"
   ]
  },
  {
   "cell_type": "markdown",
   "id": "9918c55d",
   "metadata": {},
   "source": [
    "----"
   ]
  },
  {
   "cell_type": "code",
   "execution_count": null,
   "id": "d15588f9",
   "metadata": {},
   "outputs": [],
   "source": [
    "\n",
    "# prompt = 'по приезде вы вышли из  отеля, вдохнули'\n",
    "# prompt = 'несколько издалека, а именно некоторыми биографическими подробностями'\n",
    "# prompt = 'несколько издалека, а именно некоторыми'\n",
    "# prompt = 'несколько издалека, а именно'\n",
    "# prompt = 'некоторыми биографическими'\n",
    "# prompt = 'из  выстроившихся вереницей'"
   ]
  },
  {
   "cell_type": "code",
   "execution_count": null,
   "id": "3bb01fd8",
   "metadata": {},
   "outputs": [],
   "source": [
    "# n = 5\n",
    "# m = 9\n",
    "\n",
    "# with torch.set_grad_enabled(False):\n",
    "#     x = torch.randn(n,m)\n",
    "#     t = torch.rand(n,m)\n",
    "#     # t = torch.randint(0,m,size=(n,1))\n",
    "#     o = nn.BCELoss()( nn.Sigmoid()(x), t )\n",
    "\n",
    "# display(o)"
   ]
  },
  {
   "cell_type": "code",
   "execution_count": null,
   "id": "abfa2e96",
   "metadata": {},
   "outputs": [],
   "source": [
    "# # rnn = nn.GRU(10, 20, 2)\n",
    "# # input = torch.randn(5, 3, 10)\n",
    "# # h0 = torch.randn(2, 3, 20)\n",
    "# # output, hn = rnn(input, h0)\n",
    "\n",
    "# # input_size, hidden_size, num_layers=1,\n",
    "\n",
    "# n_samples = 2\n",
    "# len_seq = 3\n",
    "# layer_size = 5\n",
    "\n",
    "# with torch.set_grad_enabled(False):\n",
    "#     x = torch.randn(n_samples,len_seq,layer_size)\n",
    "#     o,h = nn.GRU( input_size=layer_size, hidden_size=3, num_layers=1,)(x)\n",
    "#     # o,(h,c) = nn.LSTM( input_size=m, hidden_size=5, num_layers=1,)(x)\n",
    "    \n",
    "    \n",
    "# display(x.shape)\n",
    "# display(o.shape)\n",
    "# display(o[:,-1].shape)\n",
    "\n",
    "# # display(h.shape)\n",
    "\n",
    "# # display(o)"
   ]
  },
  {
   "cell_type": "markdown",
   "id": "fa2847a9",
   "metadata": {},
   "source": [
    "---"
   ]
  },
  {
   "cell_type": "code",
   "execution_count": null,
   "id": "e6d8b966",
   "metadata": {},
   "outputs": [],
   "source": [
    "# class GRUNet(nn.Module):\n",
    "#     def __init__(self, input_dim, hidden_dim, output_dim, n_layers, drop_prob=0.2):\n",
    "#         super(GRUNet, self).__init__()\n",
    "#         self.hidden_dim = hidden_dim\n",
    "#         self.n_layers = n_layers\n",
    "        \n",
    "#         self.gru = nn.GRU(input_dim, hidden_dim, n_layers, batch_first=True, dropout=drop_prob)\n",
    "#         self.fc = nn.Linear(hidden_dim, output_dim)\n",
    "#         self.relu = nn.ReLU()\n",
    "        \n",
    "#     def forward(self, x, h):\n",
    "#         out, h = self.gru(x, h)\n",
    "#         out = self.fc(self.relu(out[:,-1]))\n",
    "#         return out, h\n",
    "    \n",
    "#     def init_hidden(self, batch_size):\n",
    "#         weight = next(self.parameters()).data\n",
    "#         hidden = weight.new(self.n_layers, batch_size, self.hidden_dim).zero_().to(device)\n",
    "#         return hidden"
   ]
  },
  {
   "cell_type": "code",
   "execution_count": null,
   "id": "96aca6f8",
   "metadata": {},
   "outputs": [],
   "source": [
    "# class LSTMNet(nn.Module):\n",
    "#     def __init__(self, input_dim, hidden_dim, output_dim, n_layers, drop_prob=0.2):\n",
    "#         super(LSTMNet, self).__init__()\n",
    "#         self.hidden_dim = hidden_dim\n",
    "#         self.n_layers = n_layers\n",
    "        \n",
    "#         self.lstm = nn.LSTM(input_dim, hidden_dim, n_layers, batch_first=True, dropout=drop_prob)\n",
    "#         self.fc = nn.Linear(hidden_dim, output_dim)\n",
    "#         self.relu = nn.ReLU()\n",
    "        \n",
    "#     def forward(self, x, h):\n",
    "#         out, h = self.lstm(x, h)\n",
    "#         out = self.fc(self.relu(out[:,-1]))\n",
    "#         return out, h\n",
    "    \n",
    "#     def init_hidden(self, batch_size):\n",
    "#         weight = next(self.parameters()).data\n",
    "#         hidden = (weight.new(self.n_layers, batch_size, self.hidden_dim).zero_().to(device),\n",
    "#                   weight.new(self.n_layers, batch_size, self.hidden_dim).zero_().to(device))\n",
    "#         return hidden"
   ]
  },
  {
   "cell_type": "markdown",
   "id": "7e14740a",
   "metadata": {},
   "source": [
    "-----"
   ]
  },
  {
   "cell_type": "code",
   "execution_count": null,
   "id": "3a026833",
   "metadata": {},
   "outputs": [],
   "source": [
    "# class Model(nn.Module):\n",
    "    \n",
    "#     def __init__(self, vocab_len, embedding_len=256, hidden_dim=1024,):\n",
    "#         super().__init__()\n",
    "#         self._embeddings = nn.Embedding( vocab_len, embedding_len )\n",
    "#         # рекуррентный слой\n",
    "#         self._lstm = nn.LSTM( input_size=embedding_len, hidden_size=hidden_dim, batch_first=True ) \n",
    "#         self._linear = nn.Linear( hidden_dim, vocab_len ) # выходной (линейный) слой\n",
    "\n",
    "#     def forward(self,x):\n",
    "#         o = self._embeddings(x)\n",
    "#         o,_ = self._lstm(o) # обрабатываем входную последовательность\n",
    "#         o = o[:,-1]\n",
    "#         o = self._linear(o) # считаем выход сети\n",
    "#         o = F.softmax(o,dim=1)\n",
    "#         return o\n",
    "    \n",
    "#     def predict(self,x):\n",
    "#         return torch.argmax(self.forward(x),dim=1)"
   ]
  },
  {
   "cell_type": "code",
   "execution_count": null,
   "id": "6a5aa716",
   "metadata": {},
   "outputs": [],
   "source": [
    "# class Model(nn.Module):\n",
    "    \n",
    "#     def __init__(self, vocab_len, embedding_len=256, hidden_dim=1024,):\n",
    "#         super().__init__()\n",
    "#         self._embeddings = nn.Embedding( vocab_len, embedding_len )\n",
    "#         # рекуррентный слой\n",
    "#         self._lstm = nn.LSTM( input_size=embedding_len, hidden_size=hidden_dim, batch_first=True ) \n",
    "#         self._linear = nn.Linear( hidden_dim, vocab_len ) # выходной (линейный) слой\n",
    "\n",
    "#     def forward(self,x):\n",
    "#         o = self._embeddings(x)\n",
    "#         _,(h,_) = self._lstm(o) # обрабатываем входную последовательность\n",
    "#         h = h.squeeze(0) # прекомпоновка тензора, сокращаем размерность\n",
    "#         o = self._linear(h) # считаем выход сети\n",
    "#         o = self._linear(o) # считаем выход сети\n",
    "#         o = F.softmax(o,dim=1)\n",
    "#         # o = F.log_softmax(o,dim=1)\n",
    "#         return o\n",
    "    \n",
    "#     def predict(self,x):\n",
    "#         return torch.argmax(self.forward(x),dim=1)"
   ]
  },
  {
   "cell_type": "code",
   "execution_count": null,
   "id": "7c794515",
   "metadata": {},
   "outputs": [],
   "source": [
    "# x = torch.randint(0,len(ds.vocabulary),size=(2,3))\n",
    "# display(x)\n",
    "\n",
    "# with torch.set_grad_enabled(False):\n",
    "#     o = Model( vocab_len=len(ds.vocabulary) ).forward(x)\n",
    "    \n",
    "# display(o.shape) \n",
    "# display(o)    "
   ]
  },
  {
   "cell_type": "code",
   "execution_count": null,
   "id": "85ebfa73",
   "metadata": {},
   "outputs": [],
   "source": [
    "# class Generator:\n",
    "    \n",
    "#     def __init__(self,model,vocabulary,device):\n",
    "#         self._model = model\n",
    "#         self._vocabulary = vocabulary\n",
    "#         self._vocabulary_inv = { v:k for k,v in vocabulary.items() }\n",
    "#         self._device = device\n",
    "      \n",
    "#     def predict(self,prompt,seq_limit=10):\n",
    "#         s = prompt\n",
    "#         for _ in range(seq_limit):\n",
    "#             w = self._vocabulary_inv[ self._predict(s) ]\n",
    "#             s = s + ' ' + w\n",
    "#             if w=='<EOS>':break\n",
    "#         return s\n",
    "        \n",
    "#     def _predict(self,prompt):\n",
    "#         x = self._encode(prompt)\n",
    "#         with torch.set_grad_enabled(False): \n",
    "#             p = self._model.predict(x.to(device)).cpu()\n",
    "#         return p.item()    \n",
    "#         # return torch.argmax(p).item()    \n",
    "    \n",
    "#     def _encode(self,s):\n",
    "#         return torch.tensor( [[ \n",
    "#                 self._vocabulary[w] if (w in self._vocabulary) else self._vocabulary['<UNK>']\n",
    "#                 for w in nltk_tokenize_word(s,language='russian') \n",
    "#             ]], dtype=torch.long )\n",
    "    "
   ]
  },
  {
   "cell_type": "code",
   "execution_count": null,
   "id": "716389ae",
   "metadata": {},
   "outputs": [],
   "source": [
    "# class Model(nn.Module):\n",
    "    \n",
    "#     def __init__(self, vocab_len, embedding_len=256, hidden_dim=1024,):\n",
    "#         super().__init__()\n",
    "#         self._embeddings = nn.Embedding( vocab_len, embedding_len )\n",
    "#         # рекуррентный слой\n",
    "#         self._rnn = nn.GRU( input_size=embedding_len, hidden_size=hidden_dim, batch_first=True, num_layers=2, ) \n",
    "#         self._linear = nn.Linear( hidden_dim, vocab_len ) # выходной (линейный) слой\n",
    "#         self._softmax = nn.Softmax(dim=1)\n",
    "\n",
    "#     def forward(self,x):\n",
    "#         o = self._embeddings(x)\n",
    "#         o,_ = self._rnn(o) # обрабатываем входную последовательность\n",
    "#         o = o[:,-1]\n",
    "#         o = self._linear(o) # считаем выход сети\n",
    "#         o = self._softmax(o)\n",
    "#         return o\n",
    "    \n",
    "#     def predict(self,x):\n",
    "#         return torch.argmax(self.forward(x),dim=1)"
   ]
  },
  {
   "cell_type": "code",
   "execution_count": null,
   "id": "f37555d6",
   "metadata": {},
   "outputs": [],
   "source": [
    "# import re\n",
    "\n",
    "# class ContextDataset(Dataset):\n",
    "    \n",
    "#     def __init__(self, text, context_len=5):\n",
    "#         assert context_len>1\n",
    "#         assert len(text)>1\n",
    "#         self._context_len = context_len\n",
    "        \n",
    "#         self._sentences = [ \n",
    "#             nltk_tokenize_word(s,language='russian') # разбиваем предложения на слова\n",
    "#             for s in tqdm(nltk_sentence_split(text,language='russian')) # режем текст на отдельные предложения\n",
    "#         ]\n",
    "        \n",
    "#         self._sentences = [\n",
    "#             [ w.lower() for w in s if re.match( r'^[а-я]+$', w.lower() ) ]\n",
    "#              for s in self._sentences \n",
    "#         ]\n",
    "        \n",
    "#         self._build_vocabulary()\n",
    "        \n",
    "#         self._sentences = [ s for s in self._sentences if len(s)> self._context_len ]\n",
    "        \n",
    "#         self._data = self._encode_ngrams( self._build_ngrams(self._sentences) )\n",
    "        \n",
    "#     def _build_vocabulary(self):        \n",
    "#         # собираем все токены (слова) из текста\n",
    "#         text_tokens = sorted( set(chain(*self._sentences)) ) \n",
    "#         self._vocabulary = { w:n for n,w in enumerate(text_tokens) }\n",
    "#         return self\n",
    "    \n",
    "#     def _build_ngrams(self, sentences):\n",
    "#         return [ \n",
    "#             ng for s in tqdm(sentences)  for ng in ngrams( s, self._context_len+1 ) \n",
    "#         ]\n",
    "    \n",
    "#     def _encode_ngrams(self,ngrams):\n",
    "#         return torch.tensor([ self.encode(ng) for ng in tqdm(ngrams) ], dtype=torch.long ) \n",
    "    \n",
    "    \n",
    "#     def __getitem__(self, idx):\n",
    "#         return (\n",
    "#             self._data[idx,:-1],\n",
    "#             # self._data[idx,-1]\n",
    "#             F.one_hot( self._data[idx,-1], num_classes=len(self._vocabulary)).to( torch.float32 ) \n",
    "#         )\n",
    "        \n",
    "#     def __len__(self): return len(self._data)\n",
    "    \n",
    "#     @property\n",
    "#     def vocabulary(self): return self._vocabulary\n",
    "    \n",
    "#     @property\n",
    "#     def sentences(self): return self._sentences\n",
    "        \n",
    "#     def encode(self,s): return [ self._vocabulary[w] for w in s if (w in self._vocabulary) ]"
   ]
  }
 ],
 "metadata": {
  "kernelspec": {
   "display_name": "Python 3 (ipykernel)",
   "language": "python",
   "name": "python3"
  },
  "language_info": {
   "codemirror_mode": {
    "name": "ipython",
    "version": 3
   },
   "file_extension": ".py",
   "mimetype": "text/x-python",
   "name": "python",
   "nbconvert_exporter": "python",
   "pygments_lexer": "ipython3",
   "version": "3.11.7"
  },
  "toc": {
   "base_numbering": 1,
   "nav_menu": {},
   "number_sections": true,
   "sideBar": true,
   "skip_h1_title": false,
   "title_cell": "Table of Contents",
   "title_sidebar": "Contents",
   "toc_cell": false,
   "toc_position": {},
   "toc_section_display": true,
   "toc_window_display": false
  }
 },
 "nbformat": 4,
 "nbformat_minor": 5
}
