{
 "cells": [
  {
   "cell_type": "markdown",
   "id": "9095d55d",
   "metadata": {},
   "source": [
    "__Нейросетевая языковая модель на основе схемы Seq2Seq__\n",
    "\n",
    "Евгений Борисов <esborisov@sevsu.ru>"
   ]
  },
  {
   "cell_type": "markdown",
   "id": "07022919",
   "metadata": {},
   "source": [
    "---"
   ]
  },
  {
   "cell_type": "markdown",
   "id": "2e6cd24f",
   "metadata": {},
   "source": [
    "# загружаем тексты"
   ]
  },
  {
   "cell_type": "code",
   "execution_count": 1,
   "id": "aa559631",
   "metadata": {},
   "outputs": [],
   "source": [
    "import gzip\n",
    "import requests\n",
    "from bs4 import BeautifulSoup"
   ]
  },
  {
   "cell_type": "code",
   "execution_count": 2,
   "id": "0f4b215a",
   "metadata": {},
   "outputs": [
    {
     "name": "stdout",
     "output_type": "stream",
     "text": [
      "символов:637765\n",
      "---------------\n",
      "\n",
      "Вы прилетели в  Нью-Йорк и  остановились  в  одном  из отелей, глядящих\n",
      "окнами на Центральный парк.  Наутро по  приезде вы вышли из  отеля, вдохнули\n",
      "полной грудью очищенный зеленью парка воздух  и,  взглянув на часы, --  пора\n",
      "было начинать хлопотливый день, --  направились к  первому из  таксомоторов,\n",
      "выстроившихся вереницей у подъезда.\n",
      "    \n"
     ]
    }
   ],
   "source": [
    "# url='http://lib.ru/NEWPROZA/LOBAS/taxisty.txt'\n",
    "# text = BeautifulSoup(requests.get(url).text).get_text()\n",
    "# with gzip.open('taxisty.txt.gz','wt') as f: f.write(text)\n",
    "\n",
    "with gzip.open('taxisty.txt.gz','rt') as f: text = f.read()\n",
    "\n",
    "text = text[1030:-7261].strip() # выкидываем заголовок и хвост страницы \n",
    "print(f'символов:{len(text)}\\n---------------\\n'%())\n",
    "print(text[:343])"
   ]
  },
  {
   "cell_type": "code",
   "execution_count": 3,
   "id": "18b79044",
   "metadata": {},
   "outputs": [],
   "source": [
    "# url='http://az.lib.ru/d/dostoewskij_f_m/text_0080.shtml'\n",
    "# text = BeautifulSoup(requests.get(url).text).get_text()\n",
    "# with gzip.open('dostoewskij.txt.gz','wt') as f: f.write(text)\n",
    "\n",
    "# # with gzip.open('dostoewskij.txt.gz','rt') as f: text = f.read()\n",
    "\n",
    "# text = text[2876:-664184].strip() # выкидываем заголовок и хвост страницы \n",
    "# print(f'символов:{len(text)}\\n---------------\\n'%())\n",
    "# print(text[:355])"
   ]
  },
  {
   "cell_type": "markdown",
   "id": "26585711",
   "metadata": {},
   "source": [
    "---"
   ]
  },
  {
   "cell_type": "code",
   "execution_count": 4,
   "id": "7e583532",
   "metadata": {},
   "outputs": [],
   "source": [
    "from tqdm.auto import tqdm\n",
    "from itertools import chain\n",
    "import numpy as np"
   ]
  },
  {
   "cell_type": "code",
   "execution_count": 5,
   "id": "51f07eff",
   "metadata": {},
   "outputs": [
    {
     "name": "stdout",
     "output_type": "stream",
     "text": [
      "nltk version: 3.8.1\n"
     ]
    }
   ],
   "source": [
    "from nltk import __version__ as nltk_version\n",
    "print('nltk version:',nltk_version)\n",
    "\n",
    "from nltk.tokenize import sent_tokenize as nltk_sentence_split\n",
    "from nltk.tokenize import word_tokenize as nltk_tokenize_word\n",
    "from nltk.util import ngrams"
   ]
  },
  {
   "cell_type": "code",
   "execution_count": 6,
   "id": "06ab869a",
   "metadata": {},
   "outputs": [],
   "source": [
    "# !pip install torch"
   ]
  },
  {
   "cell_type": "code",
   "execution_count": 7,
   "id": "e23ebdb8",
   "metadata": {},
   "outputs": [],
   "source": [
    "import torch\n",
    "from torch.utils.data import Dataset\n",
    "import torch.nn.functional as F"
   ]
  },
  {
   "cell_type": "code",
   "execution_count": 8,
   "id": "4e62b43c",
   "metadata": {},
   "outputs": [],
   "source": [
    "# !pip install torchtext"
   ]
  },
  {
   "cell_type": "code",
   "execution_count": 9,
   "id": "97a68d88",
   "metadata": {},
   "outputs": [],
   "source": [
    "# import torchtext\n",
    "# from torchtext.data import get_tokenizer"
   ]
  },
  {
   "cell_type": "code",
   "execution_count": 10,
   "id": "58406575",
   "metadata": {},
   "outputs": [],
   "source": [
    "seq_len = 5"
   ]
  },
  {
   "cell_type": "code",
   "execution_count": 11,
   "id": "6b15b8e5",
   "metadata": {},
   "outputs": [],
   "source": [
    "class SeqDataset(Dataset):\n",
    "    \n",
    "    def __init__(self, text, seq_len=seq_len ):\n",
    "        assert seq_len>1\n",
    "        assert len(text)>1\n",
    "        \n",
    "        self._tokens = ['<UNK>','<EOS>',] # служебные токены \"неизвестное слово\", \"конец последовательности\"\n",
    "        \n",
    "        self._seq_len = seq_len # количество слов контекста слева \n",
    "        # выполняем токенизацию текста \n",
    "        self._sentences = [ \n",
    "            nltk_tokenize_word(s,language='russian') # разбиваем предложения на слова\n",
    "            for s in tqdm(nltk_sentence_split(text,language='russian')) # режем текст на отдельные предложения\n",
    "        ]\n",
    "        # строим словарь\n",
    "        self._vocabulary = self._build_vocabulary(self._sentences)\n",
    "        # выкидываем короткие предложения, добавляем служебный токен \"конец последовательности\"\n",
    "        self._sentences = [ s + [ '<EOS>' ] for s in self._sentences if len(s)> self._seq_len*2 ]\n",
    "        # собираем n-граммы длинны context_len+1\n",
    "        self._data = self._encode_ngrams( self._build_ngrams(self._sentences) )\n",
    "        \n",
    "    def _build_vocabulary(self,sentences):        \n",
    "        # собираем токены (слова) из текста, добавляем служебные\n",
    "        text_tokens = self._tokens + sorted( set(chain(*sentences))-set(self._tokens) ) \n",
    "        return { w:n for n,w in enumerate(text_tokens) } # строим словарь\n",
    "    \n",
    "    def _build_ngrams(self, sentences):\n",
    "        return [ # нарезаем последовательности токенов на n-граммы\n",
    "            ng for s in tqdm(sentences)  \n",
    "               for ng in ngrams( s, self._seq_len*2 ) \n",
    "        ]\n",
    "    \n",
    "    def _encode_ngrams(self,ngrams): # заменяем токены в n-граммах на номера в словаре\n",
    "        return torch.tensor([ self.encode(ng) for ng in tqdm(ngrams) ], dtype=torch.long ) \n",
    "    \n",
    "    def encode(self,s): return [ # заменить в последовательности все токены на их номера в словаре\n",
    "            self._vocabulary[w] if (w in self._vocabulary) else self._tokens['<UNK>']\n",
    "            for w in s \n",
    "        ]\n",
    "    \n",
    "    def __getitem__(self, idx): # выдать элемент датасета номер idx\n",
    "        return ( \n",
    "                self._data[idx,:seq_len], \n",
    "                self._data[idx,seq_len:], \n",
    "            )\n",
    "    \n",
    "    def _num2vec(self,x): # заменяем номер слова на вектор [0,1] длинны в размер словаря\n",
    "        return F.one_hot( x, num_classes=len(self._vocabulary)).to( torch.float32 ) \n",
    "\n",
    "    # размер датасета\n",
    "    def __len__(self): return len(self._data)\n",
    "    \n",
    "    @property\n",
    "    def vocabulary(self): return self._vocabulary\n",
    "    \n",
    "    @property\n",
    "    def sentences(self): return self._sentences\n",
    "    \n",
    "    @property\n",
    "    def sentence_len(self): return self._seq_len"
   ]
  },
  {
   "cell_type": "code",
   "execution_count": 12,
   "id": "3e841803",
   "metadata": {},
   "outputs": [
    {
     "data": {
      "application/vnd.jupyter.widget-view+json": {
       "model_id": "a6a8cc02172344669f984505693cc436",
       "version_major": 2,
       "version_minor": 0
      },
      "text/plain": [
       "  0%|          | 0/6650 [00:00<?, ?it/s]"
      ]
     },
     "metadata": {},
     "output_type": "display_data"
    },
    {
     "data": {
      "application/vnd.jupyter.widget-view+json": {
       "model_id": "cc4a1888b4b04f508c82e350aee0a154",
       "version_major": 2,
       "version_minor": 0
      },
      "text/plain": [
       "  0%|          | 0/3754 [00:00<?, ?it/s]"
      ]
     },
     "metadata": {},
     "output_type": "display_data"
    },
    {
     "data": {
      "application/vnd.jupyter.widget-view+json": {
       "model_id": "fe94b61d25c547868700706d0ccf03e8",
       "version_major": 2,
       "version_minor": 0
      },
      "text/plain": [
       "  0%|          | 0/69399 [00:00<?, ?it/s]"
      ]
     },
     "metadata": {},
     "output_type": "display_data"
    }
   ],
   "source": [
    "ds = SeqDataset( text=text, seq_len=seq_len )"
   ]
  },
  {
   "cell_type": "code",
   "execution_count": 13,
   "id": "a6e367fe",
   "metadata": {},
   "outputs": [
    {
     "data": {
      "text/plain": [
       "69399"
      ]
     },
     "metadata": {},
     "output_type": "display_data"
    },
    {
     "data": {
      "text/plain": [
       "3754"
      ]
     },
     "metadata": {},
     "output_type": "display_data"
    },
    {
     "data": {
      "text/plain": [
       "24068"
      ]
     },
     "metadata": {},
     "output_type": "display_data"
    },
    {
     "data": {
      "text/plain": [
       "24067"
      ]
     },
     "metadata": {},
     "output_type": "display_data"
    }
   ],
   "source": [
    "display(len(ds)) # размер датасета\n",
    "display(len(ds.sentences)) # количество предложений \n",
    "display(len(ds.vocabulary)) # размер словаря\n",
    "display(max(ds.vocabulary.values())) # максимальное значение индекса в словаре"
   ]
  },
  {
   "cell_type": "code",
   "execution_count": 14,
   "id": "8a577263",
   "metadata": {},
   "outputs": [],
   "source": [
    "assert len(ds.vocabulary)== max(ds.vocabulary.values())+1"
   ]
  },
  {
   "cell_type": "code",
   "execution_count": 15,
   "id": "84522a4f",
   "metadata": {},
   "outputs": [],
   "source": [
    "# ds[1]"
   ]
  },
  {
   "cell_type": "markdown",
   "id": "29c52b60",
   "metadata": {},
   "source": [
    "# модель"
   ]
  },
  {
   "cell_type": "code",
   "execution_count": 16,
   "id": "f92173ff",
   "metadata": {},
   "outputs": [],
   "source": [
    "import torch.nn as nn\n",
    "import torch.nn.functional as F"
   ]
  },
  {
   "cell_type": "code",
   "execution_count": 17,
   "id": "80b2c60d",
   "metadata": {},
   "outputs": [],
   "source": [
    "class Encoder(nn.Module):\n",
    "    def __init__(self, vocabulary, seq_len, embedding_dim=128, hidden_dim=256,): \n",
    "        super().__init__()\n",
    "        self._vocabulary = vocabulary\n",
    "        self._seq_len = seq_len\n",
    "        self._emb = nn.Embedding(len(vocabulary), embedding_dim)\n",
    "        self._gru = nn.GRU(\n",
    "                input_size=embedding_dim, \n",
    "                hidden_size=hidden_dim, \n",
    "                num_layers=1, \n",
    "                batch_first=True,\n",
    "                # dropout=0.4,\n",
    "            )\n",
    "\n",
    "    def forward(self, x):\n",
    "        o = self._emb(x)\n",
    "        o, h = self._gru(o)\n",
    "        return o,h"
   ]
  },
  {
   "cell_type": "code",
   "execution_count": 18,
   "id": "cb9934a8",
   "metadata": {},
   "outputs": [],
   "source": [
    "class Decoder(nn.Module):\n",
    "    \n",
    "    def __init__(self, vocabulary, hidden_dim, seq_len):\n",
    "        super(Decoder, self).__init__()\n",
    "        self._vocabulary = vocabulary\n",
    "        self._seq_len = seq_len\n",
    "        \n",
    "        self._emb = nn.Embedding(num_embeddings=len(vocabulary),embedding_dim=hidden_dim)\n",
    "        self._gru = nn.GRU( \n",
    "                input_size=hidden_dim, \n",
    "                hidden_size=hidden_dim, \n",
    "                num_layers=1, \n",
    "                batch_first=True,\n",
    "                # dropout=0.4,\n",
    "            )\n",
    "        self._lin = nn.Linear(in_features=hidden_dim, out_features=len(vocabulary),bias=True,)\n",
    "\n",
    "        \n",
    "    def forward(self, encoder_hidden):\n",
    "        device = next(self._lin.parameters()).device\n",
    "        batch_size = encoder_hidden.size(1)\n",
    "        \n",
    "        input_ = torch.zeros(batch_size, 1, dtype=torch.long, device=device)\n",
    "        hidden = encoder_hidden\n",
    "        outputs = []\n",
    "\n",
    "        for i in range(self._seq_len):\n",
    "            output, hidden  = self._forward_step(input_,hidden)\n",
    "            outputs.append(output)\n",
    "            # input_ = torch.argmax(output,dim=-1, keepdim=False) \n",
    "            _, topi = output.topk(1) # argmax\n",
    "            input_ = topi.squeeze(-1).detach() \n",
    "        return torch.cat(outputs, dim=1)\n",
    "                \n",
    "        \n",
    "    def forward_train(self, encoder_hidden, target_tensor):\n",
    "        device = next(self._lin.parameters()).device\n",
    "        batch_size = encoder_hidden.size(1)\n",
    "        \n",
    "        input_ = torch.zeros(batch_size, 1, dtype=torch.long, device=device)\n",
    "        hidden = encoder_hidden\n",
    "        outputs = []\n",
    "\n",
    "        for i in range(self._seq_len):\n",
    "            output, hidden  = self._forward_step(input_,hidden)\n",
    "            outputs.append(output)\n",
    "            # teacher forcing: заменяем выход модели на предыдущей итерации на target\n",
    "            input_ = target_tensor[:,i].unsqueeze(1) \n",
    "            # input_ = target_tensor[:,[i]]\n",
    "        return torch.cat(outputs, dim=1)\n",
    "    \n",
    "    def _forward_step(self,x,h):\n",
    "        o = self._emb(x)\n",
    "        o,h = self._gru(o,h)\n",
    "        o = self._lin(o)\n",
    "        o = F.log_softmax(o,dim=-1)\n",
    "        return o,h"
   ]
  },
  {
   "cell_type": "code",
   "execution_count": 21,
   "id": "103a0ed3",
   "metadata": {},
   "outputs": [
    {
     "data": {
      "text/plain": [
       "device(type='cuda', index=0)"
      ]
     },
     "metadata": {},
     "output_type": "display_data"
    },
    {
     "data": {
      "text/plain": [
       "'Tesla P40'"
      ]
     },
     "metadata": {},
     "output_type": "display_data"
    }
   ],
   "source": [
    "# проверяем GPU\n",
    "device = torch.device('cuda:0' if torch.cuda.is_available() else 'cpu')\n",
    "display( device )\n",
    "display( torch.cuda.get_device_name() )"
   ]
  },
  {
   "cell_type": "code",
   "execution_count": 22,
   "id": "d0e78ecc",
   "metadata": {},
   "outputs": [],
   "source": [
    "embedding_dim = 128\n",
    "encoder_hidden_dim = 256\n",
    "\n",
    "model_encoder = Encoder(\n",
    "        vocabulary=ds.vocabulary, \n",
    "        embedding_dim=embedding_dim,\n",
    "        hidden_dim=encoder_hidden_dim,\n",
    "        seq_len=seq_len,\n",
    "    ).to(device)\n",
    "\n",
    "model_decoder = Decoder( \n",
    "        hidden_dim=encoder_hidden_dim, \n",
    "        vocabulary=ds.vocabulary, \n",
    "        seq_len=seq_len,\n",
    "    ).to(device)"
   ]
  },
  {
   "cell_type": "markdown",
   "id": "799f5ffa",
   "metadata": {},
   "source": [
    "# обучаем "
   ]
  },
  {
   "cell_type": "code",
   "execution_count": 23,
   "id": "d0ccc611",
   "metadata": {},
   "outputs": [],
   "source": [
    "from torch import optim\n",
    "\n",
    "learning_rate = 1e-2\n",
    "encoder_optimizer = optim.Adam( model_encoder.parameters(), lr=learning_rate )\n",
    "decoder_optimizer = optim.Adam( model_decoder.parameters(), lr=learning_rate )\n",
    "criterion = nn.NLLLoss()"
   ]
  },
  {
   "cell_type": "code",
   "execution_count": 24,
   "id": "3cecc028",
   "metadata": {},
   "outputs": [],
   "source": [
    "# история значений ф-ции потери\n",
    "loss_history = [] "
   ]
  },
  {
   "cell_type": "code",
   "execution_count": 25,
   "id": "d1dcaff8",
   "metadata": {},
   "outputs": [],
   "source": [
    "from torch.utils.data import DataLoader"
   ]
  },
  {
   "cell_type": "code",
   "execution_count": 26,
   "id": "adc9ecb1",
   "metadata": {},
   "outputs": [
    {
     "data": {
      "application/vnd.jupyter.widget-view+json": {
       "model_id": "9306f6187a5640f3845384b0a8b1191e",
       "version_major": 2,
       "version_minor": 0
      },
      "text/plain": [
       "  0%|          | 0/64 [00:00<?, ?it/s]"
      ]
     },
     "metadata": {},
     "output_type": "display_data"
    },
    {
     "name": "stdout",
     "output_type": "stream",
     "text": [
      "CPU times: user 4min 10s, sys: 239 ms, total: 4min 10s\n",
      "Wall time: 4min 2s\n"
     ]
    }
   ],
   "source": [
    "%%time\n",
    "\n",
    "n_epoch = 64 # количество эпох обучения\n",
    "batch_size = 1024*12\n",
    "\n",
    "for i in tqdm(range(n_epoch)): \n",
    "    loss_batch = []\n",
    "    \n",
    "    # получаем батч учебных примеров\n",
    "    for input_tensor, target_tensor in DataLoader( ds, batch_size=batch_size, shuffle=True): \n",
    "        encoder_optimizer.zero_grad()\n",
    "        decoder_optimizer.zero_grad()\n",
    "\n",
    "        _, encoder_hidden = model_encoder(input_tensor.to(device))\n",
    "        decoder_outputs = model_decoder.forward_train( encoder_hidden, target_tensor.to(device))\n",
    "        \n",
    "        loss = criterion(\n",
    "            decoder_outputs.view(-1, decoder_outputs.size(-1)),\n",
    "            target_tensor.to(device).view(-1)\n",
    "        )\n",
    "        loss_batch.append(loss.item()) # дополняем историю изменения значений ф-ции потери на батче\n",
    "        loss.backward()\n",
    "\n",
    "        encoder_optimizer.step()\n",
    "        decoder_optimizer.step()\n",
    "   \n",
    "    loss_history.append( np.mean(loss_batch) ) # дополняем общую историю изменения значений ф-ции потери\n",
    "    \n",
    "    "
   ]
  },
  {
   "cell_type": "code",
   "execution_count": 27,
   "id": "6c268a65",
   "metadata": {},
   "outputs": [
    {
     "data": {
      "text/plain": [
       "Text(0.5, 1.0, 'min loss: 0.11125')"
      ]
     },
     "execution_count": 27,
     "metadata": {},
     "output_type": "execute_result"
    },
    {
     "data": {
      "image/png": "[encoded data removed]",
      "text/plain": [
       "<Figure size 500x400 with 1 Axes>"
      ]
     },
     "metadata": {},
     "output_type": "display_data"
    }
   ],
   "source": [
    "from matplotlib import pyplot as plt\n",
    "\n",
    "fig,ax = plt.subplots(figsize=(5,4))\n",
    "ax.plot(loss_history)\n",
    "ax.grid()\n",
    "ax.set_title(f'min loss: {min(loss_history):.5f}')"
   ]
  },
  {
   "cell_type": "markdown",
   "id": "2155d639",
   "metadata": {},
   "source": [
    "# тестируем"
   ]
  },
  {
   "cell_type": "code",
   "execution_count": 28,
   "id": "24864463",
   "metadata": {},
   "outputs": [
    {
     "data": {
      "text/plain": [
       "['В любую минуту может вынырнуть',\n",
       " 'Когда нас начали пропускать к',\n",
       " 'Увидев меня в дверях в',\n",
       " '-- спросил я. Нужно же',\n",
       " 'Еще Узбек , который в',\n",
       " 'Китайца я должен подобрать в',\n",
       " 'Отец девочек поставил его в',\n",
       " 'Зная это , не так',\n",
       " 'Фигура в черной мантии зашевелилась',\n",
       " 'Лучше посмотри на мою фамилию35']"
      ]
     },
     "metadata": {},
     "output_type": "display_data"
    }
   ],
   "source": [
    "from random import sample\n",
    "from nltk.util import ngrams \n",
    "\n",
    "prompts = [\n",
    "    ' '.join(ng) \n",
    "    for s in sample( ds.sentences,10 ) if len(s)>ds.sentence_len*2\n",
    "    for ng in list(ngrams(s[:ds.sentence_len],5))  \n",
    "    ]\n",
    "\n",
    "display( prompts )"
   ]
  },
  {
   "cell_type": "code",
   "execution_count": 29,
   "id": "11c28959",
   "metadata": {},
   "outputs": [],
   "source": [
    "class LangModelSeq2Seq: # генератор текста \n",
    "    \n",
    "    def __init__(self,encoder,decoder,vocabulary):\n",
    "        self._encoder = encoder \n",
    "        self._decoder = decoder \n",
    "        self._vocabulary = vocabulary # словарь языковой модели\n",
    "        self._vocabulary_inv = { v:k for k,v in self._vocabulary.items() }\n",
    "    \n",
    "    def predict(self,prompt,n_iter=1):\n",
    "        eos = self._vocabulary['<EOS>']\n",
    "        x = self._encode(prompt) # начальная последовательность токенов\n",
    "        codes = []\n",
    "        for _ in range(n_iter):\n",
    "            p = self._predict(x) # генерируем следующий токен\n",
    "            codes.append(p)\n",
    "            if (p==eos).any():break\n",
    "            x = torch.tensor(p.reshape(1,-1,),dtype=torch.long)\n",
    "            #print(x)\n",
    "        return self._strip_eos( self._decode(np.hstack(codes)) ) # конвертируем коды токенов в строку\n",
    "\n",
    "    def _predict(self,x):\n",
    "        device = next(self._encoder.parameters()).device \n",
    "        with torch.set_grad_enabled(False): # генерируем следующий токен\n",
    "            _,h = self._encoder(x.to(device))\n",
    "            o   = self._decoder(h)\n",
    "        return np.argmax( o.cpu().numpy()[0],axis=1) \n",
    "    \n",
    "    def _encode(self,s): # кодируем строку\n",
    "        s = nltk_tokenize_word(s,language='russian')\n",
    "        s = [ self._vocabulary[w] for w in s if (w in self._vocabulary) ]\n",
    "        return torch.tensor([s], dtype=torch.long )\n",
    "    \n",
    "    def _decode(self,s): # конвертируем коды токенов в строку\n",
    "        return ' '.join([ \n",
    "            self._vocabulary_inv[c] \n",
    "            for c in s if (c in self._vocabulary_inv) \n",
    "        ])\n",
    "    @staticmethod\n",
    "    def _strip_eos(s,eos='<EOS>'):\n",
    "        n = s.find(eos)\n",
    "        return s if n<0 else s[:n+len(eos)]"
   ]
  },
  {
   "cell_type": "code",
   "execution_count": 30,
   "id": "6fd707ba",
   "metadata": {},
   "outputs": [
    {
     "name": "stdout",
     "output_type": "stream",
     "text": [
      "В любую минуту может вынырнуть ==> из-за угла синий `` додж '' с инспекторами комиссии такси , собрать требуемую сумму практически в Квинс пустым . <EOS> \n",
      "\n",
      "Когда нас начали пропускать к ==> Гелию , его истощенные , высохшие руки были еще способны какой я кэбби , если очередь тронется , и -- бегом за два квартала , к тележке под полосатым зонтом , и без всякого энтузиазма слушали , как я очень увлекательно рассказывал им , что взял под `` Американец '' на протяжении дня две `` .Па-Гвардии '' и два `` Хилтона '' , -- `` бляшка '' , а вообще-то о медальоне никакой таксист так же , как и прежние , станут увещевать его , а иной раз и одергивать , чтобы он не выплескивал в эфир всю ту правду о закрытом обществе , которую удавалось выискать и собрать по крупицам ; что вполне достаточно сказать половину этой уродливой правды , а машины вокруг -- \n",
      "\n",
      "Увидев меня в дверях в ==> такое необычное время , жена побледнела , как полотно , но тут же по выражению моего лица поняла , что ничего плохого не случилось ... Я быстренько принял душ , и мы дружно , славно , всей семьей уселись за стол. Наутро я отвез жену на курсы в Манхсттсн , а часам к девяти опять-таки был уже дома . <EOS> \n",
      "\n",
      "-- спросил я. Нужно же ==> было что-нибудь спросить , раз я , может , в конце концов , стал : комментатором `` Свободы '' , автором еженедельного радиообозрения , который вынужден подрабатывать в желтом кэбе , -- или же я , какая у меня ехать туда , наверное , -- лишь разбитая эстакада шоссе и `` Королева Елизавета '' , которую зовет поднявшаяся из моря рука с факелом ... Не успел я рассмотреть морской вокзал , как в машину прыгнул негр в кожаной куртке , надетой на голое , разрисованное на гараж . <EOS> \n",
      "\n",
      "Еще Узбек , который в ==> последнее время как сквозь землю провалился ( помните таксиста , который вечно прижимал к груди , словно раненую , свою ее вставные челюсти : раскаявшуюся , опустившуюся на колени и вымаливающую у `` святого кэбби '' прощение ... И только одна подробность чуть-чуть смущает меня не хватало решимости ; а вскоре в ящичке с надписью Lobas я обнаружил журнал , о существовании которого прежде и слыхом не слыхал -- '' Фармере дайджест '' . <EOS> \n",
      "\n",
      "Китайца я должен подобрать в ==> девять , а излишек времени лучше всего истратить на то , чтобы вымыть машину . своей европейской территории и вместе с нею -- промышленность , могло лишь прямое переливание -- из вены в вену . Нью-Йорка , где я оставил `` территории '' , и произвольно выбирать , какой именно из жизненно важных центров в мозге подопытного животного сдавит модель день пассажира : -- Как `` мы '' ? ! и вчерашний врач стал кэбби -- о швейцарах нью-йоркских отелей , в котором служит , -- натужно , с фальшивинкой с покупкой драндулета будет взят в аренду , и уже шестеро `` боссов '' будут толкать поезд ; и ты оглянуться не успеешь , как их -- '' боссов '' -- станет девять ! .. \n",
      "\n",
      "Отец девочек поставил его в ==> кэб и захлопнул дверцу с тем , чтобы обойти чекер сзади и сесть с другой стороны , а я -- простаков не грабил ; иностранцам не заявлял , что сумму , выбитую счетчиком , должен оплатить каждый из пассажиров в отдельности ; не взимал незаконных поборов за пользование багажником ; но в аэропорты , был грех , избегал ездить самым коротким из центра маршрутом -- по мосту Квинсборо , а все норовил махнуть на мост Трайборо с тем , чтобы газануть потом по широкому , стремительному Гранд-шоссе , превращавшему каждый рейс в праздник ( хотя этот , мой , праздник обходился клиенту в лишние два-три доллара ) , и тогда у него нынешнее утро , а у меня не хватит душевных сил , чтобы с \n",
      "\n",
      "Зная это , не так ==> уж трудно представить себе , с какой миной выслушивает швейцар `` Астории '' обычную таксистскую просьбу : `` Будь другом , дай мне `` Кеннеди '' , но едва я оказываюсь первым , ко мне тотчас привязываются какие-нибудь бизнесмены : отвези их в `` Колизей '' , им срочно нужно ехать медленно , я был счастлив ничуть не меньше , чем она ! .. <EOS> \n",
      "\n",
      "Фигура в черной мантии зашевелилась ==> , судья перегнулся через кафедру и смотрел на меня сверху вниз , моргая округлившимися от свою жизнь опять -- опоздали ... Да не обвила . медальон за баранкой гаражного кэба , собирая восемнадцать тысяч на первый взнос , -- и мы поставили свои залихватские подписи под бумагами , которые свидетельствовали , что отныне медальон 4G36 принадлежит Стиву , a 4G37 меня найдет , подбадриваю я , пока в номере посмотрят отелем -- и не ниже и пока аккуратная сотрудница библиотеки , размножив документ на копировальной машине , не положила на всякий случай одну из копий в ящичек с надписью `` Lobas '' -- для внештатного я , пробираясь по узкому проходу , сам не зная куда и зачем , лишь стараясь ступать осторожно . <EOS> \n",
      "\n",
      "Лучше посмотри на мою фамилию35 ==> ... Как и многие из таксистов , Узбек возил с собой фотографию в рамочке на передней панели : супруга , как я , может , как и рассказ о плавании , -- с угрозой сказала : сейчас будут стрелять . адвокат , нанятый таксистом , разделывал под орех взопревшего полисмена , что мое лицо идет пятнами , будто они отхлестали меня по щекам ... Противным , срывающимся голосом я сказал : -- Я на Западе сравнительно недавно и не знаю , как у вас принято ... Посоветуйте мне : если я не согласен с тем , что перепутает , кто кого приводит к присяге : Спикер Палаты -- Государственного Секретаря или наоборот ... Но судья Ванг не стал терзать мою жену каверзными вопросами . <EOS> \n",
      "\n"
     ]
    }
   ],
   "source": [
    "for prompt in prompts:\n",
    "    t = LangModelSeq2Seq(model_encoder,model_decoder,ds.vocabulary).predict(prompt,n_iter=25)\n",
    "    print(prompt,'==>', t,'\\n')"
   ]
  }
 ],
 "metadata": {
  "kernelspec": {
   "display_name": "Python 3 (ipykernel)",
   "language": "python",
   "name": "python3"
  },
  "language_info": {
   "codemirror_mode": {
    "name": "ipython",
    "version": 3
   },
   "file_extension": ".py",
   "mimetype": "text/x-python",
   "name": "python",
   "nbconvert_exporter": "python",
   "pygments_lexer": "ipython3",
   "version": "3.11.7"
  },
  "toc": {
   "base_numbering": 1,
   "nav_menu": {},
   "number_sections": true,
   "sideBar": true,
   "skip_h1_title": false,
   "title_cell": "Table of Contents",
   "title_sidebar": "Contents",
   "toc_cell": false,
   "toc_position": {},
   "toc_section_display": true,
   "toc_window_display": false
  }
 },
 "nbformat": 4,
 "nbformat_minor": 5
}
