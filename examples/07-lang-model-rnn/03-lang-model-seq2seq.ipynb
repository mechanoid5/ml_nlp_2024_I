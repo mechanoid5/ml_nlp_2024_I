{
 "cells": [
  {
   "cell_type": "markdown",
   "id": "9095d55d",
   "metadata": {},
   "source": [
    "__Нейросетевая языковая модель на основе схемы Seq2Seq__\n",
    "\n",
    "Евгений Борисов <esborisov@sevsu.ru>"
   ]
  },
  {
   "cell_type": "markdown",
   "id": "07022919",
   "metadata": {},
   "source": [
    "---"
   ]
  },
  {
   "cell_type": "markdown",
   "id": "2e6cd24f",
   "metadata": {},
   "source": [
    "# загружаем тексты"
   ]
  },
  {
   "cell_type": "code",
   "execution_count": 1,
   "id": "aa559631",
   "metadata": {},
   "outputs": [],
   "source": [
    "import gzip\n",
    "import requests\n",
    "from bs4 import BeautifulSoup"
   ]
  },
  {
   "cell_type": "code",
   "execution_count": 2,
   "id": "0f4b215a",
   "metadata": {},
   "outputs": [
    {
     "name": "stdout",
     "output_type": "stream",
     "text": [
      "символов:637765\n",
      "---------------\n",
      "\n",
      "Вы прилетели в  Нью-Йорк и  остановились  в  одном  из отелей, глядящих\n",
      "окнами на Центральный парк.  Наутро по  приезде вы вышли из  отеля, вдохнули\n",
      "полной грудью очищенный зеленью парка воздух  и,  взглянув на часы, --  пора\n",
      "было начинать хлопотливый день, --  направились к  первому из  таксомоторов,\n",
      "выстроившихся вереницей у подъезда.\n",
      "    \n"
     ]
    }
   ],
   "source": [
    "# url='http://lib.ru/NEWPROZA/LOBAS/taxisty.txt'\n",
    "# text = BeautifulSoup(requests.get(url).text).get_text()\n",
    "# with gzip.open('taxisty.txt.gz','wt') as f: f.write(text)\n",
    "\n",
    "with gzip.open('taxisty.txt.gz','rt') as f: text = f.read()\n",
    "\n",
    "text = text[1030:-7261].strip() # выкидываем заголовок и хвост страницы \n",
    "print(f'символов:{len(text)}\\n---------------\\n'%())\n",
    "print(text[:343])"
   ]
  },
  {
   "cell_type": "code",
   "execution_count": 3,
   "id": "18b79044",
   "metadata": {},
   "outputs": [],
   "source": [
    "# url='http://az.lib.ru/d/dostoewskij_f_m/text_0080.shtml'\n",
    "# text = BeautifulSoup(requests.get(url).text).get_text()\n",
    "# with gzip.open('dostoewskij.txt.gz','wt') as f: f.write(text)\n",
    "\n",
    "# # with gzip.open('dostoewskij.txt.gz','rt') as f: text = f.read()\n",
    "\n",
    "# text = text[2876:-664184].strip() # выкидываем заголовок и хвост страницы \n",
    "# print(f'символов:{len(text)}\\n---------------\\n'%())\n",
    "# print(text[:355])"
   ]
  },
  {
   "cell_type": "markdown",
   "id": "26585711",
   "metadata": {},
   "source": [
    "---"
   ]
  },
  {
   "cell_type": "code",
   "execution_count": 4,
   "id": "7e583532",
   "metadata": {},
   "outputs": [],
   "source": [
    "from tqdm.auto import tqdm\n",
    "from itertools import chain\n",
    "import numpy as np"
   ]
  },
  {
   "cell_type": "code",
   "execution_count": 5,
   "id": "51f07eff",
   "metadata": {},
   "outputs": [
    {
     "name": "stdout",
     "output_type": "stream",
     "text": [
      "nltk version: 3.8.1\n"
     ]
    }
   ],
   "source": [
    "from nltk import __version__ as nltk_version\n",
    "print('nltk version:',nltk_version)\n",
    "\n",
    "from nltk.tokenize import sent_tokenize as nltk_sentence_split\n",
    "from nltk.tokenize import word_tokenize as nltk_tokenize_word\n",
    "from nltk.util import ngrams"
   ]
  },
  {
   "cell_type": "code",
   "execution_count": 6,
   "id": "06ab869a",
   "metadata": {},
   "outputs": [],
   "source": [
    "# !pip install torch"
   ]
  },
  {
   "cell_type": "code",
   "execution_count": 7,
   "id": "e23ebdb8",
   "metadata": {},
   "outputs": [],
   "source": [
    "import torch\n",
    "from torch.utils.data import Dataset\n",
    "import torch.nn.functional as F"
   ]
  },
  {
   "cell_type": "code",
   "execution_count": 8,
   "id": "f6dafd7f",
   "metadata": {},
   "outputs": [],
   "source": [
    "# !pip install torchtext"
   ]
  },
  {
   "cell_type": "code",
   "execution_count": 9,
   "id": "a9fd2344",
   "metadata": {},
   "outputs": [],
   "source": [
    "# import torchtext\n",
    "# from torchtext.data import get_tokenizer"
   ]
  },
  {
   "cell_type": "code",
   "execution_count": 10,
   "id": "58406575",
   "metadata": {},
   "outputs": [],
   "source": [
    "seq_len = 5"
   ]
  },
  {
   "cell_type": "code",
   "execution_count": 13,
   "id": "6b15b8e5",
   "metadata": {},
   "outputs": [],
   "source": [
    "class SeqDataset(Dataset):\n",
    "    \n",
    "    def __init__(self, text, seq_len=seq_len ):\n",
    "        assert seq_len>1\n",
    "        assert len(text)>1\n",
    "        \n",
    "        self._tokens = ['<UNK>','<EOS>',] # служебные токены \"неизвестное слово\", \"конец последовательности\"\n",
    "        \n",
    "        self._seq_len = seq_len # количество слов контекста слева \n",
    "        # выполняем токенизацию текста \n",
    "        self._sentences = [ \n",
    "            nltk_tokenize_word(s,language='russian') # разбиваем предложения на слова\n",
    "            for s in tqdm(nltk_sentence_split(text,language='russian')) # режем текст на отдельные предложения\n",
    "        ]\n",
    "        # строим словарь\n",
    "        self._vocabulary = self._build_vocabulary(self._sentences)\n",
    "        # выкидываем короткие предложения, добавляем служебный токен \"конец последовательности\"\n",
    "        self._sentences = [ s + [ '<EOS>' ] for s in self._sentences if len(s)> self._seq_len*2 ]\n",
    "        # собираем n-граммы длинны context_len+1\n",
    "        self._data = self._encode_ngrams( self._build_ngrams(self._sentences) )\n",
    "        \n",
    "    def _build_vocabulary(self,sentences):        \n",
    "        # собираем токены (слова) из текста, добавляем служебные\n",
    "        text_tokens = self._tokens + sorted( set(chain(*sentences))-set(self._tokens) ) \n",
    "        return { w:n for n,w in enumerate(text_tokens) } # строим словарь\n",
    "    \n",
    "    def _build_ngrams(self, sentences):\n",
    "        return [ # нарезаем последовательности токенов на n-граммы\n",
    "            ng for s in tqdm(sentences)  \n",
    "               for ng in ngrams( s, self._seq_len*2 ) \n",
    "        ]\n",
    "    \n",
    "    def _encode_ngrams(self,ngrams): # заменяем токены в n-граммах на номера в словаре\n",
    "        return torch.tensor([ self.encode(ng) for ng in tqdm(ngrams) ], dtype=torch.long ) \n",
    "    \n",
    "    def encode(self,s): return [ # заменить в последовательности все токены на их номера в словаре\n",
    "            self._vocabulary[w] if (w in self._vocabulary) else self._tokens['<UNK>']\n",
    "            for w in s \n",
    "        ]\n",
    "    \n",
    "    def __getitem__(self, idx): # выдать элемент датасета номер idx\n",
    "        return (\n",
    "            self._data[idx,:seq_len],\n",
    "            self._data[idx,seq_len:],\n",
    "            # self._num2vec( self._data[idx,-1]) # выход модели - номер слова \n",
    "        )\n",
    "    \n",
    "    def _num2vec(self,x): # заменяем номер слова на вектор [0,1] длинны в размер словаря\n",
    "        return F.one_hot( x, num_classes=len(self._vocabulary)).to( torch.float32 ) \n",
    "\n",
    "    # размер датасета\n",
    "    def __len__(self): return len(self._data)\n",
    "    \n",
    "    @property\n",
    "    def vocabulary(self): return self._vocabulary\n",
    "    \n",
    "    @property\n",
    "    def sentences(self): return self._sentences\n",
    "    \n",
    "    @property\n",
    "    def sentence_len(self): return self._seq_len"
   ]
  },
  {
   "cell_type": "code",
   "execution_count": 14,
   "id": "3e841803",
   "metadata": {},
   "outputs": [
    {
     "data": {
      "application/vnd.jupyter.widget-view+json": {
       "model_id": "109463fa10d74e959a20597fa8c5844b",
       "version_major": 2,
       "version_minor": 0
      },
      "text/plain": [
       "  0%|          | 0/6650 [00:00<?, ?it/s]"
      ]
     },
     "metadata": {},
     "output_type": "display_data"
    },
    {
     "data": {
      "application/vnd.jupyter.widget-view+json": {
       "model_id": "6a63108c3f9d40a789b95a028cf05ae9",
       "version_major": 2,
       "version_minor": 0
      },
      "text/plain": [
       "  0%|          | 0/3754 [00:00<?, ?it/s]"
      ]
     },
     "metadata": {},
     "output_type": "display_data"
    },
    {
     "data": {
      "application/vnd.jupyter.widget-view+json": {
       "model_id": "a2e1411f0fd74c10904ea45f773bd184",
       "version_major": 2,
       "version_minor": 0
      },
      "text/plain": [
       "  0%|          | 0/69399 [00:00<?, ?it/s]"
      ]
     },
     "metadata": {},
     "output_type": "display_data"
    }
   ],
   "source": [
    "ds = SeqDataset( text=text, seq_len=seq_len )"
   ]
  },
  {
   "cell_type": "code",
   "execution_count": 15,
   "id": "a6e367fe",
   "metadata": {},
   "outputs": [
    {
     "data": {
      "text/plain": [
       "69399"
      ]
     },
     "metadata": {},
     "output_type": "display_data"
    },
    {
     "data": {
      "text/plain": [
       "3754"
      ]
     },
     "metadata": {},
     "output_type": "display_data"
    },
    {
     "data": {
      "text/plain": [
       "24068"
      ]
     },
     "metadata": {},
     "output_type": "display_data"
    },
    {
     "data": {
      "text/plain": [
       "24067"
      ]
     },
     "metadata": {},
     "output_type": "display_data"
    }
   ],
   "source": [
    "display(len(ds)) # размер датасета\n",
    "display(len(ds.sentences)) # количество предложений \n",
    "display(len(ds.vocabulary)) # размер словаря\n",
    "display(max(ds.vocabulary.values())) # максимальное значение индекса в словаре"
   ]
  },
  {
   "cell_type": "code",
   "execution_count": 16,
   "id": "8a577263",
   "metadata": {},
   "outputs": [],
   "source": [
    "assert len(ds.vocabulary)== max(ds.vocabulary.values())+1"
   ]
  },
  {
   "cell_type": "code",
   "execution_count": 18,
   "id": "84522a4f",
   "metadata": {},
   "outputs": [],
   "source": [
    "# ds[1]"
   ]
  },
  {
   "cell_type": "markdown",
   "id": "29c52b60",
   "metadata": {},
   "source": [
    "# модель"
   ]
  },
  {
   "cell_type": "code",
   "execution_count": 19,
   "id": "f92173ff",
   "metadata": {},
   "outputs": [],
   "source": [
    "import torch.nn as nn\n",
    "import torch.nn.functional as F"
   ]
  },
  {
   "cell_type": "code",
   "execution_count": 20,
   "id": "80b2c60d",
   "metadata": {},
   "outputs": [],
   "source": [
    "class Encoder(nn.Module):\n",
    "    def __init__(self, vocab_len, embedding_dim=128, hidden_dim=256,): \n",
    "        super(Encoder, self).__init__()\n",
    "        self._emb = nn.Embedding(vocab_len, embedding_dim)\n",
    "        self._gru = nn.GRU(\n",
    "                input_size=embedding_dim, \n",
    "                hidden_size=hidden_dim, \n",
    "                num_layers=1, \n",
    "                batch_first=True,\n",
    "                # dropout=0.4,\n",
    "            )\n",
    "\n",
    "    def forward(self, x):\n",
    "        o = self._emb(x)\n",
    "        o, h = self._gru(o)\n",
    "        return o,h"
   ]
  },
  {
   "cell_type": "code",
   "execution_count": 21,
   "id": "93314dc0",
   "metadata": {},
   "outputs": [],
   "source": [
    "# embedding_dim = 128\n",
    "# encoder_hidden_dim = 256\n",
    "\n",
    "# model_encoder = Encoder(\n",
    "#         vocab_len=len(ds.vocabulary),\n",
    "#         embedding_dim=embedding_dim,\n",
    "#         hidden_dim=encoder_hidden_dim,\n",
    "#     )\n",
    "\n",
    "# x,y = ds[2]\n",
    "# print(x.shape)\n",
    "# with torch.set_grad_enabled(False):  \n",
    "#     o,h = model_encoder( x )\n",
    "#     print(o.shape,h.shape)"
   ]
  },
  {
   "cell_type": "code",
   "execution_count": 22,
   "id": "cb5bcb32",
   "metadata": {},
   "outputs": [],
   "source": [
    "# ds[:2]"
   ]
  },
  {
   "cell_type": "code",
   "execution_count": 23,
   "id": "8647e6c5",
   "metadata": {},
   "outputs": [],
   "source": [
    "# torch.empty(3, 1, dtype=torch.long).fill_(0)\n",
    "# torch.zeros(3, 1, dtype=torch.long)"
   ]
  },
  {
   "cell_type": "code",
   "execution_count": 24,
   "id": "cb9934a8",
   "metadata": {},
   "outputs": [],
   "source": [
    "class Decoder(nn.Module):\n",
    "    \n",
    "    def __init__(self, hidden_dim, output_size, seq_len):\n",
    "        super(Decoder, self).__init__()\n",
    "        self._emb = nn.Embedding(num_embeddings=output_size, embedding_dim=hidden_dim)\n",
    "        self._gru = nn.GRU( \n",
    "                input_size=hidden_dim, \n",
    "                hidden_size=hidden_dim, \n",
    "                num_layers=1, \n",
    "                batch_first=True,\n",
    "                # dropout=0.4,\n",
    "            )\n",
    "        self._lin = nn.Linear(in_features=hidden_dim, out_features=output_size, bias=True,)\n",
    "        self._seq_len = seq_len\n",
    "\n",
    "        \n",
    "    def forward(self, encoder_outputs, encoder_hidden, target_tensor=None):\n",
    "        device = next(self._lin.parameters()).device\n",
    "        batch_size = encoder_outputs.size(0)\n",
    "        \n",
    "        # decoder_input = torch.empty(batch_size, 1, dtype=torch.long, device=device).fill_(0)\n",
    "        decoder_input = torch.zeros(batch_size, 1, dtype=torch.long, device=device)\n",
    "        \n",
    "        decoder_hidden = encoder_hidden\n",
    "        decoder_outputs = []\n",
    "\n",
    "        for i in range(self._seq_len):\n",
    "            decoder_output, decoder_hidden  = self._forward_step(decoder_input, decoder_hidden)\n",
    "            decoder_outputs.append(decoder_output)\n",
    "\n",
    "            if target_tensor is not None:\n",
    "                # Teacher forcing: Feed the target as the next input\n",
    "                decoder_input = target_tensor[:,i].unsqueeze(1) # Teacher forcing\n",
    "            else:\n",
    "                # Without teacher forcing: use its own predictions as the next input\n",
    "                _, topi = decoder_output.topk(1)\n",
    "                decoder_input = topi.squeeze(-1).detach() # detach from history as input\n",
    "\n",
    "        decoder_outputs = torch.cat(decoder_outputs, dim=1)\n",
    "        decoder_outputs = F.log_softmax(decoder_outputs, dim=-1)\n",
    "        return decoder_outputs, decoder_hidden, None # We return `None` for consistency in the training loop\n",
    "\n",
    "#     def forward(self, encoder_hidden, target_tensor=None):\n",
    "#         device = next(self._lin.parameters()).device\n",
    "#         x = torch.zeros(1, 1, dtype=torch.long, device=device)\n",
    "#         return self._forward_step(x,encoder_hidden)\n",
    "\n",
    "    def _forward_step(self,x,h):\n",
    "        o = self._emb(x)\n",
    "        o,h = self._gru(o,h)\n",
    "        o = self._lin(o)\n",
    "        return o,h"
   ]
  },
  {
   "cell_type": "code",
   "execution_count": 25,
   "id": "cdc9cdf7",
   "metadata": {},
   "outputs": [],
   "source": [
    "# layer = nn.Linear(in_features=5, out_features=3, bias=True,)\n",
    "# next(layer.parameters()).device"
   ]
  },
  {
   "cell_type": "markdown",
   "id": "e468595c",
   "metadata": {},
   "source": [
    "-----"
   ]
  },
  {
   "cell_type": "code",
   "execution_count": 26,
   "id": "103a0ed3",
   "metadata": {},
   "outputs": [
    {
     "data": {
      "text/plain": [
       "device(type='cuda', index=0)"
      ]
     },
     "metadata": {},
     "output_type": "display_data"
    },
    {
     "data": {
      "text/plain": [
       "'Tesla P40'"
      ]
     },
     "metadata": {},
     "output_type": "display_data"
    }
   ],
   "source": [
    "# проверяем GPU\n",
    "device = torch.device('cuda:0' if torch.cuda.is_available() else 'cpu')\n",
    "display( device )\n",
    "display( torch.cuda.get_device_name() )"
   ]
  },
  {
   "cell_type": "code",
   "execution_count": 27,
   "id": "d0e78ecc",
   "metadata": {},
   "outputs": [],
   "source": [
    "embedding_dim = 128\n",
    "encoder_hidden_dim = 256\n",
    "\n",
    "model_encoder = Encoder(\n",
    "        vocab_len=len(ds.vocabulary),\n",
    "        embedding_dim=embedding_dim,\n",
    "        hidden_dim=encoder_hidden_dim,\n",
    "    ).to(device)\n",
    "\n",
    "model_decoder = Decoder( \n",
    "        hidden_dim=encoder_hidden_dim, \n",
    "        output_size=len(ds.vocabulary), \n",
    "        seq_len=seq_len,\n",
    "        # device=device,\n",
    "    ).to(device)"
   ]
  },
  {
   "cell_type": "markdown",
   "id": "3fe5ff1f",
   "metadata": {},
   "source": [
    "----"
   ]
  },
  {
   "cell_type": "code",
   "execution_count": 28,
   "id": "7db1b145",
   "metadata": {},
   "outputs": [],
   "source": [
    "# torch.swapaxes(,0,1)"
   ]
  },
  {
   "cell_type": "code",
   "execution_count": 29,
   "id": "a58ea3fd",
   "metadata": {},
   "outputs": [],
   "source": [
    "# hidden_dim = 256\n",
    "# d = torch.zeros((1,2,hidden_dim), device=device)\n",
    "# layer = nn.GRU( input_size=hidden_dim, hidden_size=hidden_dim, num_layers=1,  batch_first=True,).to(device)\n",
    "\n",
    "# x,y = ds[:2]\n",
    "# display( (x.shape,y.shape) ) \n",
    "\n",
    "# with torch.set_grad_enabled(False):  \n",
    "#     o,h = model_encoder(x.to(device))\n",
    "#     h = torch.swapaxes(h,0,1)\n",
    "#     display(( o.shape,h.shape) )\n",
    "#     # layer(d,h)\n",
    "#     o,h,p = model_decoder(h)"
   ]
  },
  {
   "cell_type": "markdown",
   "id": "06c382e3",
   "metadata": {},
   "source": [
    "----"
   ]
  },
  {
   "cell_type": "code",
   "execution_count": 30,
   "id": "d0ccc611",
   "metadata": {},
   "outputs": [],
   "source": [
    "from torch import optim\n",
    "\n",
    "learning_rate = 1e-2\n",
    "encoder_optimizer = optim.Adam( model_encoder.parameters(), lr=learning_rate )\n",
    "decoder_optimizer = optim.Adam( model_decoder.parameters(), lr=learning_rate )\n",
    "criterion = nn.NLLLoss()"
   ]
  },
  {
   "cell_type": "code",
   "execution_count": 31,
   "id": "04ce1b81",
   "metadata": {},
   "outputs": [],
   "source": [
    "# with torch.set_grad_enabled(False):\n",
    "#     for input_tensor, target_tensor in DataLoader( ds, batch_size=3, shuffle=True): \n",
    "#         encoder_outputs, encoder_hidden = model_encoder(input_tensor.to(device))\n",
    "#         decoder_outputs, _, _ = model_decoder(encoder_outputs, encoder_hidden, target_tensor.to(device))\n",
    "#         break\n",
    "\n",
    "# decoder_outputs\n",
    "\n",
    "# encoder_outputs\n",
    "# encoder_hidden"
   ]
  },
  {
   "cell_type": "code",
   "execution_count": 32,
   "id": "3cecc028",
   "metadata": {},
   "outputs": [],
   "source": [
    "# история значений ф-ции потери\n",
    "loss_history = [] "
   ]
  },
  {
   "cell_type": "code",
   "execution_count": 33,
   "id": "d1dcaff8",
   "metadata": {},
   "outputs": [],
   "source": [
    "from torch.utils.data import DataLoader"
   ]
  },
  {
   "cell_type": "code",
   "execution_count": 34,
   "id": "b05c6636",
   "metadata": {},
   "outputs": [
    {
     "data": {
      "application/vnd.jupyter.widget-view+json": {
       "model_id": "5f4d210852c54c4eafe7a129d5114a85",
       "version_major": 2,
       "version_minor": 0
      },
      "text/plain": [
       "  0%|          | 0/32 [00:00<?, ?it/s]"
      ]
     },
     "metadata": {},
     "output_type": "display_data"
    },
    {
     "name": "stdout",
     "output_type": "stream",
     "text": [
      "CPU times: user 2min, sys: 143 ms, total: 2min\n",
      "Wall time: 1min 56s\n"
     ]
    }
   ],
   "source": [
    "%%time\n",
    "\n",
    "n_epoch = 32 # количество эпох обучения\n",
    "batch_size = 1024*8\n",
    "\n",
    "# lag_val_check = 4\n",
    "# n_iter_no_check = n_epoch*0.33\n",
    "# assert n_iter_no_check>lag_val_check\n",
    "\n",
    "for i in tqdm(range(n_epoch)): \n",
    "    loss_batch = []\n",
    "    \n",
    "    # получаем батч учебных примеров\n",
    "    for input_tensor, target_tensor in DataLoader( ds, batch_size=batch_size, shuffle=True): \n",
    "        encoder_optimizer.zero_grad()\n",
    "        decoder_optimizer.zero_grad()\n",
    "\n",
    "        encoder_outputs, encoder_hidden = model_encoder(input_tensor.to(device))\n",
    "        decoder_outputs, _, _ = model_decoder(encoder_outputs, encoder_hidden, target_tensor.to(device))\n",
    "        \n",
    "        loss = criterion(\n",
    "            decoder_outputs.view(-1, decoder_outputs.size(-1)),\n",
    "            target_tensor.to(device).view(-1)\n",
    "        )\n",
    "        loss_batch.append(loss.item()) # дополняем историю изменения значений ф-ции потери на батче\n",
    "        \n",
    "        loss.backward()\n",
    "\n",
    "        encoder_optimizer.step()\n",
    "        decoder_optimizer.step()\n",
    "   \n",
    "    loss_history.append( np.mean(loss_batch) ) # дополняем общую историю изменения значений ф-ции потери\n",
    "    \n",
    "    "
   ]
  },
  {
   "cell_type": "code",
   "execution_count": 35,
   "id": "6c268a65",
   "metadata": {},
   "outputs": [
    {
     "data": {
      "text/plain": [
       "Text(0.5, 1.0, 'min loss: 0.29767')"
      ]
     },
     "execution_count": 35,
     "metadata": {},
     "output_type": "execute_result"
    },
    {
     "data": {
      "image/png": "[encoded data removed]",
      "text/plain": [
       "<Figure size 500x400 with 1 Axes>"
      ]
     },
     "metadata": {},
     "output_type": "display_data"
    }
   ],
   "source": [
    "from matplotlib import pyplot as plt\n",
    "\n",
    "fig,ax = plt.subplots(figsize=(5,4))\n",
    "ax.plot(loss_history)\n",
    "ax.grid()\n",
    "ax.set_title(f'min loss: {min(loss_history):.5f}')"
   ]
  },
  {
   "cell_type": "code",
   "execution_count": null,
   "id": "978b0efd",
   "metadata": {},
   "outputs": [],
   "source": [
    "# # история изменения значений ф-ции потери\n",
    "# plt.plot(loss_history,label='loss min=%.3f'%(min(loss_history_train)),c='r')\n",
    "# plt.grid()\n",
    "# plt.title('история изменения значений ф-ции потери')\n",
    "# plt.legend()"
   ]
  },
  {
   "cell_type": "markdown",
   "id": "2155d639",
   "metadata": {},
   "source": [
    "# тестируем"
   ]
  },
  {
   "cell_type": "code",
   "execution_count": 101,
   "id": "a75c0836",
   "metadata": {},
   "outputs": [
    {
     "data": {
      "text/plain": [
       "['Я попробовал переждать , пропустить',\n",
       " 'Раньше , чем через десять',\n",
       " 'Несколько дней держался я подальше',\n",
       " 'Счетчик показывал 1.85 , я',\n",
       " '-- Арендую , -- сказал',\n",
       " 'Я так спешу , я',\n",
       " 'Но я уже выскочил из',\n",
       " 'Он было обыкновенным чиновником ,',\n",
       " 'Тот , кто откажется взять',\n",
       " 'Больше Пьер в кино не']"
      ]
     },
     "metadata": {},
     "output_type": "display_data"
    }
   ],
   "source": [
    "from random import sample\n",
    "from nltk.util import ngrams \n",
    "\n",
    "prompts = [\n",
    "    ' '.join(ng) \n",
    "    for s in sample( ds.sentences,10 ) if len(s)>ds.sentence_len*2\n",
    "    for ng in list(ngrams(s[:ds.sentence_len],5))  \n",
    "    ]\n",
    "\n",
    "display( prompts )"
   ]
  },
  {
   "cell_type": "code",
   "execution_count": 102,
   "id": "edc0cfd2",
   "metadata": {},
   "outputs": [],
   "source": [
    "class LangModelSeq2Seq: # генератор текста \n",
    "    \n",
    "    def __init__(self,encoder,decoder,vocabulary):\n",
    "        self._encoder = encoder \n",
    "        self._decoder = decoder \n",
    "        self._vocabulary = vocabulary # словарь языковой модели\n",
    "        self._vocabulary_inv = { v:k for k,v in self._vocabulary.items() }\n",
    "    \n",
    "    def predict(self,prompt,n_iter=1):\n",
    "        eos = self._vocabulary['<EOS>']\n",
    "        x = self._encode(prompt) # начальная последовательность токенов\n",
    "        codes = []\n",
    "        for _ in range(n_iter):\n",
    "            p = self._predict(x) # генерируем следующий токен\n",
    "            codes.append(p)\n",
    "            if (p==eos).any():break\n",
    "            x = torch.tensor(p.reshape(1,-1,),dtype=torch.long)\n",
    "            #print(x)\n",
    "        return self._strip_eos( self._decode(np.hstack(codes)) ) # конвертируем коды токенов в строку\n",
    "\n",
    "    def _predict(self,x):\n",
    "        device = next(self._encoder.parameters()).device \n",
    "        with torch.set_grad_enabled(False): # генерируем следующий токен\n",
    "            o, h = self._encoder(x.to(device))\n",
    "            o,_,_ = self._decoder(o,h)\n",
    "        return np.argmax( o.cpu().numpy()[0],axis=1) \n",
    "    \n",
    "    def _encode(self,s): # кодируем строку\n",
    "        s = nltk_tokenize_word(s,language='russian')\n",
    "        s = [ self._vocabulary[w] for w in s if (w in self._vocabulary) ]\n",
    "        return torch.tensor([s], dtype=torch.long )\n",
    "    \n",
    "    def _decode(self,s): # конвертируем коды токенов в строку\n",
    "        return ' '.join([ \n",
    "            self._vocabulary_inv[c] \n",
    "            for c in s if (c in self._vocabulary_inv) \n",
    "        ])\n",
    "    @staticmethod\n",
    "    def _strip_eos(s,eos='<EOS>'):\n",
    "        n = s.find(eos)\n",
    "        return s if n<0 else s[:n+len(eos)]"
   ]
  },
  {
   "cell_type": "code",
   "execution_count": 104,
   "id": "90fd3004",
   "metadata": {},
   "outputs": [
    {
     "name": "stdout",
     "output_type": "stream",
     "text": [
      "Я попробовал переждать , пропустить ==> конкурентов , куда там : желтые машины летели непрерывным потоком , что было делать со вздохом : -- Я не знаю , что я `` хороший парень '' . <EOS> \n",
      "\n",
      "Раньше , чем через десять ==> минут я не попаду в этой паскудной Америке ? <EOS> \n",
      "\n",
      "Несколько дней держался я подальше ==> от идиотской этой гостиницы , объезжал ее , что называется , десятой дорогой , но как-то раз пришлось мне высадить клиента возле дома напротив `` Мэдисона '' , и про то , как и в конце концов привела меня на станцию , с которой отправился мой поезд в будущее , мне придется , передохнув малость после первой части `` Желтых королей '' ( это книга '' Водители '' , которую я тоже не сразу раскусил с ней , как `` эй-мен '' опустил стекло и зовет : -- Садись , вот когда ты ответишь , что новый кэб тебе ни к чему ; вполне сгодится , но он навсегда остался частицей той страны . <EOS> \n",
      "\n",
      "Счетчик показывал 1.85 , я ==> с натугой выдавил из себя : -- А решение судьи по такому делу может повлиять на получение гражданства ? <EOS> \n",
      "\n",
      "-- Арендую , -- сказал ==> я. По таксистской привычке мы забрались в кэб . <EOS> \n",
      "\n",
      "Я так спешу , я ==> был счастлив ничуть не меньше , чем раз в неделю бьют морду , отдаст ключи от драндулета без оговоренных полутора на чай , что ее усталое лицо помолодело в полумраке кэба , женщина расслабляется и , услышав от меня , что в любой другой , что отправляются ежеминутно с Центрального или Пенсильванского вокзалов : кто захочет , тот , кто там так искренне верившему , что показывал легковерным пассажирам '' Женскую тюрьму '' ! .. -- `` Манхеттен Хаус '' и кому адресуется ее сарказм деньги и что оперирует в ней один из лучших хирургов института -- профессор Михайловский , нелюдимый , никогда не улыбающийся , что ты лодырь , которцй водить такси вовсе и не собирается ( ведь ты же -- сказал я . \n",
      "\n",
      "Но я уже выскочил из ==> машины и бросился к окрашенной в красную краску подворотне , где , не видимые с проезжей части , стояли двое пожарных : они пили кофе из бумажных стаканчиков ... -- Что случилось ? ! <EOS> \n",
      "\n",
      "Он было обыкновенным чиновником , ==> которому дотянуть до пенсии оставалось всего два года ... Автор же , который постоянно пишет `` на подхвате '' -- двадцать долларов , в какую точку огромного Бруклина моей клиентке нужно попасть , я знал , что не замечаю их , и так продолжалось до самой полуночи ... А когда пробила полночь , в тебе русскую стаю . <EOS> \n",
      "\n",
      "Тот , кто откажется взять ==> пассажира на короткое расстояние , не получит и пассажира в `` Кеннеди '' . <EOS> \n",
      "\n",
      "Больше Пьер в кино не ==> снимается ; сегодня ему исполнился шестнадцатый год. Обычно пудели не живут так долго . <EOS> \n",
      "\n"
     ]
    }
   ],
   "source": [
    "for prompt in prompts:\n",
    "    t = LangModelSeq2Seq(model_encoder,model_decoder,ds.vocabulary).predict(prompt,n_iter=25)\n",
    "    print(prompt,'==>', t,'\\n')"
   ]
  },
  {
   "cell_type": "markdown",
   "id": "6c7c83dd",
   "metadata": {},
   "source": [
    "----"
   ]
  },
  {
   "cell_type": "code",
   "execution_count": null,
   "id": "beea86b1",
   "metadata": {},
   "outputs": [],
   "source": [
    "#     loss_batch = []\n",
    "#     with torch.set_grad_enabled(False):   \n",
    "#         # получаем батч проверочных примеров\n",
    "#         for input_tensor, target_tensor in DataLoader( ds_val, batch_size=batch_size, shuffle=False): \n",
    "#             encoder_outputs, encoder_hidden = model_encoder(input_tensor.to(device))\n",
    "#             decoder_outputs, _, _ = model_decoder(encoder_outputs, encoder_hidden, target_tensor.to(device))\n",
    "#             loss = criterion(\n",
    "#                 decoder_outputs.view(-1, decoder_outputs.size(-1)),\n",
    "#                 target_tensor.to(device).view(-1)\n",
    "#             )\n",
    "#             loss_batch.append(loss.item()) # дополняем историю изменения значений ф-ции потери на батче\n",
    "\n",
    "#     loss_history_val.append( np.mean(loss_batch) ) # дополняем общую историю изменения значений ф-ции потери\n",
    "\n",
    "#     if i>n_iter_no_check:\n",
    "#         if ( loss_history_val[-lag_val_check]<loss_history_val[-1] ):\n",
    "#             print( 'validation loss value up, stoped\\n' )\n",
    "#             break"
   ]
  },
  {
   "cell_type": "code",
   "execution_count": null,
   "id": "6fc57be3",
   "metadata": {},
   "outputs": [],
   "source": [
    "# %%time \n",
    "\n",
    "# init_seq = []\n",
    "# hypothesis = []\n",
    "# reference = []\n",
    "\n",
    "# with torch.set_grad_enabled(False):\n",
    "#     for input_tensor, target_tensor in DataLoader( ds_train, batch_size=batch_size, shuffle=False): \n",
    "#         encoder_outputs, encoder_hidden = model_encoder(input_tensor.to(device))\n",
    "#         decoder_outputs, _, _ = model_decoder(encoder_outputs, encoder_hidden, target_tensor.to(device))\n",
    "        \n",
    "#         init_seq.append( input_tensor.cpu().numpy() )\n",
    "        \n",
    "#         reference.append( target_tensor.cpu().numpy() )\n",
    "        \n",
    "#         hypothesis.append( \n",
    "#             np.swapaxes(np.argmax(\n",
    "#                 decoder_outputs.cpu().numpy()\n",
    "#                 ,axis=-1,keepdims=True),2,1)\n",
    "#         )\n",
    "\n",
    "# init_seq = np.vstack( init_seq )        \n",
    "# reference = np.vstack( reference )\n",
    "# hypothesis = np.vstack( hypothesis )\n",
    "\n",
    "# display( init_seq.shape, reference.shape, hypothesis.shape, )\n",
    "\n",
    "# df_train_  = pd.DataFrame({\n",
    "#         'Rus': [ decode( v , voc_ru ) for v in tqdm( init_seq) ],\n",
    "#         'Eng_target': [ decode( v , voc_en ) for v in tqdm(reference) ],\n",
    "#         'Eng_predicted': [ decode( v , voc_en ) for v in tqdm( np.squeeze(hypothesis)) ],\n",
    "#     })\n",
    "\n",
    "# display( df_train_.sample(17) )"
   ]
  },
  {
   "cell_type": "code",
   "execution_count": 98,
   "id": "e408cf79",
   "metadata": {},
   "outputs": [],
   "source": [
    "# def encode(s): # кодируем строку\n",
    "#     s = nltk_tokenize_word(s,language='russian')\n",
    "#     s = [ ds.vocabulary[w] for w in s if (w in ds.vocabulary) ]\n",
    "#     return torch.tensor([s], dtype=torch.long )\n",
    "\n",
    "# prompt = prompts[0]\n",
    "# display(prompt)\n",
    "\n",
    "# x = encode(prompt)\n",
    "# display(x)"
   ]
  },
  {
   "cell_type": "code",
   "execution_count": 99,
   "id": "20ed3f10",
   "metadata": {},
   "outputs": [],
   "source": [
    "# with torch.set_grad_enabled(False):\n",
    "#     encoder_outputs, encoder_hidden = model_encoder(x.to(device))\n",
    "#     decoder_outputs, _, _ = model_decoder(encoder_outputs, encoder_hidden) #, target_tensor.to(device))        "
   ]
  },
  {
   "cell_type": "code",
   "execution_count": 100,
   "id": "7e524e1a",
   "metadata": {},
   "outputs": [],
   "source": [
    "# vocabulary_inv = { v:k for k,v in ds.vocabulary.items() }\n",
    "\n",
    "# def decode(codes): # конвертируем коды токенов в строку\n",
    "#     return ' '.join([ \n",
    "#         vocabulary_inv[c] \n",
    "#         for c in codes if (c in vocabulary_inv) \n",
    "#     ])\n",
    "\n",
    "# codes = np.argmax( decoder_outputs.cpu().numpy()[0],axis=1) #.shape \n",
    "# decode(codes)"
   ]
  },
  {
   "cell_type": "code",
   "execution_count": null,
   "id": "ebc9eeff",
   "metadata": {},
   "outputs": [],
   "source": []
  }
 ],
 "metadata": {
  "kernelspec": {
   "display_name": "Python 3 (ipykernel)",
   "language": "python",
   "name": "python3"
  },
  "language_info": {
   "codemirror_mode": {
    "name": "ipython",
    "version": 3
   },
   "file_extension": ".py",
   "mimetype": "text/x-python",
   "name": "python",
   "nbconvert_exporter": "python",
   "pygments_lexer": "ipython3",
   "version": "3.11.7"
  },
  "toc": {
   "base_numbering": 1,
   "nav_menu": {},
   "number_sections": true,
   "sideBar": true,
   "skip_h1_title": false,
   "title_cell": "Table of Contents",
   "title_sidebar": "Contents",
   "toc_cell": false,
   "toc_position": {},
   "toc_section_display": true,
   "toc_window_display": false
  }
 },
 "nbformat": 4,
 "nbformat_minor": 5
}
