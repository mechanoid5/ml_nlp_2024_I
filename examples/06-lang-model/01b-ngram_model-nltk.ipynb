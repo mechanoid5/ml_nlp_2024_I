{
 "cells": [
  {
   "cell_type": "markdown",
   "id": "ac9bfcd8",
   "metadata": {},
   "source": [
    "**Статистическая языковая модель**\n",
    "\n",
    "Евгений Борисов <esborisov@sevsu.ru>\n",
    "\n",
    "подбираем наиболее вероятное продолжение цепочки слов (NLTK model)"
   ]
  },
  {
   "cell_type": "code",
   "execution_count": 70,
   "id": "11c10ae6",
   "metadata": {},
   "outputs": [],
   "source": [
    "import gzip\n",
    "import requests\n",
    "from bs4 import BeautifulSoup"
   ]
  },
  {
   "cell_type": "code",
   "execution_count": 93,
   "id": "a8508779",
   "metadata": {},
   "outputs": [],
   "source": [
    "# url='http://lib.ru/NEWPROZA/LOBAS/taxisty.txt'\n",
    "# text = BeautifulSoup(requests.get(url).text).get_text()\n",
    "# with gzip.open('taxisty.txt.gz','wt') as f: f.write(text)\n",
    "\n",
    "# # with gzip.open('taxisty.txt.gz','rt') as f: text = f.read()\n",
    "\n",
    "# text = text[1030:-7261].strip() # выкидываем заголовок и хвост страницы \n",
    "# print(f'символов:{len(text)}\\n---------------\\n'%())\n",
    "# print(text[:343])"
   ]
  },
  {
   "cell_type": "code",
   "execution_count": 87,
   "id": "babb7397",
   "metadata": {},
   "outputs": [],
   "source": [
    "url='http://az.lib.ru/d/dostoewskij_f_m/text_0080.shtml'\n",
    "text = BeautifulSoup(requests.get(url).text).get_text()\n",
    "with gzip.open('dostoewskij.txt.gz','wt') as f: f.write(text)\n",
    "\n",
    "# with gzip.open('dostoewskij.txt.gz','rt') as f: text = f.read()\n",
    "\n",
    "text = text[2876:-664184].strip() # выкидываем заголовок и хвост страницы \n",
    "print(f'символов:{len(text)}\\n---------------\\n'%())\n",
    "print(text[:355])"
   ]
  },
  {
   "cell_type": "code",
   "execution_count": 88,
   "id": "1ca2b8e5",
   "metadata": {},
   "outputs": [
    {
     "name": "stdout",
     "output_type": "stream",
     "text": [
      "nltk version: 3.8.1\n"
     ]
    }
   ],
   "source": [
    "from nltk import __version__ as nltk_version\n",
    "print('nltk version:',nltk_version)"
   ]
  },
  {
   "cell_type": "code",
   "execution_count": 89,
   "id": "765735ae",
   "metadata": {},
   "outputs": [
    {
     "data": {
      "application/vnd.jupyter.widget-view+json": {
       "model_id": "05f79837a6a84bd3a6a24baf2cf03529",
       "version_major": 2,
       "version_minor": 0
      },
      "text/plain": [
       "  0%|          | 0/6685 [00:00<?, ?it/s]"
      ]
     },
     "metadata": {},
     "output_type": "display_data"
    },
    {
     "name": "stdout",
     "output_type": "stream",
     "text": [
      "предложений: 6685\n",
      "\n"
     ]
    },
    {
     "data": {
      "text/plain": [
       "[['Гелию',\n",
       "  'и',\n",
       "  'его',\n",
       "  'сокамернику',\n",
       "  'вздумалось',\n",
       "  'устроить',\n",
       "  'в',\n",
       "  'тюрьме',\n",
       "  'на',\n",
       "  'Новый',\n",
       "  'год',\n",
       "  '--',\n",
       "  'елочку',\n",
       "  '...',\n",
       "  'Конечно',\n",
       "  'же',\n",
       "  ',',\n",
       "  'заключенный',\n",
       "  'играл',\n",
       "  'с',\n",
       "  'капитаном',\n",
       "  ',',\n",
       "  'как',\n",
       "  'кошка',\n",
       "  'с',\n",
       "  'мышкой',\n",
       "  ',',\n",
       "  'но',\n",
       "  'дураковатый',\n",
       "  'капитан',\n",
       "  'клюнул',\n",
       "  'на',\n",
       "  'удочку',\n",
       "  'и',\n",
       "  'не',\n",
       "  'только',\n",
       "  'разрешил',\n",
       "  'неслыханное',\n",
       "  'в',\n",
       "  'следственном',\n",
       "  'изоляторе',\n",
       "  'КГБ',\n",
       "  'баловство',\n",
       "  ',',\n",
       "  'а',\n",
       "  'собственноручно',\n",
       "  'принес',\n",
       "  'заключенным',\n",
       "  'две',\n",
       "  'или',\n",
       "  'три',\n",
       "  'пахнущие',\n",
       "  'смолой',\n",
       "  'и',\n",
       "  'морозом',\n",
       "  'хвойные',\n",
       "  'ветки',\n",
       "  '.']]"
      ]
     },
     "metadata": {},
     "output_type": "display_data"
    }
   ],
   "source": [
    "from tqdm.auto import tqdm\n",
    "from random import sample\n",
    "\n",
    "from nltk.tokenize import sent_tokenize as nltk_sentence_split\n",
    "from nltk.tokenize import word_tokenize as nltk_tokenize_word\n",
    "\n",
    "sentences = [ \n",
    "    nltk_tokenize_word(s) # разбиваем предложения на слова\n",
    "    for s in tqdm(nltk_sentence_split(text)) # режем текст на отдельные предложения\n",
    "]\n",
    "\n",
    "print('предложений: %i\\n'%(len(sentences)))\n",
    "display( sample(sentences,1) )"
   ]
  },
  {
   "cell_type": "code",
   "execution_count": 90,
   "id": "8e495cc0",
   "metadata": {},
   "outputs": [],
   "source": [
    "sentences = sentences[:128] # ограничиваем датасет для ускорения процеса "
   ]
  },
  {
   "cell_type": "code",
   "execution_count": 119,
   "id": "e810ef5c",
   "metadata": {},
   "outputs": [
    {
     "data": {
      "text/plain": [
       "1654"
      ]
     },
     "metadata": {},
     "output_type": "display_data"
    }
   ],
   "source": [
    "from nltk.lm.preprocessing import padded_everygram_pipeline \n",
    "\n",
    "ngram_len = 3\n",
    "\n",
    "# генерируем учебный датасет\n",
    "train, vocab = padded_everygram_pipeline(ngram_len, sentences)\n",
    "\n",
    "# собираем модель\n",
    "\n",
    "# from nltk.lm import MLE as LangModel \n",
    "from nltk.lm import Laplace as LangModel\n",
    "\n",
    "model = LangModel(ngram_len) \n",
    "model.fit(train, vocab)\n",
    "\n",
    "display(len(model.vocab))"
   ]
  },
  {
   "cell_type": "code",
   "execution_count": 120,
   "id": "309be2c0",
   "metadata": {},
   "outputs": [
    {
     "name": "stdout",
     "output_type": "stream",
     "text": [
      "Завидные деньги , однако , никому не даются ... ['даром', '.', '</s>']\n",
      "\n",
      "Любому из моих друзей ты можешь оставить на часок в центре города свой `` Мерседес '' без всякого риска , что машину уволокут на штрафную площадку ; захочешь .понюхать '' или `` пустить по вене '' , поставить на бейсбольную команду или же пожелаешь добавить в свою жизнь капельку нежности -- они всегда позаботятся , чтобы ты получил именно то , к чему нынче предрасположен ... А кроме швейцаров я познакомлю тебя с кинозвездой-собакой и с нищим таксистом , который разбогател в течение считанных дней : я покажу тебе , читатель , тот особый Нью-Йорк , каким его видят водители желтых кэбов , а если тебе любопытно -- научу , как ... ['я', ',', 'эмигрантов']\n",
      "\n",
      "Как ни старался Ангел даже не глядеть в ту сторону , более часу вытерпеть он не мог и посылал за порцией ... ['кого-нибудь', 'из', 'пользовавшихся']\n",
      "\n",
      "Ангел стоял на своем посту , терзаемый головоломной ... ['мыслью', '.', '</s>']\n",
      "\n",
      "Они же горло готовы перегрызть за свой несчастный ... ['доллар', '.', '</s>']\n",
      "\n",
      "Убедившись , что украшенный пилоткой рекламы чекер4 стоит на месте , и тихонько прикрыв дверь в спальню , где спит жена , и другую дверь -- в спальню сына , мимо ставшего с ... ['недавних', 'пор', 'ненужным']\n",
      "\n",
      "В нашем доме , а вернее , в огромном , построенном городскими властями жилом комплексе , образованном шестью корпусами , поставленными на границе с черным районом , живет много ... [',', 'чуть', 'ли']\n",
      "\n",
      "-- Мой кэб занят , -- чуть поморщившись , отвечал один ... ['из', 'дремавших', 'в']\n",
      "\n",
      "Инцидент исчерпан ; водителю протянуты две долларовые бумажки и сказано , что сдачу он ... ['может', 'оставить', 'себе']\n",
      "\n",
      ") , захлопнув багажник , подскочил к швейцару и сунул ему ассигнацию ... Да , да : он ... ['вместо', 'вас', 'уплатил']\n",
      "\n",
      "Если , записываясь в очередь на квартиру , указать в анкете не сумму своих доходов , а разрешенную шкалой ... ['цифру', ',', 'все']\n",
      "\n",
      "Живи там , где жил , покупай в Лонг-Айленде дом , а дешевую квартирку , накинув цену , можно сдать от себя менее ... ['расторопному', 'эмигранту', ',']\n",
      "\n",
      "Это совсем недалеко , а мы будем вам очень ... ['признательны', '.', '</s>']\n",
      "\n",
      "Пусть один шумит , что ему нужно в форт Ли , а другой заказывает Бруклин-Хайтс -- не обращай внимания ; постарайся , если можешь , запихать их в машину всех до единого , а предупреди ... ['лишь', 'о', 'том']\n",
      "\n",
      "Швейцар отвернулся ; ему , наверное , было стыдно наблюдать эдакое измывательство над гостями престижного отеля- Пришлось повысить голос , окликнуть швейцара , и тот , надо сказать , живо навел порядок ... [':', 'развязный', 'кэбби']\n",
      "\n",
      "Ну , а если ты , читатель , личность с запросами и не хочешь развозить по ночам пьяных деляг и нужен тебе не полтинник , а многие тысячи и вольная жизнь обеспеченного человека , я тоже тебя научу , ... ['как', 'многим', 'людям']\n",
      "\n",
      "Но , Бог ты мой , до чего же это неприятно , когда везет вас обозленный шоферюга , который все время бурчит что-то себе под нос , ... ['гримасничает', 'и', 'вам']\n",
      "\n",
      "Они поняли , что предоставляемые здесь блага -- реальны , а запреты ... ['--', 'условны', '.']\n",
      "\n",
      "Для наших это было так просто , так естественно , ибо когда и какой еврей в Советском Союзе вселяется ... ['в', 'квартиру', 'без']\n",
      "\n",
      "Потому что таксист , хоть и сам же сует свой доллар , если пассажир , за которого он заплатил , вдруг передумает и велит везти его не в Кеннеди , а к автобусу , отправляющемуся в аэропорт , -- может запросто , посреди дороги вышвырнуть из машины и пассажира , и его багаж , вернуться к отелю ... ['.', '</s>', '</s>']\n",
      "\n",
      "-- Разве вы не видите , что мы ... ['разговариваем', '?', '</s>']\n",
      "\n",
      "Разумеется , не все желающие могут попасть в рай ; поселиться в нашем комплексе имеет право лишь семья с определенным доходом : не ... ['выше', 'и', 'не']\n",
      "\n",
      "-- Манки ! 2 -- кричала она через ... ['дорогу', '.', '</s>']\n",
      "\n",
      "-- А ведь и в самом деле , -- вслух согласились вы ... ['с', 'женой', 'только']\n",
      "\n",
      "-- с режущим слух акцентом сказал второй и при этом покачал головой , сетуя ... ['на', 'всеобщую', 'невоспитанность']\n",
      "\n"
     ]
    }
   ],
   "source": [
    "# генерируем продолжения\n",
    "for sentence in sample(sentences,30): # выбираем рандомно 10 предложений\n",
    "    if len(sentence)<10: continue\n",
    "    # берём начало предложения\n",
    "    sentence_ = sentence[:-(len(sentence)//4)]\n",
    "    # генерируем возможные продолжения\n",
    "    result = model.generate(3, text_seed=sentence_) \n",
    "    print(  ' '.join(sentence_)  + ' ... ' + str( result ) + '\\n' )"
   ]
  },
  {
   "cell_type": "code",
   "execution_count": 121,
   "id": "08863bde",
   "metadata": {},
   "outputs": [
    {
     "name": "stdout",
     "output_type": "stream",
     "text": [
      "perplexity: 816.8923634600944\n"
     ]
    }
   ],
   "source": [
    "# from nltk.util import bigrams\n",
    "from nltk.util import ngrams\n",
    "\n",
    "# оцениваем насколько хорошо модель предсказывает слова из датасета\n",
    "text_ngrams = [ ng for s in sentences for ng in ngrams(s,3) ]\n",
    "\n",
    "print( 'perplexity:', model.perplexity( text_ngrams ) )"
   ]
  },
  {
   "cell_type": "code",
   "execution_count": 122,
   "id": "29036d7d",
   "metadata": {},
   "outputs": [
    {
     "data": {
      "text/plain": [
       "[('Вы', 'прилетели', 'в'),\n",
       " ('прилетели', 'в', 'Нью-Йорк'),\n",
       " ('в', 'Нью-Йорк', 'и')]"
      ]
     },
     "metadata": {},
     "output_type": "display_data"
    }
   ],
   "source": [
    "display( text_ngrams[:3] )"
   ]
  },
  {
   "cell_type": "code",
   "execution_count": null,
   "id": "82488f46",
   "metadata": {},
   "outputs": [],
   "source": []
  }
 ],
 "metadata": {
  "kernelspec": {
   "display_name": "Python 3 (ipykernel)",
   "language": "python",
   "name": "python3"
  },
  "language_info": {
   "codemirror_mode": {
    "name": "ipython",
    "version": 3
   },
   "file_extension": ".py",
   "mimetype": "text/x-python",
   "name": "python",
   "nbconvert_exporter": "python",
   "pygments_lexer": "ipython3",
   "version": "3.11.7"
  },
  "toc": {
   "base_numbering": 1,
   "nav_menu": {},
   "number_sections": true,
   "sideBar": true,
   "skip_h1_title": false,
   "title_cell": "Table of Contents",
   "title_sidebar": "Contents",
   "toc_cell": false,
   "toc_position": {},
   "toc_section_display": true,
   "toc_window_display": false
  }
 },
 "nbformat": 4,
 "nbformat_minor": 5
}
