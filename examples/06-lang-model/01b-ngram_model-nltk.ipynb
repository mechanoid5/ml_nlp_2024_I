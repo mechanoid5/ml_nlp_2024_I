{
 "cells": [
  {
   "cell_type": "markdown",
   "id": "ac9bfcd8",
   "metadata": {},
   "source": [
    "**Статистическая языковая модель**\n",
    "\n",
    "Евгений Борисов <esborisov@sevsu.ru>\n",
    "\n",
    "подбираем наиболее вероятное продолжение цепочки слов (NLTK model)"
   ]
  },
  {
   "cell_type": "code",
   "execution_count": 1,
   "id": "11c10ae6",
   "metadata": {},
   "outputs": [],
   "source": [
    "import gzip\n",
    "import requests\n",
    "from bs4 import BeautifulSoup"
   ]
  },
  {
   "cell_type": "code",
   "execution_count": 2,
   "id": "a8508779",
   "metadata": {},
   "outputs": [],
   "source": [
    "# url='http://lib.ru/NEWPROZA/LOBAS/taxisty.txt'\n",
    "# text = BeautifulSoup(requests.get(url).text).get_text()\n",
    "# with gzip.open('taxisty.txt.gz','wt') as f: f.write(text)\n",
    "\n",
    "# # with gzip.open('taxisty.txt.gz','rt') as f: text = f.read()\n",
    "\n",
    "# text = text[1030:-7261].strip() # выкидываем заголовок и хвост страницы \n",
    "# print(f'символов:{len(text)}\\n---------------\\n'%())\n",
    "# print(text[:343])"
   ]
  },
  {
   "cell_type": "code",
   "execution_count": 3,
   "id": "babb7397",
   "metadata": {},
   "outputs": [
    {
     "name": "stdout",
     "output_type": "stream",
     "text": [
      "символов:1279540\n",
      "---------------\n",
      "\n",
      "Приступая к описанию недавних и столь странных событий, происшедших в нашем, доселе ничем не отличавшемся городе, я принужден, по неумению моему, начать несколько издалека, а именно некоторыми биографическими подробностями о талантливом и многочтимом Степане Трофимовиче Верховенском. Пусть эти подробности послужат лишь введением к предлагаемой хронике, \n"
     ]
    }
   ],
   "source": [
    "url='http://az.lib.ru/d/dostoewskij_f_m/text_0080.shtml'\n",
    "text = BeautifulSoup(requests.get(url).text).get_text()\n",
    "with gzip.open('dostoewskij.txt.gz','wt') as f: f.write(text)\n",
    "\n",
    "# with gzip.open('dostoewskij.txt.gz','rt') as f: text = f.read()\n",
    "\n",
    "text = text[2876:-664184].strip() # выкидываем заголовок и хвост страницы \n",
    "print(f'символов:{len(text)}\\n---------------\\n'%())\n",
    "print(text[:355])"
   ]
  },
  {
   "cell_type": "code",
   "execution_count": 4,
   "id": "1ca2b8e5",
   "metadata": {},
   "outputs": [
    {
     "name": "stdout",
     "output_type": "stream",
     "text": [
      "nltk version: 3.8.1\n"
     ]
    }
   ],
   "source": [
    "from nltk import __version__ as nltk_version\n",
    "print('nltk version:',nltk_version)"
   ]
  },
  {
   "cell_type": "code",
   "execution_count": 5,
   "id": "9994b8e8",
   "metadata": {},
   "outputs": [],
   "source": [
    "from nltk.tokenize import sent_tokenize as nltk_sentence_split\n",
    "nltk_sentence_split?"
   ]
  },
  {
   "cell_type": "code",
   "execution_count": 6,
   "id": "765735ae",
   "metadata": {},
   "outputs": [
    {
     "data": {
      "application/vnd.jupyter.widget-view+json": {
       "model_id": "43577187df354d6b9dd2c41d7979bf4f",
       "version_major": 2,
       "version_minor": 0
      },
      "text/plain": [
       "  0%|          | 0/14424 [00:00<?, ?it/s]"
      ]
     },
     "metadata": {},
     "output_type": "display_data"
    },
    {
     "name": "stdout",
     "output_type": "stream",
     "text": [
      "предложений: 14424\n",
      "\n"
     ]
    },
    {
     "data": {
      "text/plain": [
       "[['Я',\n",
       "  'выйду',\n",
       "  'на',\n",
       "  'крыльцо',\n",
       "  ',',\n",
       "  'и',\n",
       "  'предположите',\n",
       "  ',',\n",
       "  'что',\n",
       "  'я',\n",
       "  'ничего',\n",
       "  'не',\n",
       "  'понимаю',\n",
       "  'и',\n",
       "  'что',\n",
       "  'я',\n",
       "  'безмерно',\n",
       "  'ниже',\n",
       "  'вас',\n",
       "  'человек',\n",
       "  '.']]"
      ]
     },
     "metadata": {},
     "output_type": "display_data"
    }
   ],
   "source": [
    "from tqdm.auto import tqdm\n",
    "from random import sample\n",
    "\n",
    "from nltk.tokenize import sent_tokenize as nltk_sentence_split\n",
    "from nltk.tokenize import word_tokenize as nltk_tokenize_word\n",
    "\n",
    "sentences = [ \n",
    "    nltk_tokenize_word(s,language='russian') # разбиваем предложения на слова\n",
    "    for s in tqdm(nltk_sentence_split(text,language='russian')) # режем текст на отдельные предложения\n",
    "]\n",
    "\n",
    "print('предложений: %i\\n'%(len(sentences)))\n",
    "display( sample(sentences,1) )"
   ]
  },
  {
   "cell_type": "code",
   "execution_count": 7,
   "id": "8e495cc0",
   "metadata": {},
   "outputs": [],
   "source": [
    "sentences = sentences[:1024*7] # ограничиваем датасет для ускорения процеса "
   ]
  },
  {
   "cell_type": "code",
   "execution_count": 8,
   "id": "e810ef5c",
   "metadata": {},
   "outputs": [
    {
     "name": "stdout",
     "output_type": "stream",
     "text": [
      "CPU times: user 9 µs, sys: 1 µs, total: 10 µs\n",
      "Wall time: 13.1 µs\n"
     ]
    }
   ],
   "source": [
    "%%time\n",
    "\n",
    "from nltk.lm.preprocessing import padded_everygram_pipeline \n",
    "\n",
    "ngram_len = 2\n",
    "\n",
    "# генерируем учебный датасет\n",
    "train, vocab = padded_everygram_pipeline(ngram_len, sentences)"
   ]
  },
  {
   "cell_type": "code",
   "execution_count": 9,
   "id": "d08204f8",
   "metadata": {},
   "outputs": [
    {
     "data": {
      "text/plain": [
       "20961"
      ]
     },
     "metadata": {},
     "output_type": "display_data"
    }
   ],
   "source": [
    "# собираем модель\n",
    "\n",
    "# from nltk.lm import MLE as LangModel \n",
    "from nltk.lm import Laplace as LangModel\n",
    "\n",
    "model = LangModel(ngram_len) \n",
    "model.fit(train, vocab)\n",
    "\n",
    "display(len(model.vocab))"
   ]
  },
  {
   "cell_type": "code",
   "execution_count": 10,
   "id": "309be2c0",
   "metadata": {},
   "outputs": [
    {
     "name": "stdout",
     "output_type": "stream",
     "text": [
      "Объявлялось лицо новое , в котором все ошиблись , лицо почти с ... ['извинениями', ',', 'хотя']\n",
      "\n",
      "Но тут подвернутся Петр Степанович , и стало происходить ... ['нечто', 'нескладное', ',']\n",
      "\n",
      "Но послушай , однако , надо , чтобы не ... ['могла', '...', 'давно']\n",
      "\n",
      "А за вами она спокойна , и я ... ['долго', 'спустя', 'припомнили']\n",
      "\n",
      "Впрочем , я всегда сознавал себя русским ... да настоящий русский и не может быть иначе , ... ['в', 'то', 'сходиться']\n",
      "\n",
      "- так и вскрикнул Степан Трофимович , -- точно его самого вдруг ... ['вдовица', '.', '</s>']\n",
      "\n",
      "Скажите мне : ваш-то заяц пойман ли аль еще ... ['к', 'столу', '.']\n",
      "\n",
      "- Люблю , коли с обществом , кла-сси-чес ... значит , о-бразо-о-ваннейший ... отставной капитан Игнат Лебядкин , к услугам мира и друзей ... ... ['вовсе', 'нет', ',']\n",
      "\n",
      "- Пойдемте , -- сказал он , -- я ... ['завещать', 'мой', 'вопросительный']\n",
      "\n",
      "У Липутина много фантазии , вместо пустяков горы ... ['далеко', 'не', 'откажетесь']\n",
      "\n",
      "Один заметил , что это наилучший исход и что умнее мальчик и не мог ничего выдумать ; другой заключил , что ... ['вы', 'забавлялись', 'моими']\n",
      "\n",
      "Всего более поражало Юлию Михайловну , что он с каждым днем становился молчаливее и , ... ['а', 'о', 'полку']\n",
      "\n",
      "VIII Шатова я не застал дома ; забежал через два часа - ... ['У', 'них', 'дурные']\n",
      "\n",
      "Но вы мне мысль подаете , и коли надо будет , то и я его напою , и именно чтобы разузнать , и может , и разузнаю-с ... ... ['Этот', 'взгляд', 'в']\n",
      "\n",
      "`` Вы , говорит , нарочно выбрали самое последнее существо , калеку , покрытую вечным позором и побоями , -- и вдобавок зная , что это существо умирает к вам от комической любви своей , -- и вдруг вы нарочно принимаетесь ее морочить , ... ['конечно', ',', 'заговорил']\n",
      "\n",
      "Май был в полном расцвете ; вечера стояли ... ['в', 'Б-цах', 'с']\n",
      "\n",
      "- Вашим людям , сударыня , лакею , который подберет ; пусть ... [',', 'не', 'явился']\n",
      "\n",
      "Но главное в том , что кроме кражи совершено было бессмысленное , глумительное кощунство : за разбитым стеклом иконы нашли , ... ['тогда', 'боялись', 'преследований']\n",
      "\n",
      "В оба эти дня , после свиданий , он лежал на диване , обмотав голову платком , намоченным в уксусе ; но ... ['несколько', 'отдалилась', '.']\n",
      "\n",
      "Повторяю , я плохой описатель чувств , но тут ... ['же', 'скверною', 'улыбкой']\n",
      "\n",
      "Остановясь у угла собора , -- ибо у врат стояло множество экипажей и даже жандармы , -- дама соскочила с дрожек ... ['и', 'нахожу', 'от']\n",
      "\n"
     ]
    }
   ],
   "source": [
    "# генерируем продолжения\n",
    "for sentence in sample(sentences,30): # выбираем рандомно 10 предложений\n",
    "    if len(sentence)<10: continue\n",
    "    # берём начало предложения\n",
    "    sentence_ = sentence[:-(len(sentence)//4)]\n",
    "    # генерируем возможные продолжения\n",
    "    result = model.generate(3, text_seed=sentence_) \n",
    "    print(  ' '.join(sentence_)  + ' ... ' + str( result ) + '\\n' )"
   ]
  },
  {
   "cell_type": "code",
   "execution_count": 11,
   "id": "08863bde",
   "metadata": {},
   "outputs": [
    {
     "name": "stdout",
     "output_type": "stream",
     "text": [
      "perplexity: 4032.6262712969137\n"
     ]
    }
   ],
   "source": [
    "# from nltk.util import bigrams\n",
    "from nltk.util import ngrams\n",
    "\n",
    "# оцениваем насколько хорошо модель предсказывает слова из датасета\n",
    "text_ngrams = [ ng for s in sentences for ng in ngrams(s,ngram_len) ]\n",
    "\n",
    "print( 'perplexity:', model.perplexity( text_ngrams ) )"
   ]
  },
  {
   "cell_type": "code",
   "execution_count": 12,
   "id": "29036d7d",
   "metadata": {},
   "outputs": [
    {
     "data": {
      "text/plain": [
       "[('Приступая', 'к'), ('к', 'описанию'), ('описанию', 'недавних')]"
      ]
     },
     "metadata": {},
     "output_type": "display_data"
    }
   ],
   "source": [
    "display( text_ngrams[:3] )"
   ]
  },
  {
   "cell_type": "code",
   "execution_count": null,
   "id": "82488f46",
   "metadata": {},
   "outputs": [],
   "source": []
  }
 ],
 "metadata": {
  "kernelspec": {
   "display_name": "Python 3 (ipykernel)",
   "language": "python",
   "name": "python3"
  },
  "language_info": {
   "codemirror_mode": {
    "name": "ipython",
    "version": 3
   },
   "file_extension": ".py",
   "mimetype": "text/x-python",
   "name": "python",
   "nbconvert_exporter": "python",
   "pygments_lexer": "ipython3",
   "version": "3.11.7"
  },
  "toc": {
   "base_numbering": 1,
   "nav_menu": {},
   "number_sections": true,
   "sideBar": true,
   "skip_h1_title": false,
   "title_cell": "Table of Contents",
   "title_sidebar": "Contents",
   "toc_cell": false,
   "toc_position": {},
   "toc_section_display": true,
   "toc_window_display": false
  }
 },
 "nbformat": 4,
 "nbformat_minor": 5
}
