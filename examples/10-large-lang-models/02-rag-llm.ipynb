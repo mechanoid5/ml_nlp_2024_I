{
 "cells": [
  {
   "cell_type": "markdown",
   "metadata": {},
   "source": [
    "Русский LLM-помощник (saiga) с кэшем, используя RAG (Retrieval-Augmented Generation)    \n",
    "https://habr.com/ru/articles/769124/"
   ]
  },
  {
   "cell_type": "markdown",
   "metadata": {},
   "source": [
    "https://github.com/akocherovskiy/LLM_chat-bot_RAG_approach"
   ]
  },
  {
   "cell_type": "code",
   "execution_count": 1,
   "metadata": {
    "id": "rV82zQOFiITd"
   },
   "outputs": [],
   "source": [
    "# !pip install peft transformers langchain sentencepiece"
   ]
  },
  {
   "cell_type": "code",
   "execution_count": 2,
   "metadata": {
    "id": "5HtvtHN-h71E"
   },
   "outputs": [],
   "source": [
    "import torch"
   ]
  },
  {
   "cell_type": "code",
   "execution_count": 3,
   "metadata": {},
   "outputs": [],
   "source": [
    "torch.backends.cuda.enable_mem_efficient_sdp(False)\n",
    "torch.backends.cuda.enable_flash_sdp(False)"
   ]
  },
  {
   "cell_type": "code",
   "execution_count": 4,
   "metadata": {},
   "outputs": [
    {
     "data": {
      "text/plain": [
       "'Tesla P40'"
      ]
     },
     "metadata": {},
     "output_type": "display_data"
    }
   ],
   "source": [
    "assert torch.cuda.is_available()\n",
    "display( torch.cuda.get_device_name() )\n",
    "device = torch.device('cuda:0')"
   ]
  },
  {
   "cell_type": "code",
   "execution_count": 5,
   "metadata": {
    "id": "QNVYVQxgiPzh"
   },
   "outputs": [],
   "source": [
    "adapt_model_name = 'IlyaGusev/saiga_mistral_7b_lora'\n",
    "base_model_name = 'Open-Orca/Mistral-7B-OpenOrca'"
   ]
  },
  {
   "cell_type": "code",
   "execution_count": 6,
   "metadata": {
    "id": "QNVYVQxgiPzh"
   },
   "outputs": [
    {
     "name": "stderr",
     "output_type": "stream",
     "text": [
      "Special tokens have been added in the vocabulary, make sure the associated word embeddings are fine-tuned or trained.\n",
      "Special tokens have been added in the vocabulary, make sure the associated word embeddings are fine-tuned or trained.\n"
     ]
    },
    {
     "data": {
      "application/vnd.jupyter.widget-view+json": {
       "model_id": "552ea35522b64e31a5d8a382689ffb2f",
       "version_major": 2,
       "version_minor": 0
      },
      "text/plain": [
       "Loading checkpoint shards:   0%|          | 0/2 [00:00<?, ?it/s]"
      ]
     },
     "metadata": {},
     "output_type": "display_data"
    },
    {
     "name": "stderr",
     "output_type": "stream",
     "text": [
      "Special tokens have been added in the vocabulary, make sure the associated word embeddings are fine-tuned or trained.\n",
      "Special tokens have been added in the vocabulary, make sure the associated word embeddings are fine-tuned or trained.\n"
     ]
    }
   ],
   "source": [
    "from peft import AutoPeftModelForCausalLM\n",
    "from transformers import AutoTokenizer, AutoModel\n",
    "\n",
    "tokenizer = AutoTokenizer.from_pretrained(base_model_name, trust_remote_code=True)\n",
    "tokenizer.pad_token = tokenizer.eos_token\n",
    "\n",
    "model = AutoPeftModelForCausalLM.from_pretrained(\n",
    "        adapt_model_name, \n",
    "        torch_dtype=torch.bfloat16\n",
    "    )"
   ]
  },
  {
   "cell_type": "code",
   "execution_count": null,
   "metadata": {},
   "outputs": [],
   "source": [
    "model = model.to(device)    "
   ]
  },
  {
   "cell_type": "code",
   "execution_count": 7,
   "metadata": {},
   "outputs": [],
   "source": [
    "info = (\n",
    "'Небольшой свечной завод, расположенный по адресу ул. Ленина 22, '\n",
    "'находится в городе Градск. Доехать до завода от центрального автовокзала '\n",
    "'можно на автобусе номер 666. Завод специализируется на производстве свечей '\n",
    "'различных размеров и форм. Открытая вакансия: Производственный работник - '\n",
    "'зарплата 150 тысяч рублей в месяц. Требования: 6 разряд свечника, 25 лет опыта. '\n",
    "'Претендент на работу должен заполнить анкету, предоставить резюме, пройти собеседование '\n",
    "'с представителями компании. Для работников завода предусмотрены следующие бонусы: '\n",
    "'Медицинское страхование, Абонемент в бассейн. Завод активно проводит праздничные мероприятия и игры. '\n",
    ")\n"
   ]
  },
  {
   "cell_type": "code",
   "execution_count": 8,
   "metadata": {},
   "outputs": [],
   "source": [
    "template = info+'{question}\\nbot: Вот ответ на ваш вопрос длиной не более 10 слов:'"
   ]
  },
  {
   "cell_type": "code",
   "execution_count": 9,
   "metadata": {
    "id": "7PFjppzri2Eu"
   },
   "outputs": [],
   "source": [
    "def get_answer(info_prompt, question,device=device):\n",
    "    prompt = info_prompt.format(question=question)\n",
    "    inputs = tokenizer(prompt, return_tensors='pt').to(device)\n",
    "    outputs = model.generate(\n",
    "            input_ids=inputs[\"input_ids\"].to(device),\n",
    "            top_p=0.5,\n",
    "            temperature=0.3,\n",
    "            attention_mask=inputs[\"attention_mask\"],\n",
    "            max_new_tokens=100,\n",
    "            pad_token_id=tokenizer.eos_token_id,\n",
    "            do_sample=True\n",
    "        )\n",
    "\n",
    "    output = tokenizer.decode(outputs[0], skip_special_tokens=True)\n",
    "\n",
    "    parsed_answer = output.split(\"Вот ответ на ваш вопрос длиной не более 10 слов:\")[1].strip()\n",
    "    if 'bot:' in parsed_answer: parsed_answer = parsed_answer.split(\"bot:\")[0].strip()\n",
    "    return parsed_answer"
   ]
  },
  {
   "cell_type": "code",
   "execution_count": 10,
   "metadata": {
    "id": "dZNTfRp9iPen"
   },
   "outputs": [],
   "source": [
    "questions = [\n",
    "\"Какой адрес вашей компании?\",\n",
    "\"Где находится офис вашей компании?\",\n",
    "\"Где точно находится офис вашей компании?\",\n",
    "# \"Как добраться до офиса вашей компании?\",\n",
    "\"Что производит ваша компания?\",\n",
    "\"Какую продукцию производит ваша компания?\",\n",
    "\"Что именно производит ваша компания?\",\n",
    "#\"Какие работники вам нужны?\",\n",
    "\"Какие должности вы ищете?\",\n",
    "\"Какие работники вам нужны в данный момент?\",\n",
    "\"Какие специалисты вам требуются?\",\n",
    "#\"Какие специалисты вам необходимы?\",\n",
    "\"Какими навыками и умениями должен обладать специалист?\",\n",
    "#\"Какие компетенции и знания необходимы специалисту?\",\n",
    "\"Какими навыками и качествами должен владеть специалист?\",\n",
    "#\"Какие специфические умения и опыт требуются у специалиста?\",\n",
    "# \"Сколько платят на этой должности?\",\n",
    "# \"Какова зарплата для этой должности?\",\n",
    "# \"Какая заработная плата предлагается?\",\n",
    "# \"Какие условия оплаты?\",\n",
    "# \"Какие варианты и размеры заработной платы доступны для этой должности?\",\n",
    "# \"Какая зарплата ожидается для новых сотрудников на этой позиции?\",\n",
    "\"Как можно устроиться к вам на работу?\",\n",
    "# \"Как устроиться к вам на работу?\"\n",
    "#\"Какой процесс приема на работу?\",\n",
    "# \"Как я могу подать заявку на работу к вам в компанию?\",\n",
    "# \"Какие шаги мне нужно предпринять, чтобы устроиться к вам на завод?\",\n",
    "# \"Что сделать, чтобы устроиться к вам на завод?\",\n",
    "# \"Какие дополнительные бонусы и привилегии предоставляются?\",\n",
    "# \"Какие бонусы и вознаграждения доступны для сотрудников?\",\n",
    "# \"Какие бонусные программы предоставляются?\",\n",
    "# \"Какие дополнительные бонусы и предлагаются?\"\n",
    "]"
   ]
  },
  {
   "cell_type": "code",
   "execution_count": 11,
   "metadata": {
    "id": "L1DroE9qj17I"
   },
   "outputs": [],
   "source": [
    "from langchain.prompts import PromptTemplate\n",
    "info_prompt = PromptTemplate.from_template(template)"
   ]
  },
  {
   "cell_type": "code",
   "execution_count": 12,
   "metadata": {},
   "outputs": [],
   "source": [
    "import time"
   ]
  },
  {
   "cell_type": "code",
   "execution_count": 13,
   "metadata": {
    "colab": {
     "base_uri": "https://localhost:8080/"
    },
    "id": "z8adHFabktis",
    "outputId": "d00a6742-2e0a-4745-faef-952828cfdf0c"
   },
   "outputs": [
    {
     "name": "stdout",
     "output_type": "stream",
     "text": [
      "Какой адрес вашей компании?\n",
      "MODEL: ул. Ленина 22, Градск.   [time: 7.9 seconds]\n",
      "\n",
      "\n",
      "Где находится офис вашей компании?\n",
      "MODEL: ул. Ленина 22, Градск.   [time: 7.5 seconds]\n",
      "\n",
      "\n",
      "Где точно находится офис вашей компании?\n",
      "MODEL: ул. Ленина 22, Градск.   [time: 7.5 seconds]\n",
      "\n",
      "\n",
      "Что производит ваша компания?\n",
      "MODEL: свечи различных размеров и форм.   [time: 7.5 seconds]\n",
      "\n",
      "\n",
      "Какую продукцию производит ваша компания?\n",
      "MODEL: свечи разных размеров и форм.   [time: 7.5 seconds]\n",
      "\n",
      "\n",
      "Что именно производит ваша компания?\n",
      "MODEL: свечи разных размеров и форм.   [time: 7.5 seconds]\n",
      "\n",
      "\n",
      "Какие должности вы ищете?\n",
      "MODEL: Производственный работник.   [time: 7.5 seconds]\n",
      "\n",
      "\n",
      "Какие работники вам нужны в данный момент?\n",
      "MODEL: Производственный работник.   [time: 7.5 seconds]\n",
      "\n",
      "\n",
      "Какие специалисты вам требуются?\n",
      "MODEL: Продавец свечей, мастер по ремонту свечей, продавец свечей.   [time: 7.5 seconds]\n",
      "\n",
      "\n",
      "Какими навыками и умениями должен обладать специалист?\n",
      "MODEL: Свечник, 6 разряд, 25 лет опыта.   [time: 7.5 seconds]\n",
      "\n",
      "\n",
      "Какими навыками и качествами должен владеть специалист?\n",
      "MODEL: - 6 разряд свечник, 25 лет опыта.   [time: 7.5 seconds]\n",
      "\n",
      "\n",
      "Как можно устроиться к вам на работу?\n",
      "MODEL: Заполните анкету и предоставьте резюме.   [time: 7.5 seconds]\n",
      "\n",
      "\n"
     ]
    }
   ],
   "source": [
    "# Find the index of the maximum value\n",
    "for q in questions:\n",
    "    print(q)\n",
    "    start_time = time.time()\n",
    "    answer = get_answer(info_prompt, q)\n",
    "    time_s = (\"[time: %.1f seconds]\" % (time.time() - start_time))\n",
    "    print(f'MODEL: {answer}   {time_s}\\n\\n')"
   ]
  },
  {
   "cell_type": "code",
   "execution_count": null,
   "metadata": {},
   "outputs": [],
   "source": []
  }
 ],
 "metadata": {
  "accelerator": "GPU",
  "colab": {
   "gpuType": "T4",
   "provenance": []
  },
  "kernelspec": {
   "display_name": "Python 3 (ipykernel)",
   "language": "python",
   "name": "python3"
  },
  "language_info": {
   "codemirror_mode": {
    "name": "ipython",
    "version": 3
   },
   "file_extension": ".py",
   "mimetype": "text/x-python",
   "name": "python",
   "nbconvert_exporter": "python",
   "pygments_lexer": "ipython3",
   "version": "3.11.7"
  }
 },
 "nbformat": 4,
 "nbformat_minor": 1
}
